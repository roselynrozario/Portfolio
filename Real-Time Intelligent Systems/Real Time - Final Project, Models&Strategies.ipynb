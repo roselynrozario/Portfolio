{
 "cells": [
  {
   "cell_type": "markdown",
   "metadata": {
    "id": "QygYTHPLiyTJ"
   },
   "source": [
    "# Real Time Intelligent Systems\n",
    "## Final Project - Models/Strategies\n",
    "### Roselyn R., Aashai A., Alberto B., Jaelynn K."
   ]
  },
  {
   "cell_type": "markdown",
   "metadata": {
    "id": "jfQdLXrAjKr2"
   },
   "source": [
    "Creating a financial stock trading system that helps inform decisions for those that invest in stocks through a three-prong approach: real-time forecasting, event-driven trading simulation, and risk management."
   ]
  },
  {
   "cell_type": "markdown",
   "metadata": {
    "colab_type": "toc",
    "id": "1peWQTySCsHh"
   },
   "source": [
    ">[Packages](#scrollTo=kJSM7vpKUc2d)\n",
    "\n",
    ">[Alpaca API Setup](#scrollTo=zkDLmMPiUZXq)\n",
    "\n",
    ">[Alpaca Account Information](#scrollTo=vB89ikoTYpXs)\n",
    "\n",
    ">[Historical Data](#scrollTo=RLyBGJpcZE0H)\n",
    "\n",
    ">[Data for Strategies](#scrollTo=bGmqPkIzii_B)\n",
    "\n",
    ">[Strategy 1: Real Time Forecasting](#scrollTo=TGFhvs9yhEyS)\n",
    "\n",
    ">>[ARIMA](#scrollTo=GT5NKqI0fWbv)\n",
    "\n",
    ">>[RNN](#scrollTo=nvAK33ZqkB34)\n",
    "\n",
    ">>[Ensemble Model: ARIMA + RNN](#scrollTo=Ae6dKN3YQQiP)\n",
    "\n",
    ">[Strategy 2: Event-Driven Trading Simulation](#scrollTo=nUU97-7svKnK)\n",
    "\n",
    ">[Strategy 3: Risk Management](#scrollTo=OdHsI1u-vrMz)\n",
    "\n",
    ">>[Measure Stock Tendencies to Reach a “Volatile Behavior” 30 Days after the Inference Point to Determine Risk of Each Stock](#scrollTo=X98l0Rk5ZLBy)\n",
    "\n",
    ">>[Value at Risk for Each Symbol](#scrollTo=C-bWYo-nYpBP)\n",
    "\n",
    ">[Chosen Model and Stock](#scrollTo=6dlj-Mz5GRx6)\n",
    "\n",
    ">>[Save Model](#scrollTo=JmrDFnY0KZmt)\n",
    "\n",
    ">[Backtesting](#scrollTo=upVbrwVZpjWh)\n",
    "\n",
    ">[References](#scrollTo=TeBB9yoSHBni)\n",
    "\n"
   ]
  },
  {
   "cell_type": "markdown",
   "metadata": {
    "id": "kJSM7vpKUc2d"
   },
   "source": [
    "## **Packages**"
   ]
  },
  {
   "cell_type": "code",
   "execution_count": 1,
   "metadata": {
    "colab": {
     "base_uri": "https://localhost:8080/"
    },
    "executionInfo": {
     "elapsed": 67258,
     "status": "ok",
     "timestamp": 1717255699240,
     "user": {
      "displayName": "Alberto Bermea Trevino",
      "userId": "18219897344377314048"
     },
     "user_tz": 300
    },
    "id": "-ScXD99-en8E",
    "outputId": "efe51193-ade1-4143-9c7d-406d6f809d52"
   },
   "outputs": [
    {
     "name": "stdout",
     "output_type": "stream",
     "text": [
      "Collecting alpaca-py\n",
      "  Downloading alpaca_py-0.22.0-py3-none-any.whl (111 kB)\n",
      "\u001b[2K     \u001b[90m━━━━━━━━━━━━━━━━━━━━━━━━━━━━━━━━━━━━━━━━\u001b[0m \u001b[32m111.9/111.9 kB\u001b[0m \u001b[31m773.9 kB/s\u001b[0m eta \u001b[36m0:00:00\u001b[0m\n",
      "\u001b[?25hRequirement already satisfied: msgpack<2.0.0,>=1.0.3 in /usr/local/lib/python3.10/dist-packages (from alpaca-py) (1.0.8)\n",
      "Requirement already satisfied: pandas>=1.5.3 in /usr/local/lib/python3.10/dist-packages (from alpaca-py) (2.0.3)\n",
      "Requirement already satisfied: pydantic<3.0.0,>=2.0.3 in /usr/local/lib/python3.10/dist-packages (from alpaca-py) (2.7.1)\n",
      "Requirement already satisfied: requests<3.0.0,>=2.30.0 in /usr/local/lib/python3.10/dist-packages (from alpaca-py) (2.31.0)\n",
      "Collecting sseclient-py<2.0.0,>=1.7.2 (from alpaca-py)\n",
      "  Downloading sseclient_py-1.8.0-py2.py3-none-any.whl (8.8 kB)\n",
      "Collecting websockets>=10.4 (from alpaca-py)\n",
      "  Downloading websockets-12.0-cp310-cp310-manylinux_2_5_x86_64.manylinux1_x86_64.manylinux_2_17_x86_64.manylinux2014_x86_64.whl (130 kB)\n",
      "\u001b[2K     \u001b[90m━━━━━━━━━━━━━━━━━━━━━━━━━━━━━━━━━━━━━━━━\u001b[0m \u001b[32m130.2/130.2 kB\u001b[0m \u001b[31m1.8 MB/s\u001b[0m eta \u001b[36m0:00:00\u001b[0m\n",
      "\u001b[?25hRequirement already satisfied: python-dateutil>=2.8.2 in /usr/local/lib/python3.10/dist-packages (from pandas>=1.5.3->alpaca-py) (2.8.2)\n",
      "Requirement already satisfied: pytz>=2020.1 in /usr/local/lib/python3.10/dist-packages (from pandas>=1.5.3->alpaca-py) (2023.4)\n",
      "Requirement already satisfied: tzdata>=2022.1 in /usr/local/lib/python3.10/dist-packages (from pandas>=1.5.3->alpaca-py) (2024.1)\n",
      "Requirement already satisfied: numpy>=1.21.0 in /usr/local/lib/python3.10/dist-packages (from pandas>=1.5.3->alpaca-py) (1.25.2)\n",
      "Requirement already satisfied: annotated-types>=0.4.0 in /usr/local/lib/python3.10/dist-packages (from pydantic<3.0.0,>=2.0.3->alpaca-py) (0.7.0)\n",
      "Requirement already satisfied: pydantic-core==2.18.2 in /usr/local/lib/python3.10/dist-packages (from pydantic<3.0.0,>=2.0.3->alpaca-py) (2.18.2)\n",
      "Requirement already satisfied: typing-extensions>=4.6.1 in /usr/local/lib/python3.10/dist-packages (from pydantic<3.0.0,>=2.0.3->alpaca-py) (4.11.0)\n",
      "Requirement already satisfied: charset-normalizer<4,>=2 in /usr/local/lib/python3.10/dist-packages (from requests<3.0.0,>=2.30.0->alpaca-py) (3.3.2)\n",
      "Requirement already satisfied: idna<4,>=2.5 in /usr/local/lib/python3.10/dist-packages (from requests<3.0.0,>=2.30.0->alpaca-py) (3.7)\n",
      "Requirement already satisfied: urllib3<3,>=1.21.1 in /usr/local/lib/python3.10/dist-packages (from requests<3.0.0,>=2.30.0->alpaca-py) (2.0.7)\n",
      "Requirement already satisfied: certifi>=2017.4.17 in /usr/local/lib/python3.10/dist-packages (from requests<3.0.0,>=2.30.0->alpaca-py) (2024.2.2)\n",
      "Requirement already satisfied: six>=1.5 in /usr/local/lib/python3.10/dist-packages (from python-dateutil>=2.8.2->pandas>=1.5.3->alpaca-py) (1.16.0)\n",
      "Installing collected packages: sseclient-py, websockets, alpaca-py\n",
      "Successfully installed alpaca-py-0.22.0 sseclient-py-1.8.0 websockets-12.0\n",
      "Collecting alpaca-trade-api\n",
      "  Downloading alpaca_trade_api-3.2.0-py3-none-any.whl (34 kB)\n",
      "Requirement already satisfied: pandas>=0.18.1 in /usr/local/lib/python3.10/dist-packages (from alpaca-trade-api) (2.0.3)\n",
      "Requirement already satisfied: numpy>=1.11.1 in /usr/local/lib/python3.10/dist-packages (from alpaca-trade-api) (1.25.2)\n",
      "Requirement already satisfied: requests<3,>2 in /usr/local/lib/python3.10/dist-packages (from alpaca-trade-api) (2.31.0)\n",
      "Collecting urllib3<2,>1.24 (from alpaca-trade-api)\n",
      "  Downloading urllib3-1.26.18-py2.py3-none-any.whl (143 kB)\n",
      "\u001b[2K     \u001b[90m━━━━━━━━━━━━━━━━━━━━━━━━━━━━━━━━━━━━━━━━\u001b[0m \u001b[32m143.8/143.8 kB\u001b[0m \u001b[31m1.8 MB/s\u001b[0m eta \u001b[36m0:00:00\u001b[0m\n",
      "\u001b[?25hRequirement already satisfied: websocket-client<2,>=0.56.0 in /usr/local/lib/python3.10/dist-packages (from alpaca-trade-api) (1.8.0)\n",
      "Collecting websockets<11,>=9.0 (from alpaca-trade-api)\n",
      "  Downloading websockets-10.4-cp310-cp310-manylinux_2_5_x86_64.manylinux1_x86_64.manylinux_2_17_x86_64.manylinux2014_x86_64.whl (106 kB)\n",
      "\u001b[2K     \u001b[90m━━━━━━━━━━━━━━━━━━━━━━━━━━━━━━━━━━━━━━━━\u001b[0m \u001b[32m106.8/106.8 kB\u001b[0m \u001b[31m7.6 MB/s\u001b[0m eta \u001b[36m0:00:00\u001b[0m\n",
      "\u001b[?25hCollecting msgpack==1.0.3 (from alpaca-trade-api)\n",
      "  Downloading msgpack-1.0.3-cp310-cp310-manylinux_2_17_x86_64.manylinux2014_x86_64.whl (323 kB)\n",
      "\u001b[2K     \u001b[90m━━━━━━━━━━━━━━━━━━━━━━━━━━━━━━━━━━━━━━━━\u001b[0m \u001b[32m323.7/323.7 kB\u001b[0m \u001b[31m5.0 MB/s\u001b[0m eta \u001b[36m0:00:00\u001b[0m\n",
      "\u001b[?25hRequirement already satisfied: aiohttp<4,>=3.8.3 in /usr/local/lib/python3.10/dist-packages (from alpaca-trade-api) (3.9.5)\n",
      "Requirement already satisfied: PyYAML==6.0.1 in /usr/local/lib/python3.10/dist-packages (from alpaca-trade-api) (6.0.1)\n",
      "Collecting deprecation==2.1.0 (from alpaca-trade-api)\n",
      "  Downloading deprecation-2.1.0-py2.py3-none-any.whl (11 kB)\n",
      "Requirement already satisfied: packaging in /usr/local/lib/python3.10/dist-packages (from deprecation==2.1.0->alpaca-trade-api) (24.0)\n",
      "Requirement already satisfied: aiosignal>=1.1.2 in /usr/local/lib/python3.10/dist-packages (from aiohttp<4,>=3.8.3->alpaca-trade-api) (1.3.1)\n",
      "Requirement already satisfied: attrs>=17.3.0 in /usr/local/lib/python3.10/dist-packages (from aiohttp<4,>=3.8.3->alpaca-trade-api) (23.2.0)\n",
      "Requirement already satisfied: frozenlist>=1.1.1 in /usr/local/lib/python3.10/dist-packages (from aiohttp<4,>=3.8.3->alpaca-trade-api) (1.4.1)\n",
      "Requirement already satisfied: multidict<7.0,>=4.5 in /usr/local/lib/python3.10/dist-packages (from aiohttp<4,>=3.8.3->alpaca-trade-api) (6.0.5)\n",
      "Requirement already satisfied: yarl<2.0,>=1.0 in /usr/local/lib/python3.10/dist-packages (from aiohttp<4,>=3.8.3->alpaca-trade-api) (1.9.4)\n",
      "Requirement already satisfied: async-timeout<5.0,>=4.0 in /usr/local/lib/python3.10/dist-packages (from aiohttp<4,>=3.8.3->alpaca-trade-api) (4.0.3)\n",
      "Requirement already satisfied: python-dateutil>=2.8.2 in /usr/local/lib/python3.10/dist-packages (from pandas>=0.18.1->alpaca-trade-api) (2.8.2)\n",
      "Requirement already satisfied: pytz>=2020.1 in /usr/local/lib/python3.10/dist-packages (from pandas>=0.18.1->alpaca-trade-api) (2023.4)\n",
      "Requirement already satisfied: tzdata>=2022.1 in /usr/local/lib/python3.10/dist-packages (from pandas>=0.18.1->alpaca-trade-api) (2024.1)\n",
      "Requirement already satisfied: charset-normalizer<4,>=2 in /usr/local/lib/python3.10/dist-packages (from requests<3,>2->alpaca-trade-api) (3.3.2)\n",
      "Requirement already satisfied: idna<4,>=2.5 in /usr/local/lib/python3.10/dist-packages (from requests<3,>2->alpaca-trade-api) (3.7)\n",
      "Requirement already satisfied: certifi>=2017.4.17 in /usr/local/lib/python3.10/dist-packages (from requests<3,>2->alpaca-trade-api) (2024.2.2)\n",
      "Requirement already satisfied: six>=1.5 in /usr/local/lib/python3.10/dist-packages (from python-dateutil>=2.8.2->pandas>=0.18.1->alpaca-trade-api) (1.16.0)\n",
      "Installing collected packages: msgpack, websockets, urllib3, deprecation, alpaca-trade-api\n",
      "  Attempting uninstall: msgpack\n",
      "    Found existing installation: msgpack 1.0.8\n",
      "    Uninstalling msgpack-1.0.8:\n",
      "      Successfully uninstalled msgpack-1.0.8\n",
      "  Attempting uninstall: websockets\n",
      "    Found existing installation: websockets 12.0\n",
      "    Uninstalling websockets-12.0:\n",
      "      Successfully uninstalled websockets-12.0\n",
      "  Attempting uninstall: urllib3\n",
      "    Found existing installation: urllib3 2.0.7\n",
      "    Uninstalling urllib3-2.0.7:\n",
      "      Successfully uninstalled urllib3-2.0.7\n",
      "Successfully installed alpaca-trade-api-3.2.0 deprecation-2.1.0 msgpack-1.0.3 urllib3-1.26.18 websockets-10.4\n",
      "Requirement already satisfied: transformers in /usr/local/lib/python3.10/dist-packages (4.41.1)\n",
      "Requirement already satisfied: filelock in /usr/local/lib/python3.10/dist-packages (from transformers) (3.14.0)\n",
      "Requirement already satisfied: huggingface-hub<1.0,>=0.23.0 in /usr/local/lib/python3.10/dist-packages (from transformers) (0.23.1)\n",
      "Requirement already satisfied: numpy>=1.17 in /usr/local/lib/python3.10/dist-packages (from transformers) (1.25.2)\n",
      "Requirement already satisfied: packaging>=20.0 in /usr/local/lib/python3.10/dist-packages (from transformers) (24.0)\n",
      "Requirement already satisfied: pyyaml>=5.1 in /usr/local/lib/python3.10/dist-packages (from transformers) (6.0.1)\n",
      "Requirement already satisfied: regex!=2019.12.17 in /usr/local/lib/python3.10/dist-packages (from transformers) (2024.5.15)\n",
      "Requirement already satisfied: requests in /usr/local/lib/python3.10/dist-packages (from transformers) (2.31.0)\n",
      "Requirement already satisfied: tokenizers<0.20,>=0.19 in /usr/local/lib/python3.10/dist-packages (from transformers) (0.19.1)\n",
      "Requirement already satisfied: safetensors>=0.4.1 in /usr/local/lib/python3.10/dist-packages (from transformers) (0.4.3)\n",
      "Requirement already satisfied: tqdm>=4.27 in /usr/local/lib/python3.10/dist-packages (from transformers) (4.66.4)\n",
      "Requirement already satisfied: fsspec>=2023.5.0 in /usr/local/lib/python3.10/dist-packages (from huggingface-hub<1.0,>=0.23.0->transformers) (2023.6.0)\n",
      "Requirement already satisfied: typing-extensions>=3.7.4.3 in /usr/local/lib/python3.10/dist-packages (from huggingface-hub<1.0,>=0.23.0->transformers) (4.11.0)\n",
      "Requirement already satisfied: charset-normalizer<4,>=2 in /usr/local/lib/python3.10/dist-packages (from requests->transformers) (3.3.2)\n",
      "Requirement already satisfied: idna<4,>=2.5 in /usr/local/lib/python3.10/dist-packages (from requests->transformers) (3.7)\n",
      "Requirement already satisfied: urllib3<3,>=1.21.1 in /usr/local/lib/python3.10/dist-packages (from requests->transformers) (1.26.18)\n",
      "Requirement already satisfied: certifi>=2017.4.17 in /usr/local/lib/python3.10/dist-packages (from requests->transformers) (2024.2.2)\n",
      "Collecting pmdarima\n",
      "  Downloading pmdarima-2.0.4-cp310-cp310-manylinux_2_17_x86_64.manylinux2014_x86_64.manylinux_2_28_x86_64.whl (2.1 MB)\n",
      "\u001b[2K     \u001b[90m━━━━━━━━━━━━━━━━━━━━━━━━━━━━━━━━━━━━━━━━\u001b[0m \u001b[32m2.1/2.1 MB\u001b[0m \u001b[31m9.6 MB/s\u001b[0m eta \u001b[36m0:00:00\u001b[0m\n",
      "\u001b[?25hRequirement already satisfied: joblib>=0.11 in /usr/local/lib/python3.10/dist-packages (from pmdarima) (1.4.2)\n",
      "Requirement already satisfied: Cython!=0.29.18,!=0.29.31,>=0.29 in /usr/local/lib/python3.10/dist-packages (from pmdarima) (3.0.10)\n",
      "Requirement already satisfied: numpy>=1.21.2 in /usr/local/lib/python3.10/dist-packages (from pmdarima) (1.25.2)\n",
      "Requirement already satisfied: pandas>=0.19 in /usr/local/lib/python3.10/dist-packages (from pmdarima) (2.0.3)\n",
      "Requirement already satisfied: scikit-learn>=0.22 in /usr/local/lib/python3.10/dist-packages (from pmdarima) (1.2.2)\n",
      "Requirement already satisfied: scipy>=1.3.2 in /usr/local/lib/python3.10/dist-packages (from pmdarima) (1.11.4)\n",
      "Requirement already satisfied: statsmodels>=0.13.2 in /usr/local/lib/python3.10/dist-packages (from pmdarima) (0.14.2)\n",
      "Requirement already satisfied: urllib3 in /usr/local/lib/python3.10/dist-packages (from pmdarima) (1.26.18)\n",
      "Requirement already satisfied: setuptools!=50.0.0,>=38.6.0 in /usr/local/lib/python3.10/dist-packages (from pmdarima) (67.7.2)\n",
      "Requirement already satisfied: packaging>=17.1 in /usr/local/lib/python3.10/dist-packages (from pmdarima) (24.0)\n",
      "Requirement already satisfied: python-dateutil>=2.8.2 in /usr/local/lib/python3.10/dist-packages (from pandas>=0.19->pmdarima) (2.8.2)\n",
      "Requirement already satisfied: pytz>=2020.1 in /usr/local/lib/python3.10/dist-packages (from pandas>=0.19->pmdarima) (2023.4)\n",
      "Requirement already satisfied: tzdata>=2022.1 in /usr/local/lib/python3.10/dist-packages (from pandas>=0.19->pmdarima) (2024.1)\n",
      "Requirement already satisfied: threadpoolctl>=2.0.0 in /usr/local/lib/python3.10/dist-packages (from scikit-learn>=0.22->pmdarima) (3.5.0)\n",
      "Requirement already satisfied: patsy>=0.5.6 in /usr/local/lib/python3.10/dist-packages (from statsmodels>=0.13.2->pmdarima) (0.5.6)\n",
      "Requirement already satisfied: six in /usr/local/lib/python3.10/dist-packages (from patsy>=0.5.6->statsmodels>=0.13.2->pmdarima) (1.16.0)\n",
      "Installing collected packages: pmdarima\n",
      "Successfully installed pmdarima-2.0.4\n"
     ]
    }
   ],
   "source": [
    "# Alpaca\n",
    "!pip install alpaca-py\n",
    "!pip install alpaca-trade-api\n",
    "\n",
    "# Sentiment Analysis\n",
    "!pip install transformers\n",
    "\n",
    "# ARIMA Helper\n",
    "!pip install pmdarima"
   ]
  },
  {
   "cell_type": "code",
   "execution_count": 2,
   "metadata": {
    "executionInfo": {
     "elapsed": 26124,
     "status": "ok",
     "timestamp": 1717255725359,
     "user": {
      "displayName": "Alberto Bermea Trevino",
      "userId": "18219897344377314048"
     },
     "user_tz": 300
    },
    "id": "d8INtILNRx0x"
   },
   "outputs": [],
   "source": [
    "import pandas as pd\n",
    "import numpy as np\n",
    "import matplotlib.pyplot as plt\n",
    "\n",
    "# Alpaca\n",
    "import requests\n",
    "import json\n",
    "import alpaca_trade_api as tradeapi\n",
    "from alpaca_trade_api import REST, Stream\n",
    "from alpaca.data.timeframe import TimeFrame\n",
    "from alpaca.data.requests import StockBarsRequest\n",
    "from alpaca.data.historical import StockHistoricalDataClient\n",
    "\n",
    "# Strategies\n",
    "import time\n",
    "import random\n",
    "import os\n",
    "from math import sqrt\n",
    "import tensorflow as tf\n",
    "from statsmodels.tsa.arima.model import ARIMA\n",
    "from sklearn.metrics import mean_squared_error, accuracy_score, roc_curve\n",
    "from transformers import pipeline\n",
    "from sklearn.model_selection import train_test_split\n",
    "from tensorflow.keras.optimizers import Adam\n",
    "from tensorflow.keras.preprocessing.text import Tokenizer\n",
    "from tensorflow.keras.preprocessing.sequence import pad_sequences\n",
    "from tensorflow.keras.callbacks import EarlyStopping, LearningRateScheduler\n",
    "from tensorflow.keras.models import Sequential\n",
    "from tensorflow.keras.layers import LSTM, Dense, BatchNormalization, Dropout\n",
    "from tensorflow.keras import regularizers\n",
    "\n",
    "# Google\n",
    "from google.colab import userdata\n",
    "from google.colab import drive\n",
    "\n",
    "# Warnings\n",
    "import warnings\n",
    "warnings.filterwarnings('ignore')"
   ]
  },
  {
   "cell_type": "markdown",
   "metadata": {
    "id": "zkDLmMPiUZXq"
   },
   "source": [
    "## **Alpaca API Setup**"
   ]
  },
  {
   "cell_type": "code",
   "execution_count": 4,
   "metadata": {
    "executionInfo": {
     "elapsed": 760,
     "status": "ok",
     "timestamp": 1717255836311,
     "user": {
      "displayName": "Alberto Bermea Trevino",
      "userId": "18219897344377314048"
     },
     "user_tz": 300
    },
    "id": "0traCgIfOoFL"
   },
   "outputs": [],
   "source": [
    "API_KEY = userdata.get('API_KEY')\n",
    "SECRET_KEY = userdata.get('SECRET_KEY')"
   ]
  },
  {
   "cell_type": "code",
   "execution_count": 5,
   "metadata": {
    "executionInfo": {
     "elapsed": 189,
     "status": "ok",
     "timestamp": 1717255839150,
     "user": {
      "displayName": "Alberto Bermea Trevino",
      "userId": "18219897344377314048"
     },
     "user_tz": 300
    },
    "id": "XD0PgYSGQ0rG"
   },
   "outputs": [],
   "source": [
    "BASE_URL = \"https://paper-api.alpaca.markets\"\n",
    "HISTORICAL_URL = 'https://data.alpaca.markets/v2/stocks/{symbol}/bars'\n",
    "NEWS_URL = 'https://data.alpaca.markets/v1beta1/news'\n",
    "ACCOUNT_URL = \"{}/v2/account\".format(BASE_URL)\n",
    "ORDERS_URL = \"{}/v2/orders\".format(BASE_URL)\n",
    "HEADERS = {'APCA-API-KEY-ID': API_KEY, 'APCA-API-SECRET-KEY': SECRET_KEY}"
   ]
  },
  {
   "cell_type": "markdown",
   "metadata": {
    "id": "vB89ikoTYpXs"
   },
   "source": [
    "## **Alpaca Account Information**"
   ]
  },
  {
   "cell_type": "code",
   "execution_count": 6,
   "metadata": {
    "executionInfo": {
     "elapsed": 2,
     "status": "ok",
     "timestamp": 1717255840042,
     "user": {
      "displayName": "Alberto Bermea Trevino",
      "userId": "18219897344377314048"
     },
     "user_tz": 300
    },
    "id": "hMnvWqx0RB4p"
   },
   "outputs": [],
   "source": [
    "def get_account():\n",
    "    response = requests.get(ACCOUNT_URL, headers=HEADERS)\n",
    "    return json.loads(response.content)"
   ]
  },
  {
   "cell_type": "code",
   "execution_count": 7,
   "metadata": {
    "colab": {
     "base_uri": "https://localhost:8080/"
    },
    "executionInfo": {
     "elapsed": 141,
     "status": "ok",
     "timestamp": 1717255840395,
     "user": {
      "displayName": "Alberto Bermea Trevino",
      "userId": "18219897344377314048"
     },
     "user_tz": 300
    },
    "id": "R7K_sDPlg5vZ",
    "outputId": "29790f30-b598-42cf-92aa-d9e3eef50c48"
   },
   "outputs": [
    {
     "name": "stdout",
     "output_type": "stream",
     "text": [
      "Initial Capital: 100000.0\n"
     ]
    }
   ],
   "source": [
    "if __name__ == \"__main__\":\n",
    "    account_info = get_account()\n",
    "    initial_capital = float(account_info['portfolio_value'])\n",
    "    print(\"Initial Capital:\", initial_capital)"
   ]
  },
  {
   "cell_type": "markdown",
   "metadata": {
    "id": "RLyBGJpcZE0H"
   },
   "source": [
    "# **Historical Data**"
   ]
  },
  {
   "cell_type": "code",
   "execution_count": 8,
   "metadata": {
    "colab": {
     "base_uri": "https://localhost:8080/"
    },
    "executionInfo": {
     "elapsed": 551,
     "status": "ok",
     "timestamp": 1717255841843,
     "user": {
      "displayName": "Alberto Bermea Trevino",
      "userId": "18219897344377314048"
     },
     "user_tz": 300
    },
    "id": "LfYdsXbipLSk",
    "outputId": "b954419c-720a-475d-c522-7ed1ea9cc417"
   },
   "outputs": [
    {
     "name": "stdout",
     "output_type": "stream",
     "text": [
      "                                    open     high       low   close  \\\n",
      "symbol timestamp                                                      \n",
      "AAPL   2022-01-03 05:00:00+00:00  177.83  182.880  177.7100  182.01   \n",
      "       2022-01-04 05:00:00+00:00  182.64  182.940  179.1200  179.70   \n",
      "       2022-01-05 05:00:00+00:00  179.61  180.170  174.6400  174.92   \n",
      "       2022-01-06 05:00:00+00:00  172.70  175.300  171.6400  172.00   \n",
      "       2022-01-07 05:00:00+00:00  172.89  174.140  171.0300  172.17   \n",
      "...                                  ...      ...       ...     ...   \n",
      "MSFT   2023-12-22 05:00:00+00:00  373.68  375.180  372.7100  374.58   \n",
      "       2023-12-26 05:00:00+00:00  375.00  376.940  373.5000  374.66   \n",
      "       2023-12-27 05:00:00+00:00  373.69  375.060  372.8116  374.07   \n",
      "       2023-12-28 05:00:00+00:00  375.37  376.458  374.1600  375.28   \n",
      "       2023-12-29 05:00:00+00:00  376.00  377.160  373.4800  376.04   \n",
      "\n",
      "                                       volume  trade_count        vwap  \n",
      "symbol timestamp                                                        \n",
      "AAPL   2022-01-03 05:00:00+00:00  112486091.0     772699.0  181.426035  \n",
      "       2022-01-04 05:00:00+00:00  106090378.0     831898.0  180.522931  \n",
      "       2022-01-05 05:00:00+00:00   95142198.0     848518.0  177.303173  \n",
      "       2022-01-06 05:00:00+00:00  103899632.0     960344.0  173.013218  \n",
      "       2022-01-07 05:00:00+00:00   94554334.0     715419.0  172.423860  \n",
      "...                                       ...          ...         ...  \n",
      "MSFT   2023-12-22 05:00:00+00:00   17093399.0     282005.0  374.410130  \n",
      "       2023-12-26 05:00:00+00:00   12673397.0     264687.0  374.713395  \n",
      "       2023-12-27 05:00:00+00:00   14906842.0     266584.0  373.792116  \n",
      "       2023-12-28 05:00:00+00:00   14328694.0     278203.0  375.445799  \n",
      "       2023-12-29 05:00:00+00:00   18727853.0     296210.0  375.853181  \n",
      "\n",
      "[1503 rows x 7 columns]\n"
     ]
    }
   ],
   "source": [
    "client = StockHistoricalDataClient(API_KEY, SECRET_KEY)\n",
    "\n",
    "request_params = StockBarsRequest(\n",
    "                        symbol_or_symbols=[\"AAPL\", \"GOOGL\", \"MSFT\"],\n",
    "                        timeframe=TimeFrame.Day,\n",
    "                        start=\"2022-01-01 00:00:00\",\n",
    "                        end=\"2023-12-31 00:00:00\"\n",
    "                 )\n",
    "\n",
    "bars = client.get_stock_bars(request_params)\n",
    "bars_df = bars.df\n",
    "print(bars_df)"
   ]
  },
  {
   "cell_type": "markdown",
   "metadata": {
    "id": "bGmqPkIzii_B"
   },
   "source": [
    "# **Data for Strategies**"
   ]
  },
  {
   "cell_type": "code",
   "execution_count": 9,
   "metadata": {
    "executionInfo": {
     "elapsed": 2,
     "status": "ok",
     "timestamp": 1717255843262,
     "user": {
      "displayName": "Alberto Bermea Trevino",
      "userId": "18219897344377314048"
     },
     "user_tz": 300
    },
    "id": "lmBXXTCFiixU"
   },
   "outputs": [],
   "source": [
    "symbols = [\"AAPL\", \"GOOGL\", \"MSFT\"]"
   ]
  },
  {
   "cell_type": "code",
   "execution_count": 10,
   "metadata": {
    "executionInfo": {
     "elapsed": 2,
     "status": "ok",
     "timestamp": 1717255843728,
     "user": {
      "displayName": "Alberto Bermea Trevino",
      "userId": "18219897344377314048"
     },
     "user_tz": 300
    },
    "id": "r9egDi6d_j8u"
   },
   "outputs": [],
   "source": [
    "start_date = '2022-01-01'\n",
    "end_date = '2023-12-31'"
   ]
  },
  {
   "cell_type": "code",
   "execution_count": 11,
   "metadata": {
    "executionInfo": {
     "elapsed": 137,
     "status": "ok",
     "timestamp": 1717255844568,
     "user": {
      "displayName": "Alberto Bermea Trevino",
      "userId": "18219897344377314048"
     },
     "user_tz": 300
    },
    "id": "KgqORWmB43O2"
   },
   "outputs": [],
   "source": [
    "data = bars_df"
   ]
  },
  {
   "cell_type": "code",
   "execution_count": 12,
   "metadata": {
    "colab": {
     "base_uri": "https://localhost:8080/"
    },
    "executionInfo": {
     "elapsed": 126,
     "status": "ok",
     "timestamp": 1717255846976,
     "user": {
      "displayName": "Alberto Bermea Trevino",
      "userId": "18219897344377314048"
     },
     "user_tz": 300
    },
    "id": "aaAQz4MFFeA_",
    "outputId": "0aff71f7-1838-4689-e538-d1a2b9596412"
   },
   "outputs": [
    {
     "data": {
      "text/plain": [
       "open           0\n",
       "high           0\n",
       "low            0\n",
       "close          0\n",
       "volume         0\n",
       "trade_count    0\n",
       "vwap           0\n",
       "dtype: int64"
      ]
     },
     "execution_count": 12,
     "metadata": {},
     "output_type": "execute_result"
    }
   ],
   "source": [
    "data.isnull().sum()"
   ]
  },
  {
   "cell_type": "code",
   "execution_count": 13,
   "metadata": {
    "colab": {
     "base_uri": "https://localhost:8080/",
     "height": 237
    },
    "executionInfo": {
     "elapsed": 133,
     "status": "ok",
     "timestamp": 1717255847513,
     "user": {
      "displayName": "Alberto Bermea Trevino",
      "userId": "18219897344377314048"
     },
     "user_tz": 300
    },
    "id": "HX8TEuRf_w_l",
    "outputId": "8688dcfb-7142-4831-da97-48aa97cdfa5b"
   },
   "outputs": [
    {
     "data": {
      "application/vnd.google.colaboratory.intrinsic+json": {
       "summary": "{\n  \"name\": \"data\",\n  \"rows\": 1503,\n  \"fields\": [\n    {\n      \"column\": \"open\",\n      \"properties\": {\n        \"dtype\": \"number\",\n        \"std\": 670.4768175921619,\n        \"min\": 85.4,\n        \"max\": 3025.0,\n        \"num_unique_values\": 1470,\n        \"samples\": [\n          289.235,\n          146.1,\n          238.21\n        ],\n        \"semantic_type\": \"\",\n        \"description\": \"\"\n      }\n    },\n    {\n      \"column\": \"high\",\n      \"properties\": {\n        \"dtype\": \"number\",\n        \"std\": 679.7380779261596,\n        \"min\": 86.52,\n        \"max\": 3030.9315,\n        \"num_unique_values\": 1461,\n        \"samples\": [\n          138.0,\n          260.84,\n          180.13\n        ],\n        \"semantic_type\": \"\",\n        \"description\": \"\"\n      }\n    },\n    {\n      \"column\": \"low\",\n      \"properties\": {\n        \"dtype\": \"number\",\n        \"std\": 659.814825489259,\n        \"min\": 83.34,\n        \"max\": 2910.4501,\n        \"num_unique_values\": 1468,\n        \"samples\": [\n          241.93,\n          149.945,\n          233.87\n        ],\n        \"semantic_type\": \"\",\n        \"description\": \"\"\n      }\n    },\n    {\n      \"column\": \"close\",\n      \"properties\": {\n        \"dtype\": \"number\",\n        \"std\": 669.1863344860358,\n        \"min\": 83.43,\n        \"max\": 2960.0,\n        \"num_unique_values\": 1456,\n        \"samples\": [\n          2580.1,\n          279.43,\n          175.01\n        ],\n        \"semantic_type\": \"\",\n        \"description\": \"\"\n      }\n    },\n    {\n      \"column\": \"volume\",\n      \"properties\": {\n        \"dtype\": \"number\",\n        \"std\": 31877063.630388994,\n        \"min\": 1150932.0,\n        \"max\": 220048084.0,\n        \"num_unique_values\": 1503,\n        \"samples\": [\n          85152570.0,\n          23832657.0,\n          91032702.0\n        ],\n        \"semantic_type\": \"\",\n        \"description\": \"\"\n      }\n    },\n    {\n      \"column\": \"trade_count\",\n      \"properties\": {\n        \"dtype\": \"number\",\n        \"std\": 221073.71391280286,\n        \"min\": 83580.0,\n        \"max\": 1678459.0,\n        \"num_unique_values\": 1502,\n        \"samples\": [\n          305210.0,\n          349207.0,\n          755391.0\n        ],\n        \"semantic_type\": \"\",\n        \"description\": \"\"\n      }\n    },\n    {\n      \"column\": \"vwap\",\n      \"properties\": {\n        \"dtype\": \"number\",\n        \"std\": 669.5895018105618,\n        \"min\": 84.690571,\n        \"max\": 2971.168433,\n        \"num_unique_values\": 1503,\n        \"samples\": [\n          159.541565,\n          355.996604,\n          152.114522\n        ],\n        \"semantic_type\": \"\",\n        \"description\": \"\"\n      }\n    }\n  ]\n}",
       "type": "dataframe",
       "variable_name": "data"
      },
      "text/html": [
       "\n",
       "  <div id=\"df-8d90747f-4ea4-4493-8d46-8af89056b648\" class=\"colab-df-container\">\n",
       "    <div>\n",
       "<style scoped>\n",
       "    .dataframe tbody tr th:only-of-type {\n",
       "        vertical-align: middle;\n",
       "    }\n",
       "\n",
       "    .dataframe tbody tr th {\n",
       "        vertical-align: top;\n",
       "    }\n",
       "\n",
       "    .dataframe thead th {\n",
       "        text-align: right;\n",
       "    }\n",
       "</style>\n",
       "<table border=\"1\" class=\"dataframe\">\n",
       "  <thead>\n",
       "    <tr style=\"text-align: right;\">\n",
       "      <th></th>\n",
       "      <th></th>\n",
       "      <th>open</th>\n",
       "      <th>high</th>\n",
       "      <th>low</th>\n",
       "      <th>close</th>\n",
       "      <th>volume</th>\n",
       "      <th>trade_count</th>\n",
       "      <th>vwap</th>\n",
       "    </tr>\n",
       "    <tr>\n",
       "      <th>symbol</th>\n",
       "      <th>timestamp</th>\n",
       "      <th></th>\n",
       "      <th></th>\n",
       "      <th></th>\n",
       "      <th></th>\n",
       "      <th></th>\n",
       "      <th></th>\n",
       "      <th></th>\n",
       "    </tr>\n",
       "  </thead>\n",
       "  <tbody>\n",
       "    <tr>\n",
       "      <th rowspan=\"5\" valign=\"top\">AAPL</th>\n",
       "      <th>2022-01-03 05:00:00+00:00</th>\n",
       "      <td>177.83</td>\n",
       "      <td>182.88</td>\n",
       "      <td>177.71</td>\n",
       "      <td>182.01</td>\n",
       "      <td>112486091.0</td>\n",
       "      <td>772699.0</td>\n",
       "      <td>181.426035</td>\n",
       "    </tr>\n",
       "    <tr>\n",
       "      <th>2022-01-04 05:00:00+00:00</th>\n",
       "      <td>182.64</td>\n",
       "      <td>182.94</td>\n",
       "      <td>179.12</td>\n",
       "      <td>179.70</td>\n",
       "      <td>106090378.0</td>\n",
       "      <td>831898.0</td>\n",
       "      <td>180.522931</td>\n",
       "    </tr>\n",
       "    <tr>\n",
       "      <th>2022-01-05 05:00:00+00:00</th>\n",
       "      <td>179.61</td>\n",
       "      <td>180.17</td>\n",
       "      <td>174.64</td>\n",
       "      <td>174.92</td>\n",
       "      <td>95142198.0</td>\n",
       "      <td>848518.0</td>\n",
       "      <td>177.303173</td>\n",
       "    </tr>\n",
       "    <tr>\n",
       "      <th>2022-01-06 05:00:00+00:00</th>\n",
       "      <td>172.70</td>\n",
       "      <td>175.30</td>\n",
       "      <td>171.64</td>\n",
       "      <td>172.00</td>\n",
       "      <td>103899632.0</td>\n",
       "      <td>960344.0</td>\n",
       "      <td>173.013218</td>\n",
       "    </tr>\n",
       "    <tr>\n",
       "      <th>2022-01-07 05:00:00+00:00</th>\n",
       "      <td>172.89</td>\n",
       "      <td>174.14</td>\n",
       "      <td>171.03</td>\n",
       "      <td>172.17</td>\n",
       "      <td>94554334.0</td>\n",
       "      <td>715419.0</td>\n",
       "      <td>172.423860</td>\n",
       "    </tr>\n",
       "  </tbody>\n",
       "</table>\n",
       "</div>\n",
       "    <div class=\"colab-df-buttons\">\n",
       "\n",
       "  <div class=\"colab-df-container\">\n",
       "    <button class=\"colab-df-convert\" onclick=\"convertToInteractive('df-8d90747f-4ea4-4493-8d46-8af89056b648')\"\n",
       "            title=\"Convert this dataframe to an interactive table.\"\n",
       "            style=\"display:none;\">\n",
       "\n",
       "  <svg xmlns=\"http://www.w3.org/2000/svg\" height=\"24px\" viewBox=\"0 -960 960 960\">\n",
       "    <path d=\"M120-120v-720h720v720H120Zm60-500h600v-160H180v160Zm220 220h160v-160H400v160Zm0 220h160v-160H400v160ZM180-400h160v-160H180v160Zm440 0h160v-160H620v160ZM180-180h160v-160H180v160Zm440 0h160v-160H620v160Z\"/>\n",
       "  </svg>\n",
       "    </button>\n",
       "\n",
       "  <style>\n",
       "    .colab-df-container {\n",
       "      display:flex;\n",
       "      gap: 12px;\n",
       "    }\n",
       "\n",
       "    .colab-df-convert {\n",
       "      background-color: #E8F0FE;\n",
       "      border: none;\n",
       "      border-radius: 50%;\n",
       "      cursor: pointer;\n",
       "      display: none;\n",
       "      fill: #1967D2;\n",
       "      height: 32px;\n",
       "      padding: 0 0 0 0;\n",
       "      width: 32px;\n",
       "    }\n",
       "\n",
       "    .colab-df-convert:hover {\n",
       "      background-color: #E2EBFA;\n",
       "      box-shadow: 0px 1px 2px rgba(60, 64, 67, 0.3), 0px 1px 3px 1px rgba(60, 64, 67, 0.15);\n",
       "      fill: #174EA6;\n",
       "    }\n",
       "\n",
       "    .colab-df-buttons div {\n",
       "      margin-bottom: 4px;\n",
       "    }\n",
       "\n",
       "    [theme=dark] .colab-df-convert {\n",
       "      background-color: #3B4455;\n",
       "      fill: #D2E3FC;\n",
       "    }\n",
       "\n",
       "    [theme=dark] .colab-df-convert:hover {\n",
       "      background-color: #434B5C;\n",
       "      box-shadow: 0px 1px 3px 1px rgba(0, 0, 0, 0.15);\n",
       "      filter: drop-shadow(0px 1px 2px rgba(0, 0, 0, 0.3));\n",
       "      fill: #FFFFFF;\n",
       "    }\n",
       "  </style>\n",
       "\n",
       "    <script>\n",
       "      const buttonEl =\n",
       "        document.querySelector('#df-8d90747f-4ea4-4493-8d46-8af89056b648 button.colab-df-convert');\n",
       "      buttonEl.style.display =\n",
       "        google.colab.kernel.accessAllowed ? 'block' : 'none';\n",
       "\n",
       "      async function convertToInteractive(key) {\n",
       "        const element = document.querySelector('#df-8d90747f-4ea4-4493-8d46-8af89056b648');\n",
       "        const dataTable =\n",
       "          await google.colab.kernel.invokeFunction('convertToInteractive',\n",
       "                                                    [key], {});\n",
       "        if (!dataTable) return;\n",
       "\n",
       "        const docLinkHtml = 'Like what you see? Visit the ' +\n",
       "          '<a target=\"_blank\" href=https://colab.research.google.com/notebooks/data_table.ipynb>data table notebook</a>'\n",
       "          + ' to learn more about interactive tables.';\n",
       "        element.innerHTML = '';\n",
       "        dataTable['output_type'] = 'display_data';\n",
       "        await google.colab.output.renderOutput(dataTable, element);\n",
       "        const docLink = document.createElement('div');\n",
       "        docLink.innerHTML = docLinkHtml;\n",
       "        element.appendChild(docLink);\n",
       "      }\n",
       "    </script>\n",
       "  </div>\n",
       "\n",
       "\n",
       "<div id=\"df-3779e4b7-e635-46ac-88a8-b410df9d9676\">\n",
       "  <button class=\"colab-df-quickchart\" onclick=\"quickchart('df-3779e4b7-e635-46ac-88a8-b410df9d9676')\"\n",
       "            title=\"Suggest charts\"\n",
       "            style=\"display:none;\">\n",
       "\n",
       "<svg xmlns=\"http://www.w3.org/2000/svg\" height=\"24px\"viewBox=\"0 0 24 24\"\n",
       "     width=\"24px\">\n",
       "    <g>\n",
       "        <path d=\"M19 3H5c-1.1 0-2 .9-2 2v14c0 1.1.9 2 2 2h14c1.1 0 2-.9 2-2V5c0-1.1-.9-2-2-2zM9 17H7v-7h2v7zm4 0h-2V7h2v10zm4 0h-2v-4h2v4z\"/>\n",
       "    </g>\n",
       "</svg>\n",
       "  </button>\n",
       "\n",
       "<style>\n",
       "  .colab-df-quickchart {\n",
       "      --bg-color: #E8F0FE;\n",
       "      --fill-color: #1967D2;\n",
       "      --hover-bg-color: #E2EBFA;\n",
       "      --hover-fill-color: #174EA6;\n",
       "      --disabled-fill-color: #AAA;\n",
       "      --disabled-bg-color: #DDD;\n",
       "  }\n",
       "\n",
       "  [theme=dark] .colab-df-quickchart {\n",
       "      --bg-color: #3B4455;\n",
       "      --fill-color: #D2E3FC;\n",
       "      --hover-bg-color: #434B5C;\n",
       "      --hover-fill-color: #FFFFFF;\n",
       "      --disabled-bg-color: #3B4455;\n",
       "      --disabled-fill-color: #666;\n",
       "  }\n",
       "\n",
       "  .colab-df-quickchart {\n",
       "    background-color: var(--bg-color);\n",
       "    border: none;\n",
       "    border-radius: 50%;\n",
       "    cursor: pointer;\n",
       "    display: none;\n",
       "    fill: var(--fill-color);\n",
       "    height: 32px;\n",
       "    padding: 0;\n",
       "    width: 32px;\n",
       "  }\n",
       "\n",
       "  .colab-df-quickchart:hover {\n",
       "    background-color: var(--hover-bg-color);\n",
       "    box-shadow: 0 1px 2px rgba(60, 64, 67, 0.3), 0 1px 3px 1px rgba(60, 64, 67, 0.15);\n",
       "    fill: var(--button-hover-fill-color);\n",
       "  }\n",
       "\n",
       "  .colab-df-quickchart-complete:disabled,\n",
       "  .colab-df-quickchart-complete:disabled:hover {\n",
       "    background-color: var(--disabled-bg-color);\n",
       "    fill: var(--disabled-fill-color);\n",
       "    box-shadow: none;\n",
       "  }\n",
       "\n",
       "  .colab-df-spinner {\n",
       "    border: 2px solid var(--fill-color);\n",
       "    border-color: transparent;\n",
       "    border-bottom-color: var(--fill-color);\n",
       "    animation:\n",
       "      spin 1s steps(1) infinite;\n",
       "  }\n",
       "\n",
       "  @keyframes spin {\n",
       "    0% {\n",
       "      border-color: transparent;\n",
       "      border-bottom-color: var(--fill-color);\n",
       "      border-left-color: var(--fill-color);\n",
       "    }\n",
       "    20% {\n",
       "      border-color: transparent;\n",
       "      border-left-color: var(--fill-color);\n",
       "      border-top-color: var(--fill-color);\n",
       "    }\n",
       "    30% {\n",
       "      border-color: transparent;\n",
       "      border-left-color: var(--fill-color);\n",
       "      border-top-color: var(--fill-color);\n",
       "      border-right-color: var(--fill-color);\n",
       "    }\n",
       "    40% {\n",
       "      border-color: transparent;\n",
       "      border-right-color: var(--fill-color);\n",
       "      border-top-color: var(--fill-color);\n",
       "    }\n",
       "    60% {\n",
       "      border-color: transparent;\n",
       "      border-right-color: var(--fill-color);\n",
       "    }\n",
       "    80% {\n",
       "      border-color: transparent;\n",
       "      border-right-color: var(--fill-color);\n",
       "      border-bottom-color: var(--fill-color);\n",
       "    }\n",
       "    90% {\n",
       "      border-color: transparent;\n",
       "      border-bottom-color: var(--fill-color);\n",
       "    }\n",
       "  }\n",
       "</style>\n",
       "\n",
       "  <script>\n",
       "    async function quickchart(key) {\n",
       "      const quickchartButtonEl =\n",
       "        document.querySelector('#' + key + ' button');\n",
       "      quickchartButtonEl.disabled = true;  // To prevent multiple clicks.\n",
       "      quickchartButtonEl.classList.add('colab-df-spinner');\n",
       "      try {\n",
       "        const charts = await google.colab.kernel.invokeFunction(\n",
       "            'suggestCharts', [key], {});\n",
       "      } catch (error) {\n",
       "        console.error('Error during call to suggestCharts:', error);\n",
       "      }\n",
       "      quickchartButtonEl.classList.remove('colab-df-spinner');\n",
       "      quickchartButtonEl.classList.add('colab-df-quickchart-complete');\n",
       "    }\n",
       "    (() => {\n",
       "      let quickchartButtonEl =\n",
       "        document.querySelector('#df-3779e4b7-e635-46ac-88a8-b410df9d9676 button');\n",
       "      quickchartButtonEl.style.display =\n",
       "        google.colab.kernel.accessAllowed ? 'block' : 'none';\n",
       "    })();\n",
       "  </script>\n",
       "</div>\n",
       "    </div>\n",
       "  </div>\n"
      ],
      "text/plain": [
       "                                    open    high     low   close       volume  \\\n",
       "symbol timestamp                                                                \n",
       "AAPL   2022-01-03 05:00:00+00:00  177.83  182.88  177.71  182.01  112486091.0   \n",
       "       2022-01-04 05:00:00+00:00  182.64  182.94  179.12  179.70  106090378.0   \n",
       "       2022-01-05 05:00:00+00:00  179.61  180.17  174.64  174.92   95142198.0   \n",
       "       2022-01-06 05:00:00+00:00  172.70  175.30  171.64  172.00  103899632.0   \n",
       "       2022-01-07 05:00:00+00:00  172.89  174.14  171.03  172.17   94554334.0   \n",
       "\n",
       "                                  trade_count        vwap  \n",
       "symbol timestamp                                           \n",
       "AAPL   2022-01-03 05:00:00+00:00     772699.0  181.426035  \n",
       "       2022-01-04 05:00:00+00:00     831898.0  180.522931  \n",
       "       2022-01-05 05:00:00+00:00     848518.0  177.303173  \n",
       "       2022-01-06 05:00:00+00:00     960344.0  173.013218  \n",
       "       2022-01-07 05:00:00+00:00     715419.0  172.423860  "
      ]
     },
     "execution_count": 13,
     "metadata": {},
     "output_type": "execute_result"
    }
   ],
   "source": [
    "data.head()"
   ]
  },
  {
   "cell_type": "markdown",
   "metadata": {
    "id": "TGFhvs9yhEyS"
   },
   "source": [
    "# **Strategy 1: Real Time Forecasting**\n",
    "Using ARIMA and RNN to Create an Effective Trading Strategy\n"
   ]
  },
  {
   "cell_type": "markdown",
   "metadata": {
    "id": "GT5NKqI0fWbv"
   },
   "source": [
    "#### ARIMA"
   ]
  },
  {
   "cell_type": "code",
   "execution_count": null,
   "metadata": {
    "colab": {
     "base_uri": "https://localhost:8080/",
     "height": 1000
    },
    "executionInfo": {
     "elapsed": 3116,
     "status": "ok",
     "timestamp": 1717251683039,
     "user": {
      "displayName": "Roselyn Rozario",
      "userId": "12583446628825092945"
     },
     "user_tz": 240
    },
    "id": "n2HNKHCGCOQ-",
    "outputId": "4f910358-96c7-41fc-c5a7-4787866ee2c4"
   },
   "outputs": [
    {
     "data": {
      "image/png": "[encoded data removed]",
      "text/plain": [
       "<Figure size 1000x600 with 1 Axes>"
      ]
     },
     "metadata": {},
     "output_type": "display_data"
    },
    {
     "name": "stdout",
     "output_type": "stream",
     "text": [
      "\n",
      "RMSE for ARIMA - Train RMSE for AAPL: 9.32\n",
      "RMSE for ARIMA - Test RMSE for AAPL: 11.47 \n",
      "\n",
      "\n",
      "\n"
     ]
    },
    {
     "data": {
      "image/png": "[encoded data removed]",
      "text/plain": [
       "<Figure size 1000x600 with 1 Axes>"
      ]
     },
     "metadata": {},
     "output_type": "display_data"
    },
    {
     "name": "stdout",
     "output_type": "stream",
     "text": [
      "\n",
      "RMSE for ARIMA - Train RMSE for GOOGL: 177.57\n",
      "RMSE for ARIMA - Test RMSE for GOOGL: 4.67 \n",
      "\n",
      "\n",
      "\n"
     ]
    },
    {
     "data": {
      "image/png": "[encoded data removed]",
      "text/plain": [
       "<Figure size 1000x600 with 1 Axes>"
      ]
     },
     "metadata": {},
     "output_type": "display_data"
    },
    {
     "name": "stdout",
     "output_type": "stream",
     "text": [
      "\n",
      "RMSE for ARIMA - Train RMSE for MSFT: 17.13\n",
      "RMSE for ARIMA - Test RMSE for MSFT: 29.66 \n",
      "\n",
      "\n",
      "\n"
     ]
    }
   ],
   "source": [
    "arima_signals = {}\n",
    "\n",
    "for symbol in symbols:\n",
    "    symbol_data = data.loc[symbol]\n",
    "\n",
    "    # Convert Index to Datetime if Necessary\n",
    "    if not isinstance(symbol_data.index, pd.DatetimeIndex):\n",
    "        symbol_data.index = pd.to_datetime(symbol_data.index)\n",
    "\n",
    "    # Split Data Into Train and Test Datasets\n",
    "    train_size = int(len(symbol_data) * 0.85)\n",
    "    train, test = symbol_data[:train_size], symbol_data[train_size:]\n",
    "\n",
    "    # Fit ARIMA Model\n",
    "    model_arima = ARIMA(train['close'], order=(5,1,0), freq=train.index.inferred_freq)\n",
    "    model_fit_arima = model_arima.fit()\n",
    "\n",
    "    # Predictions\n",
    "    forecast_arima = model_fit_arima.forecast(steps=len(test))\n",
    "\n",
    "    # Ensure Index Alignment\n",
    "    forecast_arima.index = test.index\n",
    "\n",
    "    # Create Signals: Buy When Forecasted Price Increases, Sell When Forecasted Price Decreases\n",
    "    signal_arima = np.where(forecast_arima > test['close'], 1, -1)\n",
    "\n",
    "    # Store Forecasted Values and Signals\n",
    "    arima_signals[symbol] = {'forecast': forecast_arima, 'signal': signal_arima}\n",
    "\n",
    "    # Plot Forecast\n",
    "    plt.figure(figsize=(10,6))\n",
    "    plt.plot(train.index, train['close'], label='Train')\n",
    "    plt.plot(test.index, test['close'], label='Test')\n",
    "    plt.plot(test.index, forecast_arima, label='ARIMA Forecast')\n",
    "    plt.title('ARIMA Forecast for {}'.format(symbol))\n",
    "    plt.xlabel('Date')\n",
    "    plt.ylabel('Price')\n",
    "    plt.legend()\n",
    "    plt.show()\n",
    "\n",
    "    # RMSE for ARIMA\n",
    "    rmse_arima_train = sqrt(mean_squared_error(train['close'], model_fit_arima.fittedvalues))\n",
    "    rmse_arima_test = sqrt(mean_squared_error(test['close'], forecast_arima))\n",
    "    print('\\nRMSE for ARIMA - Train RMSE for {}: {:.2f}'.format(symbol, rmse_arima_train))\n",
    "    print('RMSE for ARIMA - Test RMSE for {}: {:.2f}'.format(symbol, rmse_arima_test), \"\\n\\n\\n\")"
   ]
  },
  {
   "cell_type": "markdown",
   "metadata": {
    "id": "nvAK33ZqkB34"
   },
   "source": [
    "#### RNN"
   ]
  },
  {
   "cell_type": "code",
   "execution_count": null,
   "metadata": {
    "colab": {
     "base_uri": "https://localhost:8080/",
     "height": 1000
    },
    "executionInfo": {
     "elapsed": 40764,
     "status": "ok",
     "timestamp": 1717251723801,
     "user": {
      "displayName": "Roselyn Rozario",
      "userId": "12583446628825092945"
     },
     "user_tz": 240
    },
    "id": "5l1FcSnQ9BrO",
    "outputId": "a5d71d55-ba76-45af-9d8b-9a2566b65292"
   },
   "outputs": [
    {
     "name": "stdout",
     "output_type": "stream",
     "text": [
      "Epoch 1/20\n",
      "34/34 [==============================] - 6s 46ms/step - loss: 23384.7949 - val_loss: 31229.9082\n",
      "Epoch 2/20\n",
      "34/34 [==============================] - 1s 15ms/step - loss: 18068.9492 - val_loss: 16342.1143\n",
      "Epoch 3/20\n",
      "34/34 [==============================] - 1s 18ms/step - loss: 5744.6597 - val_loss: 464.8396\n",
      "Epoch 4/20\n",
      "34/34 [==============================] - 1s 17ms/step - loss: 823.2505 - val_loss: 4.2516\n",
      "Epoch 5/20\n",
      "34/34 [==============================] - 0s 11ms/step - loss: 652.7176 - val_loss: 19.6475\n",
      "Epoch 6/20\n",
      "34/34 [==============================] - 0s 11ms/step - loss: 718.7982 - val_loss: 19.0308\n",
      "Epoch 7/20\n",
      "34/34 [==============================] - 0s 12ms/step - loss: 650.5911 - val_loss: 13.6489\n",
      "Epoch 8/20\n",
      "34/34 [==============================] - 0s 12ms/step - loss: 513.9290 - val_loss: 72.7404\n",
      "Epoch 9/20\n",
      "34/34 [==============================] - 0s 15ms/step - loss: 551.7925 - val_loss: 84.8988\n",
      "14/14 [==============================] - 1s 3ms/step\n",
      "3/3 [==============================] - 0s 7ms/step\n",
      "\n",
      " [-1 -1 -1 -1 -1 -1 -1 -1 -1 -1 -1 -1 -1 -1 -1 -1 -1 -1 -1 -1 -1 -1 -1 -1\n",
      " -1 -1 -1 -1 -1 -1 -1 -1 -1 -1 -1 -1 -1 -1 -1 -1 -1 -1 -1 -1 -1 -1 -1 -1\n",
      " -1 -1 -1 -1 -1 -1 -1 -1 -1 -1 -1 -1 -1 -1 -1 -1 -1 -1 -1 -1 -1 -1 -1 -1\n",
      " -1 -1 -1 -1] \n",
      "\n"
     ]
    },
    {
     "data": {
      "image/png": "[encoded data removed]",
      "text/plain": [
       "<Figure size 1000x600 with 1 Axes>"
      ]
     },
     "metadata": {},
     "output_type": "display_data"
    },
    {
     "name": "stdout",
     "output_type": "stream",
     "text": [
      "\n",
      "\n",
      "RNN Forecasting - Train RMSE for AAPL: 1.90\n",
      "RNN Forecasting - Test RMSE for AAPL: 2.06 \n",
      "\n",
      "Epoch 1/20\n",
      "34/34 [==============================] - 6s 44ms/step - loss: 2533854.5000 - val_loss: 15824.6689\n",
      "Epoch 2/20\n",
      "34/34 [==============================] - 0s 10ms/step - loss: 2516579.5000 - val_loss: 15386.5498\n",
      "Epoch 3/20\n",
      "34/34 [==============================] - 0s 9ms/step - loss: 2196450.7500 - val_loss: 11837.6025\n",
      "Epoch 4/20\n",
      "34/34 [==============================] - 0s 10ms/step - loss: 1454048.6250 - val_loss: 4678.8047\n",
      "Epoch 5/20\n",
      "34/34 [==============================] - 0s 8ms/step - loss: 307832.9062 - val_loss: 135.8505\n",
      "Epoch 6/20\n",
      "34/34 [==============================] - 0s 7ms/step - loss: 146613.5469 - val_loss: 491.2546\n",
      "Epoch 7/20\n",
      "34/34 [==============================] - 0s 8ms/step - loss: 118556.4219 - val_loss: 380.0349\n",
      "Epoch 8/20\n",
      "34/34 [==============================] - 0s 10ms/step - loss: 124366.5547 - val_loss: 305.9337\n",
      "Epoch 9/20\n",
      "34/34 [==============================] - 1s 18ms/step - loss: 145986.6406 - val_loss: 274.9112\n",
      "Epoch 10/20\n",
      "34/34 [==============================] - 1s 15ms/step - loss: 127482.4922 - val_loss: 218.7422\n",
      "14/14 [==============================] - 3s 6ms/step\n",
      "3/3 [==============================] - 0s 9ms/step\n",
      "\n",
      " [-1 -1 -1 -1 -1 -1 -1 -1 -1 -1 -1 -1 -1 -1 -1 -1 -1 -1 -1 -1 -1 -1 -1 -1\n",
      " -1 -1 -1 -1 -1 -1 -1 -1 -1 -1 -1 -1 -1 -1 -1 -1 -1 -1 -1 -1 -1 -1 -1 -1\n",
      " -1 -1 -1 -1 -1 -1 -1 -1 -1 -1 -1 -1 -1 -1 -1 -1 -1 -1 -1 -1 -1 -1 -1 -1\n",
      " -1 -1 -1 -1] \n",
      "\n"
     ]
    },
    {
     "data": {
      "image/png": "[encoded data removed]",
      "text/plain": [
       "<Figure size 1000x600 with 1 Axes>"
      ]
     },
     "metadata": {},
     "output_type": "display_data"
    },
    {
     "name": "stdout",
     "output_type": "stream",
     "text": [
      "\n",
      "\n",
      "RNN Forecasting - Train RMSE for GOOGL: 30.44\n",
      "RNN Forecasting - Test RMSE for GOOGL: 10.90 \n",
      "\n",
      "Epoch 1/20\n",
      "34/34 [==============================] - 5s 34ms/step - loss: 71861.4609 - val_loss: 101472.5859\n",
      "Epoch 2/20\n",
      "34/34 [==============================] - 0s 9ms/step - loss: 61329.9805 - val_loss: 70487.6797\n",
      "Epoch 3/20\n",
      "34/34 [==============================] - 0s 12ms/step - loss: 41820.7422 - val_loss: 31627.7109\n",
      "Epoch 4/20\n",
      "34/34 [==============================] - 1s 15ms/step - loss: 16062.8350 - val_loss: 4128.7852\n",
      "Epoch 5/20\n",
      "34/34 [==============================] - 0s 10ms/step - loss: 5182.7559 - val_loss: 20.1566\n",
      "Epoch 6/20\n",
      "34/34 [==============================] - 0s 9ms/step - loss: 4344.3208 - val_loss: 409.2404\n",
      "Epoch 7/20\n",
      "34/34 [==============================] - 0s 8ms/step - loss: 4506.8447 - val_loss: 152.7794\n",
      "Epoch 8/20\n",
      "34/34 [==============================] - 0s 8ms/step - loss: 4469.2485 - val_loss: 138.2666\n",
      "Epoch 9/20\n",
      "34/34 [==============================] - 0s 14ms/step - loss: 3567.0798 - val_loss: 83.7057\n",
      "Epoch 10/20\n",
      "34/34 [==============================] - 0s 14ms/step - loss: 3389.7603 - val_loss: 334.6023\n",
      "14/14 [==============================] - 1s 6ms/step\n",
      "3/3 [==============================] - 0s 6ms/step\n",
      "\n",
      " [-1 -1 -1 -1 -1 -1 -1 -1 -1 -1 -1 -1 -1 -1 -1 -1 -1 -1 -1 -1 -1 -1 -1 -1\n",
      " -1 -1 -1 -1 -1 -1 -1 -1 -1 -1 -1 -1 -1 -1 -1 -1 -1 -1 -1 -1 -1 -1 -1 -1\n",
      " -1 -1 -1 -1 -1 -1 -1 -1 -1 -1 -1 -1 -1 -1 -1 -1 -1 -1 -1 -1 -1 -1 -1 -1\n",
      " -1 -1 -1 -1] \n",
      "\n"
     ]
    },
    {
     "data": {
      "image/png": "[encoded data removed]",
      "text/plain": [
       "<Figure size 1000x600 with 1 Axes>"
      ]
     },
     "metadata": {},
     "output_type": "display_data"
    },
    {
     "name": "stdout",
     "output_type": "stream",
     "text": [
      "\n",
      "\n",
      "RNN Forecasting - Train RMSE for MSFT: 3.67\n",
      "RNN Forecasting - Test RMSE for MSFT: 4.84 \n",
      "\n"
     ]
    }
   ],
   "source": [
    "rnn_signals = {}  # Initialize the Dictionary Outside the Loop\n",
    "\n",
    "for symbol in symbols:\n",
    "\n",
    "    symbol_data = data.loc[symbol]\n",
    "\n",
    "    # Convert Index to Datetime if Necessary\n",
    "    if not isinstance(symbol_data.index, pd.DatetimeIndex):\n",
    "        symbol_data.index = pd.to_datetime(symbol_data.index)\n",
    "\n",
    "    # Prepare Data for LSTM\n",
    "    X = symbol_data['close'].values.reshape(-1, 1)\n",
    "    y = symbol_data['close'].values\n",
    "\n",
    "    # Split Data Into Train and Test Datasets\n",
    "    train_size = int(len(X) * 0.85)\n",
    "    test_size = len(X) - train_size\n",
    "    X_train, X_test = X[0:train_size,:], X[train_size:,:]\n",
    "    y_train, y_test = y[0:train_size], y[train_size:]\n",
    "\n",
    "\n",
    "    # Reshape Data for LSTM\n",
    "    X_train_lstm = np.reshape(X_train, (X_train.shape[0], 1, X_train.shape[1]))\n",
    "    X_test_lstm = np.reshape(X_test, (X_test.shape[0], 1, X_test.shape[1]))\n",
    "\n",
    "    # Define RNN Model\n",
    "    model_rnn = Sequential([\n",
    "        LSTM(units=25, input_shape=(X_train_lstm.shape[1], X_train_lstm.shape[2]), activation='relu', return_sequences=True),\n",
    "        Dropout(0.2),\n",
    "        LSTM(units=25, activation='relu'),\n",
    "        Dense(units=1)\n",
    "    ])\n",
    "\n",
    "    # Compile Model\n",
    "    model_rnn.compile(optimizer='adam', loss='mean_squared_error')\n",
    "\n",
    "    # Early Stopping\n",
    "    early_stopping = EarlyStopping(monitor='val_loss', patience=5, restore_best_weights=True)\n",
    "\n",
    "    # Fit Model\n",
    "    history = model_rnn.fit(X_train_lstm, y_train, epochs=20, batch_size=10, verbose=1, validation_split=0.2, callbacks=[early_stopping])\n",
    "\n",
    "    # Predictions\n",
    "    train_predict_rnn = model_rnn.predict(X_train_lstm)\n",
    "    test_predict_rnn = model_rnn.predict(X_test_lstm)\n",
    "\n",
    "    # Create Signals: Buy When Forecasted Price Increases, Sell When Forecasted Price Decreases\n",
    "    signal_rnn = np.where(test_predict_rnn.squeeze() > X_test_lstm.squeeze(), 1, -1)\n",
    "    print(\"\\n\", signal_rnn, \"\\n\")\n",
    "\n",
    "    # Store Forecasted Values and Signal\n",
    "    rnn_signals[symbol] = {'forecast': test_predict_rnn, 'signal': signal_rnn, 'index': symbol_data[train_size:].index}\n",
    "\n",
    "    # Plot Forecast\n",
    "    plt.figure(figsize=(10,6))\n",
    "    plt.plot(symbol_data[:train_size].index, X_train, label='Train')\n",
    "    plt.plot(symbol_data[train_size:].index, X_test, label='Test')\n",
    "    plt.plot(symbol_data[train_size:].index, test_predict_rnn, label='RNN Forecast')\n",
    "    plt.title('RNN Forecast for {}'.format(symbol))\n",
    "    plt.xlabel('Date')\n",
    "    plt.ylabel('Price')\n",
    "    plt.legend()\n",
    "    plt.show()\n",
    "\n",
    "    # RMSE for RNN\n",
    "    rmse_rnn_train = sqrt(mean_squared_error(y_train, train_predict_rnn))\n",
    "    rmse_rnn_test = sqrt(mean_squared_error(y_test, test_predict_rnn))\n",
    "    print(\"\\n\")\n",
    "    print('RNN Forecasting - Train RMSE for {}: {:.2f}'.format(symbol, rmse_rnn_train))\n",
    "    print('RNN Forecasting - Test RMSE for {}: {:.2f}'.format(symbol, rmse_rnn_test), \"\\n\")"
   ]
  },
  {
   "cell_type": "markdown",
   "metadata": {
    "id": "Ae6dKN3YQQiP"
   },
   "source": [
    "#### Ensemble Model: ARIMA + RNN"
   ]
  },
  {
   "cell_type": "code",
   "execution_count": null,
   "metadata": {
    "colab": {
     "base_uri": "https://localhost:8080/"
    },
    "executionInfo": {
     "elapsed": 18,
     "status": "ok",
     "timestamp": 1717251723801,
     "user": {
      "displayName": "Roselyn Rozario",
      "userId": "12583446628825092945"
     },
     "user_tz": 240
    },
    "id": "Im8f6aHaP9c6",
    "outputId": "a97d3199-193b-4bff-f46a-fe3b1b2f6588"
   },
   "outputs": [
    {
     "name": "stdout",
     "output_type": "stream",
     "text": [
      "Ensemble Model\n",
      "Train RMSE: 10.40\n",
      "Test RMSE: 17.25\n"
     ]
    }
   ],
   "source": [
    "# Combine Predictions\n",
    "ensemble_rmse_train = []\n",
    "ensemble_rmse_test = []\n",
    "\n",
    "# Store RMSE for Ensemble\n",
    "ensemble_rmse_train.append(rmse_arima_train)\n",
    "ensemble_rmse_test.append(rmse_arima_test)\n",
    "\n",
    "ensemble_rmse_train.append(rmse_rnn_train)\n",
    "ensemble_rmse_test.append(rmse_rnn_test)\n",
    "\n",
    "# Calculate Ensemble RMSE\n",
    "ensemble_rmse_train_mean = np.mean(ensemble_rmse_train)\n",
    "ensemble_rmse_test_mean = np.mean(ensemble_rmse_test)\n",
    "print('Ensemble Model')\n",
    "print('Train RMSE: {:.2f}'.format(ensemble_rmse_train_mean))\n",
    "print('Test RMSE: {:.2f}'.format(ensemble_rmse_test_mean))"
   ]
  },
  {
   "cell_type": "markdown",
   "metadata": {
    "id": "nUU97-7svKnK"
   },
   "source": [
    "# **Strategy 2: Event-Driven Trading Simulation**\n",
    "Real Time Sentiment Analysis on News Data from Alpaca News API to Analyze Sentiment for Each Stock"
   ]
  },
  {
   "cell_type": "code",
   "execution_count": null,
   "metadata": {
    "id": "Tuf1LW6dg_Ii"
   },
   "outputs": [],
   "source": [
    "# Initialize Alpaca REST Client\n",
    "rest_client = REST(API_KEY, SECRET_KEY)"
   ]
  },
  {
   "cell_type": "code",
   "execution_count": null,
   "metadata": {
    "colab": {
     "base_uri": "https://localhost:8080/",
     "height": 201,
     "referenced_widgets": [
      "a734242d9b9444179e2cf21cfa02639e",
      "1febe820e2e0408cbcf29ab8fde35e86",
      "6ef0219ef7fb441da24140b04eff3ab7",
      "80cfbe718fc04445b0ee50e03b633cba",
      "f939a72edc694f2e9e723a9e93ff4ba0",
      "b624241565a8408889db156bae456e7f",
      "37d69b59f31d4e4d8d9d39ed16919cbb",
      "4f5e3429c30f4d32b954873803768c85",
      "a32a95fa0f27408ebe2e15d44d4ed6d4",
      "9f46cd1c05324c43a83d7d8978879d6e",
      "b0dfac4e5d04494b94c2ed642cc1df91",
      "17c58deb17a5489eb33f93f5eb3c7a17",
      "046a02fc294e4e69838ef1d991229c36",
      "51dc785a539d40028a64402f24eefb87",
      "dc4639f3f1ad4b77931a60f0bcd0cc91",
      "35e75cec09c14388b7e40212dd201818",
      "be94e971f2774889baf46cfa034c5804",
      "3eba9cca862c4ea5a0319547be6f16d9",
      "5859db749c114a3abd04b7e0bc35ea7d",
      "1211b15933c7481b971bfa96686e37d1",
      "728b981be08c418fa4170d2bc54b784d",
      "b4109106291d4e0fb736eab580cbad4c",
      "82ffc7700e6c4139bc222e57f90568cb",
      "255b2b976b7f4b6f8e1729cb4ca91b4c",
      "e7e71fc50c124c68b7348c2f02190956",
      "83b82910bae54c7ca14a331b37730094",
      "87a0ab523f40472c88928a22c4b06cec",
      "ec6381ca90a4468a88cd5f7895ac2a49",
      "86fe5685349043f19b9976578b90c83d",
      "30076bbce215476baab546a3885c3f77",
      "9b792a687d5b45bc8ba838856a6ebc34",
      "6e2085e586114daf904a459ef8a4a76e",
      "fb4acf7fd8e940ce89cb49bc1f00988a",
      "34358b726d694f1f9d7d35ef3cb9e79d",
      "a48cda5e40d64f32979b793ae0c091f9",
      "c3955d55b6ef4e0fb66040b400684ba6",
      "c7c7d102480e4fb995645f09b08d8e57",
      "be427e41548d41038fe5f98ad0770ec8",
      "cdd50ac3acf54d5fa841aa599da5f5b9",
      "bc0e45068c7a4a33ad1571cd45e5cffd",
      "668459ec79b54ad893e6c53a90559749",
      "6196cebc03294414ba5102adbe7c9b7f",
      "f17a2fcd7d5a49738cc951e6fce4cda7",
      "ef7c580b1d32400598fde2422579701f"
     ]
    },
    "executionInfo": {
     "elapsed": 6246,
     "status": "ok",
     "timestamp": 1717251730043,
     "user": {
      "displayName": "Roselyn Rozario",
      "userId": "12583446628825092945"
     },
     "user_tz": 240
    },
    "id": "q-Xb7J4pNYfZ",
    "outputId": "f45c6f85-6e3f-4314-cfcd-8a2a34acbf2a"
   },
   "outputs": [
    {
     "name": "stderr",
     "output_type": "stream",
     "text": [
      "No model was supplied, defaulted to distilbert/distilbert-base-uncased-finetuned-sst-2-english and revision af0f99b (https://huggingface.co/distilbert/distilbert-base-uncased-finetuned-sst-2-english).\n",
      "Using a pipeline without specifying a model name and revision in production is not recommended.\n"
     ]
    },
    {
     "data": {
      "application/vnd.jupyter.widget-view+json": {
       "model_id": "a734242d9b9444179e2cf21cfa02639e",
       "version_major": 2,
       "version_minor": 0
      },
      "text/plain": [
       "config.json:   0%|          | 0.00/629 [00:00<?, ?B/s]"
      ]
     },
     "metadata": {},
     "output_type": "display_data"
    },
    {
     "data": {
      "application/vnd.jupyter.widget-view+json": {
       "model_id": "17c58deb17a5489eb33f93f5eb3c7a17",
       "version_major": 2,
       "version_minor": 0
      },
      "text/plain": [
       "model.safetensors:   0%|          | 0.00/268M [00:00<?, ?B/s]"
      ]
     },
     "metadata": {},
     "output_type": "display_data"
    },
    {
     "data": {
      "application/vnd.jupyter.widget-view+json": {
       "model_id": "82ffc7700e6c4139bc222e57f90568cb",
       "version_major": 2,
       "version_minor": 0
      },
      "text/plain": [
       "tokenizer_config.json:   0%|          | 0.00/48.0 [00:00<?, ?B/s]"
      ]
     },
     "metadata": {},
     "output_type": "display_data"
    },
    {
     "data": {
      "application/vnd.jupyter.widget-view+json": {
       "model_id": "34358b726d694f1f9d7d35ef3cb9e79d",
       "version_major": 2,
       "version_minor": 0
      },
      "text/plain": [
       "vocab.txt:   0%|          | 0.00/232k [00:00<?, ?B/s]"
      ]
     },
     "metadata": {},
     "output_type": "display_data"
    }
   ],
   "source": [
    "# Sentiment Analysis Pipeline\n",
    "classifier = pipeline('sentiment-analysis')"
   ]
  },
  {
   "cell_type": "code",
   "execution_count": null,
   "metadata": {
    "id": "ptdqj8kDNIvm"
   },
   "outputs": [],
   "source": [
    "# News Articles\n",
    "news_list = []\n",
    "\n",
    "for symbol in symbols:\n",
    "    news_list.extend(rest_client.get_news(symbol, start=start_date, end=end_date, limit=50))"
   ]
  },
  {
   "cell_type": "code",
   "execution_count": null,
   "metadata": {
    "colab": {
     "base_uri": "https://localhost:8080/",
     "height": 293
    },
    "executionInfo": {
     "elapsed": 22952,
     "status": "ok",
     "timestamp": 1717251753408,
     "user": {
      "displayName": "Roselyn Rozario",
      "userId": "12583446628825092945"
     },
     "user_tz": 240
    },
    "id": "Cs4AfwB4MB96",
    "outputId": "92129294-05fb-4b0c-daa2-e91976caa87c"
   },
   "outputs": [
    {
     "data": {
      "application/vnd.google.colaboratory.intrinsic+json": {
       "summary": "{\n  \"name\": \"df\",\n  \"rows\": 150,\n  \"fields\": [\n    {\n      \"column\": \"author\",\n      \"properties\": {\n        \"dtype\": \"category\",\n        \"num_unique_values\": 28,\n        \"samples\": [\n          \"Chris Katje\",\n          \"Zaheer Anwari\",\n          \"Benzinga Neuro\"\n        ],\n        \"semantic_type\": \"\",\n        \"description\": \"\"\n      }\n    },\n    {\n      \"column\": \"created_at\",\n      \"properties\": {\n        \"dtype\": \"date\",\n        \"min\": \"2023-12-21 14:03:07+00:00\",\n        \"max\": \"2023-12-30 21:26:56+00:00\",\n        \"num_unique_values\": 117,\n        \"samples\": [\n          \"2023-12-27 10:34:40+00:00\",\n          \"2023-12-30 03:01:41+00:00\",\n          \"2023-12-29 06:39:51+00:00\"\n        ],\n        \"semantic_type\": \"\",\n        \"description\": \"\"\n      }\n    },\n    {\n      \"column\": \"headline\",\n      \"properties\": {\n        \"dtype\": \"string\",\n        \"num_unique_values\": 114,\n        \"samples\": [\n          \"Alphabet, Coinbase Global And 2 Other Stocks Insiders Are Selling\",\n          \"CEO Elon Musk Reiterates Tesla Market Cap Could Surpass Apple, Saudi Aramco Combined In Next 5 Years: 'If...Executes Extremely Well'\",\n          \"Top 10 Trending Stocks On WallStreetBets As Of December 27, 2023 (Via Swaggy Stocks)\"\n        ],\n        \"semantic_type\": \"\",\n        \"description\": \"\"\n      }\n    },\n    {\n      \"column\": \"summary\",\n      \"properties\": {\n        \"dtype\": \"string\",\n        \"num_unique_values\": 88,\n        \"samples\": [\n          \"Baidu, Inc\\u00a0(NASDAQ:\\u00a0BIDU) stock is trading higher on Thursday, mirroring the broader\\u00a0IShares China Large-Cap ETF\\u00a0(NYSE:\\u00a0\",\n          \"Benzinga\\u00a0examined the prospects for many investors&#39;\\u00a0favorite stocks over the last week \\u2014 here&#39;s a look at some of our top stories.\",\n          \"On Wednesday, a U.S.\"\n        ],\n        \"semantic_type\": \"\",\n        \"description\": \"\"\n      }\n    },\n    {\n      \"column\": \"symbols\",\n      \"properties\": {\n        \"dtype\": \"object\",\n        \"semantic_type\": \"\",\n        \"description\": \"\"\n      }\n    },\n    {\n      \"column\": \"sentiment\",\n      \"properties\": {\n        \"dtype\": \"category\",\n        \"num_unique_values\": 2,\n        \"samples\": [\n          \"NEGATIVE\",\n          \"POSITIVE\"\n        ],\n        \"semantic_type\": \"\",\n        \"description\": \"\"\n      }\n    },\n    {\n      \"column\": \"label\",\n      \"properties\": {\n        \"dtype\": \"number\",\n        \"std\": 0,\n        \"min\": 0,\n        \"max\": 1,\n        \"num_unique_values\": 2,\n        \"samples\": [\n          0,\n          1\n        ],\n        \"semantic_type\": \"\",\n        \"description\": \"\"\n      }\n    }\n  ]\n}",
       "type": "dataframe",
       "variable_name": "df"
      },
      "text/html": [
       "\n",
       "  <div id=\"df-e9c5854a-302f-4c3f-9e17-768adddecf2f\" class=\"colab-df-container\">\n",
       "    <div>\n",
       "<style scoped>\n",
       "    .dataframe tbody tr th:only-of-type {\n",
       "        vertical-align: middle;\n",
       "    }\n",
       "\n",
       "    .dataframe tbody tr th {\n",
       "        vertical-align: top;\n",
       "    }\n",
       "\n",
       "    .dataframe thead th {\n",
       "        text-align: right;\n",
       "    }\n",
       "</style>\n",
       "<table border=\"1\" class=\"dataframe\">\n",
       "  <thead>\n",
       "    <tr style=\"text-align: right;\">\n",
       "      <th></th>\n",
       "      <th>author</th>\n",
       "      <th>created_at</th>\n",
       "      <th>headline</th>\n",
       "      <th>summary</th>\n",
       "      <th>symbols</th>\n",
       "      <th>sentiment</th>\n",
       "      <th>label</th>\n",
       "    </tr>\n",
       "  </thead>\n",
       "  <tbody>\n",
       "    <tr>\n",
       "      <th>0</th>\n",
       "      <td>Michael Cohen</td>\n",
       "      <td>2023-12-30 17:23:40+00:00</td>\n",
       "      <td>Benzinga Bulls And Bears: Tesla, Apple, Micros...</td>\n",
       "      <td>Benzinga examined the prospects for many inves...</td>\n",
       "      <td>[AAPL, BTCUSD, DOGEUSD, ETHUSD, MASI, MSFT, PL...</td>\n",
       "      <td>POSITIVE</td>\n",
       "      <td>1</td>\n",
       "    </tr>\n",
       "    <tr>\n",
       "      <th>1</th>\n",
       "      <td>Nabaparna Bhattacharya</td>\n",
       "      <td>2023-12-30 16:03:24+00:00</td>\n",
       "      <td>Foldable Phones Battle For Market Share: Samsu...</td>\n",
       "      <td>The smartphone industry, excluding Apple Inc. ...</td>\n",
       "      <td>[AAPL, MSI, SSNGY]</td>\n",
       "      <td>NEGATIVE</td>\n",
       "      <td>0</td>\n",
       "    </tr>\n",
       "    <tr>\n",
       "      <th>2</th>\n",
       "      <td>Anan Ashraf</td>\n",
       "      <td>2023-12-30 04:39:29+00:00</td>\n",
       "      <td>Gary Black Says Apple Should Buy Rivian To Cat...</td>\n",
       "      <td></td>\n",
       "      <td>[AAPL, AMZN, RIVN]</td>\n",
       "      <td>NEGATIVE</td>\n",
       "      <td>0</td>\n",
       "    </tr>\n",
       "    <tr>\n",
       "      <th>3</th>\n",
       "      <td>Shanthi Rexaline</td>\n",
       "      <td>2023-12-29 11:02:01+00:00</td>\n",
       "      <td>2023's Top Dogs: Nvidia, Meta Lead S&amp;P 500 Cha...</td>\n",
       "      <td>2023 turned out to be the year of mega-techs, ...</td>\n",
       "      <td>[AAPL, AMD, AMZN, BLDR, CCL, GOOG, GOOGL, IWO,...</td>\n",
       "      <td>NEGATIVE</td>\n",
       "      <td>0</td>\n",
       "    </tr>\n",
       "    <tr>\n",
       "      <th>4</th>\n",
       "      <td>Anan Ashraf</td>\n",
       "      <td>2023-12-30 03:01:41+00:00</td>\n",
       "      <td>CEO Elon Musk Reiterates Tesla Market Cap Coul...</td>\n",
       "      <td></td>\n",
       "      <td>[AAPL, TSLA]</td>\n",
       "      <td>POSITIVE</td>\n",
       "      <td>1</td>\n",
       "    </tr>\n",
       "  </tbody>\n",
       "</table>\n",
       "</div>\n",
       "    <div class=\"colab-df-buttons\">\n",
       "\n",
       "  <div class=\"colab-df-container\">\n",
       "    <button class=\"colab-df-convert\" onclick=\"convertToInteractive('df-e9c5854a-302f-4c3f-9e17-768adddecf2f')\"\n",
       "            title=\"Convert this dataframe to an interactive table.\"\n",
       "            style=\"display:none;\">\n",
       "\n",
       "  <svg xmlns=\"http://www.w3.org/2000/svg\" height=\"24px\" viewBox=\"0 -960 960 960\">\n",
       "    <path d=\"M120-120v-720h720v720H120Zm60-500h600v-160H180v160Zm220 220h160v-160H400v160Zm0 220h160v-160H400v160ZM180-400h160v-160H180v160Zm440 0h160v-160H620v160ZM180-180h160v-160H180v160Zm440 0h160v-160H620v160Z\"/>\n",
       "  </svg>\n",
       "    </button>\n",
       "\n",
       "  <style>\n",
       "    .colab-df-container {\n",
       "      display:flex;\n",
       "      gap: 12px;\n",
       "    }\n",
       "\n",
       "    .colab-df-convert {\n",
       "      background-color: #E8F0FE;\n",
       "      border: none;\n",
       "      border-radius: 50%;\n",
       "      cursor: pointer;\n",
       "      display: none;\n",
       "      fill: #1967D2;\n",
       "      height: 32px;\n",
       "      padding: 0 0 0 0;\n",
       "      width: 32px;\n",
       "    }\n",
       "\n",
       "    .colab-df-convert:hover {\n",
       "      background-color: #E2EBFA;\n",
       "      box-shadow: 0px 1px 2px rgba(60, 64, 67, 0.3), 0px 1px 3px 1px rgba(60, 64, 67, 0.15);\n",
       "      fill: #174EA6;\n",
       "    }\n",
       "\n",
       "    .colab-df-buttons div {\n",
       "      margin-bottom: 4px;\n",
       "    }\n",
       "\n",
       "    [theme=dark] .colab-df-convert {\n",
       "      background-color: #3B4455;\n",
       "      fill: #D2E3FC;\n",
       "    }\n",
       "\n",
       "    [theme=dark] .colab-df-convert:hover {\n",
       "      background-color: #434B5C;\n",
       "      box-shadow: 0px 1px 3px 1px rgba(0, 0, 0, 0.15);\n",
       "      filter: drop-shadow(0px 1px 2px rgba(0, 0, 0, 0.3));\n",
       "      fill: #FFFFFF;\n",
       "    }\n",
       "  </style>\n",
       "\n",
       "    <script>\n",
       "      const buttonEl =\n",
       "        document.querySelector('#df-e9c5854a-302f-4c3f-9e17-768adddecf2f button.colab-df-convert');\n",
       "      buttonEl.style.display =\n",
       "        google.colab.kernel.accessAllowed ? 'block' : 'none';\n",
       "\n",
       "      async function convertToInteractive(key) {\n",
       "        const element = document.querySelector('#df-e9c5854a-302f-4c3f-9e17-768adddecf2f');\n",
       "        const dataTable =\n",
       "          await google.colab.kernel.invokeFunction('convertToInteractive',\n",
       "                                                    [key], {});\n",
       "        if (!dataTable) return;\n",
       "\n",
       "        const docLinkHtml = 'Like what you see? Visit the ' +\n",
       "          '<a target=\"_blank\" href=https://colab.research.google.com/notebooks/data_table.ipynb>data table notebook</a>'\n",
       "          + ' to learn more about interactive tables.';\n",
       "        element.innerHTML = '';\n",
       "        dataTable['output_type'] = 'display_data';\n",
       "        await google.colab.output.renderOutput(dataTable, element);\n",
       "        const docLink = document.createElement('div');\n",
       "        docLink.innerHTML = docLinkHtml;\n",
       "        element.appendChild(docLink);\n",
       "      }\n",
       "    </script>\n",
       "  </div>\n",
       "\n",
       "\n",
       "<div id=\"df-cacd6397-9cfd-459a-9b19-104622bc8099\">\n",
       "  <button class=\"colab-df-quickchart\" onclick=\"quickchart('df-cacd6397-9cfd-459a-9b19-104622bc8099')\"\n",
       "            title=\"Suggest charts\"\n",
       "            style=\"display:none;\">\n",
       "\n",
       "<svg xmlns=\"http://www.w3.org/2000/svg\" height=\"24px\"viewBox=\"0 0 24 24\"\n",
       "     width=\"24px\">\n",
       "    <g>\n",
       "        <path d=\"M19 3H5c-1.1 0-2 .9-2 2v14c0 1.1.9 2 2 2h14c1.1 0 2-.9 2-2V5c0-1.1-.9-2-2-2zM9 17H7v-7h2v7zm4 0h-2V7h2v10zm4 0h-2v-4h2v4z\"/>\n",
       "    </g>\n",
       "</svg>\n",
       "  </button>\n",
       "\n",
       "<style>\n",
       "  .colab-df-quickchart {\n",
       "      --bg-color: #E8F0FE;\n",
       "      --fill-color: #1967D2;\n",
       "      --hover-bg-color: #E2EBFA;\n",
       "      --hover-fill-color: #174EA6;\n",
       "      --disabled-fill-color: #AAA;\n",
       "      --disabled-bg-color: #DDD;\n",
       "  }\n",
       "\n",
       "  [theme=dark] .colab-df-quickchart {\n",
       "      --bg-color: #3B4455;\n",
       "      --fill-color: #D2E3FC;\n",
       "      --hover-bg-color: #434B5C;\n",
       "      --hover-fill-color: #FFFFFF;\n",
       "      --disabled-bg-color: #3B4455;\n",
       "      --disabled-fill-color: #666;\n",
       "  }\n",
       "\n",
       "  .colab-df-quickchart {\n",
       "    background-color: var(--bg-color);\n",
       "    border: none;\n",
       "    border-radius: 50%;\n",
       "    cursor: pointer;\n",
       "    display: none;\n",
       "    fill: var(--fill-color);\n",
       "    height: 32px;\n",
       "    padding: 0;\n",
       "    width: 32px;\n",
       "  }\n",
       "\n",
       "  .colab-df-quickchart:hover {\n",
       "    background-color: var(--hover-bg-color);\n",
       "    box-shadow: 0 1px 2px rgba(60, 64, 67, 0.3), 0 1px 3px 1px rgba(60, 64, 67, 0.15);\n",
       "    fill: var(--button-hover-fill-color);\n",
       "  }\n",
       "\n",
       "  .colab-df-quickchart-complete:disabled,\n",
       "  .colab-df-quickchart-complete:disabled:hover {\n",
       "    background-color: var(--disabled-bg-color);\n",
       "    fill: var(--disabled-fill-color);\n",
       "    box-shadow: none;\n",
       "  }\n",
       "\n",
       "  .colab-df-spinner {\n",
       "    border: 2px solid var(--fill-color);\n",
       "    border-color: transparent;\n",
       "    border-bottom-color: var(--fill-color);\n",
       "    animation:\n",
       "      spin 1s steps(1) infinite;\n",
       "  }\n",
       "\n",
       "  @keyframes spin {\n",
       "    0% {\n",
       "      border-color: transparent;\n",
       "      border-bottom-color: var(--fill-color);\n",
       "      border-left-color: var(--fill-color);\n",
       "    }\n",
       "    20% {\n",
       "      border-color: transparent;\n",
       "      border-left-color: var(--fill-color);\n",
       "      border-top-color: var(--fill-color);\n",
       "    }\n",
       "    30% {\n",
       "      border-color: transparent;\n",
       "      border-left-color: var(--fill-color);\n",
       "      border-top-color: var(--fill-color);\n",
       "      border-right-color: var(--fill-color);\n",
       "    }\n",
       "    40% {\n",
       "      border-color: transparent;\n",
       "      border-right-color: var(--fill-color);\n",
       "      border-top-color: var(--fill-color);\n",
       "    }\n",
       "    60% {\n",
       "      border-color: transparent;\n",
       "      border-right-color: var(--fill-color);\n",
       "    }\n",
       "    80% {\n",
       "      border-color: transparent;\n",
       "      border-right-color: var(--fill-color);\n",
       "      border-bottom-color: var(--fill-color);\n",
       "    }\n",
       "    90% {\n",
       "      border-color: transparent;\n",
       "      border-bottom-color: var(--fill-color);\n",
       "    }\n",
       "  }\n",
       "</style>\n",
       "\n",
       "  <script>\n",
       "    async function quickchart(key) {\n",
       "      const quickchartButtonEl =\n",
       "        document.querySelector('#' + key + ' button');\n",
       "      quickchartButtonEl.disabled = true;  // To prevent multiple clicks.\n",
       "      quickchartButtonEl.classList.add('colab-df-spinner');\n",
       "      try {\n",
       "        const charts = await google.colab.kernel.invokeFunction(\n",
       "            'suggestCharts', [key], {});\n",
       "      } catch (error) {\n",
       "        console.error('Error during call to suggestCharts:', error);\n",
       "      }\n",
       "      quickchartButtonEl.classList.remove('colab-df-spinner');\n",
       "      quickchartButtonEl.classList.add('colab-df-quickchart-complete');\n",
       "    }\n",
       "    (() => {\n",
       "      let quickchartButtonEl =\n",
       "        document.querySelector('#df-cacd6397-9cfd-459a-9b19-104622bc8099 button');\n",
       "      quickchartButtonEl.style.display =\n",
       "        google.colab.kernel.accessAllowed ? 'block' : 'none';\n",
       "    })();\n",
       "  </script>\n",
       "</div>\n",
       "    </div>\n",
       "  </div>\n"
      ],
      "text/plain": [
       "                   author                created_at  \\\n",
       "0           Michael Cohen 2023-12-30 17:23:40+00:00   \n",
       "1  Nabaparna Bhattacharya 2023-12-30 16:03:24+00:00   \n",
       "2             Anan Ashraf 2023-12-30 04:39:29+00:00   \n",
       "3        Shanthi Rexaline 2023-12-29 11:02:01+00:00   \n",
       "4             Anan Ashraf 2023-12-30 03:01:41+00:00   \n",
       "\n",
       "                                            headline  \\\n",
       "0  Benzinga Bulls And Bears: Tesla, Apple, Micros...   \n",
       "1  Foldable Phones Battle For Market Share: Samsu...   \n",
       "2  Gary Black Says Apple Should Buy Rivian To Cat...   \n",
       "3  2023's Top Dogs: Nvidia, Meta Lead S&P 500 Cha...   \n",
       "4  CEO Elon Musk Reiterates Tesla Market Cap Coul...   \n",
       "\n",
       "                                             summary  \\\n",
       "0  Benzinga examined the prospects for many inves...   \n",
       "1  The smartphone industry, excluding Apple Inc. ...   \n",
       "2                                                      \n",
       "3  2023 turned out to be the year of mega-techs, ...   \n",
       "4                                                      \n",
       "\n",
       "                                             symbols sentiment  label  \n",
       "0  [AAPL, BTCUSD, DOGEUSD, ETHUSD, MASI, MSFT, PL...  POSITIVE      1  \n",
       "1                                 [AAPL, MSI, SSNGY]  NEGATIVE      0  \n",
       "2                                 [AAPL, AMZN, RIVN]  NEGATIVE      0  \n",
       "3  [AAPL, AMD, AMZN, BLDR, CCL, GOOG, GOOGL, IWO,...  NEGATIVE      0  \n",
       "4                                       [AAPL, TSLA]  POSITIVE      1  "
      ]
     },
     "execution_count": 19,
     "metadata": {},
     "output_type": "execute_result"
    }
   ],
   "source": [
    "news_data = []\n",
    "\n",
    "for article in news_list:\n",
    "    text = article.headline + \". \" + article.summary\n",
    "    sentiment = classifier(text)[0]\n",
    "    sentiment_label = 1 if sentiment['label'] == 'POSITIVE' else 0\n",
    "\n",
    "    news_data.append({\n",
    "        'author': article.author,\n",
    "        'created_at': article.created_at,\n",
    "        'headline': article.headline,\n",
    "        'summary': article.summary,\n",
    "        'symbols': article.symbols,\n",
    "        'sentiment': sentiment['label'],\n",
    "        'label': sentiment_label\n",
    "    })\n",
    "\n",
    "# Create DataFrame\n",
    "df = pd.DataFrame(news_data)\n",
    "\n",
    "df = df.dropna(subset=['headline'])\n",
    "df = df.loc[~df['headline'].str.contains('\\n|^\\s*$', regex=True)]\n",
    "\n",
    "df.head()"
   ]
  },
  {
   "cell_type": "code",
   "execution_count": null,
   "metadata": {
    "colab": {
     "base_uri": "https://localhost:8080/"
    },
    "executionInfo": {
     "elapsed": 3,
     "status": "ok",
     "timestamp": 1717251753408,
     "user": {
      "displayName": "Roselyn Rozario",
      "userId": "12583446628825092945"
     },
     "user_tz": 240
    },
    "id": "pj2cH4NsC1Iq",
    "outputId": "4171bcfc-a20a-4694-c0f2-0d33631a684b"
   },
   "outputs": [
    {
     "data": {
      "text/plain": [
       "author        150\n",
       "created_at    150\n",
       "headline      150\n",
       "summary       150\n",
       "symbols       150\n",
       "sentiment     150\n",
       "label         150\n",
       "dtype: int64"
      ]
     },
     "execution_count": 20,
     "metadata": {},
     "output_type": "execute_result"
    }
   ],
   "source": [
    "df.count()"
   ]
  },
  {
   "cell_type": "code",
   "execution_count": null,
   "metadata": {
    "id": "JOjp7ZXcCapd"
   },
   "outputs": [],
   "source": [
    "text = list(df['headline'])\n",
    "labels = list(df['label'])"
   ]
  },
  {
   "cell_type": "code",
   "execution_count": null,
   "metadata": {
    "id": "B50F-GzQEYNg"
   },
   "outputs": [],
   "source": [
    "# Split Data into Training and Testing Sets\n",
    "training_text = text[0:100]\n",
    "testing_text = text[100:150]"
   ]
  },
  {
   "cell_type": "code",
   "execution_count": null,
   "metadata": {
    "id": "nt0L00teoJtY"
   },
   "outputs": [],
   "source": [
    "# Pre-Process\n",
    "tokenizer = Tokenizer(num_words=10000, oov_token=\"<OOV>\")\n",
    "tokenizer.fit_on_texts(training_text)\n",
    "\n",
    "training_sequences = tokenizer.texts_to_sequences(training_text)\n",
    "training_padded = pad_sequences(training_sequences, maxlen=120, padding='post', truncating='post')\n",
    "\n",
    "testing_sequences = tokenizer.texts_to_sequences(testing_text)\n",
    "testing_padded = pad_sequences(testing_sequences, maxlen=120, padding='post', truncating='post')\n",
    "\n",
    "training_labels = np.array(labels[0:100])\n",
    "testing_labels = np.array(labels[100:150])"
   ]
  },
  {
   "cell_type": "code",
   "execution_count": null,
   "metadata": {
    "id": "idUTHREpoT7S"
   },
   "outputs": [],
   "source": [
    "# Model Architecture\n",
    "model = tf.keras.Sequential([\n",
    "    tf.keras.layers.Embedding(input_dim=10000, output_dim=16, input_length=120),\n",
    "    tf.keras.layers.Conv1D(64, 5, activation='relu'),\n",
    "    tf.keras.layers.MaxPooling1D(pool_size=4),\n",
    "    tf.keras.layers.LSTM(64, return_sequences=True),\n",
    "    tf.keras.layers.GlobalMaxPooling1D(),\n",
    "    tf.keras.layers.Dropout(0.5),\n",
    "    tf.keras.layers.Dense(64, activation='relu'),\n",
    "    tf.keras.layers.Dropout(0.5),\n",
    "    tf.keras.layers.Dense(1, activation='sigmoid')\n",
    "])"
   ]
  },
  {
   "cell_type": "code",
   "execution_count": null,
   "metadata": {
    "id": "Xgf1pR7VoWXn"
   },
   "outputs": [],
   "source": [
    "model.compile(loss='binary_crossentropy', optimizer='adam', metrics=['accuracy'])"
   ]
  },
  {
   "cell_type": "code",
   "execution_count": null,
   "metadata": {
    "colab": {
     "base_uri": "https://localhost:8080/"
    },
    "executionInfo": {
     "elapsed": 454,
     "status": "ok",
     "timestamp": 1717251754164,
     "user": {
      "displayName": "Roselyn Rozario",
      "userId": "12583446628825092945"
     },
     "user_tz": 240
    },
    "id": "9sCcteTJ4KGD",
    "outputId": "93e0fcee-9c02-4c92-c721-cd5df874afb4"
   },
   "outputs": [
    {
     "name": "stdout",
     "output_type": "stream",
     "text": [
      "Model: \"sequential_3\"\n",
      "_________________________________________________________________\n",
      " Layer (type)                Output Shape              Param #   \n",
      "=================================================================\n",
      " embedding (Embedding)       (None, 120, 16)           160000    \n",
      "                                                                 \n",
      " conv1d (Conv1D)             (None, 116, 64)           5184      \n",
      "                                                                 \n",
      " max_pooling1d (MaxPooling1  (None, 29, 64)            0         \n",
      " D)                                                              \n",
      "                                                                 \n",
      " lstm_6 (LSTM)               (None, 29, 64)            33024     \n",
      "                                                                 \n",
      " global_max_pooling1d (Glob  (None, 64)                0         \n",
      " alMaxPooling1D)                                                 \n",
      "                                                                 \n",
      " dropout_3 (Dropout)         (None, 64)                0         \n",
      "                                                                 \n",
      " dense_3 (Dense)             (None, 64)                4160      \n",
      "                                                                 \n",
      " dropout_4 (Dropout)         (None, 64)                0         \n",
      "                                                                 \n",
      " dense_4 (Dense)             (None, 1)                 65        \n",
      "                                                                 \n",
      "=================================================================\n",
      "Total params: 202433 (790.75 KB)\n",
      "Trainable params: 202433 (790.75 KB)\n",
      "Non-trainable params: 0 (0.00 Byte)\n",
      "_________________________________________________________________\n"
     ]
    }
   ],
   "source": [
    "model.summary()"
   ]
  },
  {
   "cell_type": "code",
   "execution_count": null,
   "metadata": {
    "colab": {
     "base_uri": "https://localhost:8080/"
    },
    "executionInfo": {
     "elapsed": 5009,
     "status": "ok",
     "timestamp": 1717251759168,
     "user": {
      "displayName": "Roselyn Rozario",
      "userId": "12583446628825092945"
     },
     "user_tz": 240
    },
    "id": "uDBoGVfr3IZo",
    "outputId": "cc66ed4d-ee70-4f5f-ca61-026a13eaadaa"
   },
   "outputs": [
    {
     "name": "stdout",
     "output_type": "stream",
     "text": [
      "Epoch 1/20\n",
      "4/4 - 3s - loss: 0.6929 - accuracy: 0.5200 - val_loss: 0.6953 - val_accuracy: 0.4400 - 3s/epoch - 660ms/step\n",
      "Epoch 2/20\n",
      "4/4 - 0s - loss: 0.6886 - accuracy: 0.5500 - val_loss: 0.6976 - val_accuracy: 0.4400 - 129ms/epoch - 32ms/step\n",
      "Epoch 3/20\n",
      "4/4 - 0s - loss: 0.6862 - accuracy: 0.5600 - val_loss: 0.7016 - val_accuracy: 0.4400 - 129ms/epoch - 32ms/step\n",
      "Epoch 4/20\n",
      "4/4 - 0s - loss: 0.6889 - accuracy: 0.5600 - val_loss: 0.7052 - val_accuracy: 0.4400 - 129ms/epoch - 32ms/step\n",
      "Epoch 5/20\n",
      "4/4 - 0s - loss: 0.6879 - accuracy: 0.5600 - val_loss: 0.7093 - val_accuracy: 0.4400 - 138ms/epoch - 35ms/step\n",
      "Epoch 6/20\n",
      "4/4 - 0s - loss: 0.6817 - accuracy: 0.5600 - val_loss: 0.7118 - val_accuracy: 0.4400 - 137ms/epoch - 34ms/step\n",
      "Epoch 7/20\n",
      "4/4 - 0s - loss: 0.6827 - accuracy: 0.5700 - val_loss: 0.7163 - val_accuracy: 0.4400 - 124ms/epoch - 31ms/step\n",
      "Epoch 8/20\n",
      "4/4 - 0s - loss: 0.6859 - accuracy: 0.5600 - val_loss: 0.7147 - val_accuracy: 0.4400 - 128ms/epoch - 32ms/step\n",
      "Epoch 9/20\n",
      "4/4 - 0s - loss: 0.6841 - accuracy: 0.5600 - val_loss: 0.7107 - val_accuracy: 0.4400 - 127ms/epoch - 32ms/step\n",
      "Epoch 10/20\n",
      "4/4 - 0s - loss: 0.6851 - accuracy: 0.5600 - val_loss: 0.7086 - val_accuracy: 0.4400 - 130ms/epoch - 32ms/step\n",
      "Epoch 11/20\n",
      "4/4 - 0s - loss: 0.6831 - accuracy: 0.5600 - val_loss: 0.7048 - val_accuracy: 0.4400 - 124ms/epoch - 31ms/step\n",
      "Epoch 12/20\n",
      "4/4 - 0s - loss: 0.6840 - accuracy: 0.5500 - val_loss: 0.7035 - val_accuracy: 0.4400 - 142ms/epoch - 35ms/step\n",
      "Epoch 13/20\n",
      "4/4 - 0s - loss: 0.6743 - accuracy: 0.5600 - val_loss: 0.7013 - val_accuracy: 0.4400 - 134ms/epoch - 33ms/step\n",
      "Epoch 14/20\n",
      "4/4 - 0s - loss: 0.6635 - accuracy: 0.5600 - val_loss: 0.6969 - val_accuracy: 0.4400 - 129ms/epoch - 32ms/step\n",
      "Epoch 15/20\n",
      "4/4 - 0s - loss: 0.6601 - accuracy: 0.5700 - val_loss: 0.6901 - val_accuracy: 0.4400 - 130ms/epoch - 33ms/step\n",
      "Epoch 16/20\n",
      "4/4 - 0s - loss: 0.6480 - accuracy: 0.5700 - val_loss: 0.6788 - val_accuracy: 0.5200 - 128ms/epoch - 32ms/step\n",
      "Epoch 17/20\n",
      "4/4 - 0s - loss: 0.6343 - accuracy: 0.6100 - val_loss: 0.6607 - val_accuracy: 0.5200 - 133ms/epoch - 33ms/step\n",
      "Epoch 18/20\n",
      "4/4 - 0s - loss: 0.6041 - accuracy: 0.7000 - val_loss: 0.6371 - val_accuracy: 0.6800 - 134ms/epoch - 33ms/step\n",
      "Epoch 19/20\n",
      "4/4 - 0s - loss: 0.5623 - accuracy: 0.8000 - val_loss: 0.6044 - val_accuracy: 0.8200 - 129ms/epoch - 32ms/step\n",
      "Epoch 20/20\n",
      "4/4 - 0s - loss: 0.4963 - accuracy: 0.8600 - val_loss: 0.5620 - val_accuracy: 0.8200 - 130ms/epoch - 32ms/step\n"
     ]
    }
   ],
   "source": [
    "history = model.fit(training_padded, training_labels, epochs=20, validation_data=(testing_padded, testing_labels), verbose=2)"
   ]
  },
  {
   "cell_type": "code",
   "execution_count": null,
   "metadata": {
    "colab": {
     "base_uri": "https://localhost:8080/",
     "height": 472
    },
    "executionInfo": {
     "elapsed": 300,
     "status": "ok",
     "timestamp": 1717251759465,
     "user": {
      "displayName": "Roselyn Rozario",
      "userId": "12583446628825092945"
     },
     "user_tz": 240
    },
    "id": "Mn_JVLsa0JZp",
    "outputId": "6adeed44-562d-4885-e741-11448c279d0a"
   },
   "outputs": [
    {
     "data": {
      "image/png": "[encoded data removed]",
      "text/plain": [
       "<Figure size 640x480 with 1 Axes>"
      ]
     },
     "metadata": {},
     "output_type": "display_data"
    }
   ],
   "source": [
    "# Training and Validation Loss\n",
    "loss = history.history['loss']\n",
    "val_loss = history.history['val_loss']\n",
    "\n",
    "# Epochs\n",
    "epochs = range(1, len(loss) + 1)\n",
    "\n",
    "# Plot\n",
    "plt.plot(epochs, loss, 'b-', label='Training loss')\n",
    "plt.plot(epochs, val_loss, 'r-', label='Validation loss')\n",
    "plt.title('Training and Validation Loss')\n",
    "plt.xlabel('Epochs')\n",
    "plt.ylabel('Loss')\n",
    "plt.legend()\n",
    "\n",
    "plt.show()"
   ]
  },
  {
   "cell_type": "code",
   "execution_count": null,
   "metadata": {
    "colab": {
     "base_uri": "https://localhost:8080/"
    },
    "executionInfo": {
     "elapsed": 189,
     "status": "ok",
     "timestamp": 1717251759651,
     "user": {
      "displayName": "Roselyn Rozario",
      "userId": "12583446628825092945"
     },
     "user_tz": 240
    },
    "id": "RXaXk4aQ3Sns",
    "outputId": "8f78d812-22e2-490f-bc8d-6d4cfe4d9095"
   },
   "outputs": [
    {
     "name": "stdout",
     "output_type": "stream",
     "text": [
      "2/2 [==============================] - 0s 9ms/step\n",
      "Test Accuracy: 0.82\n"
     ]
    }
   ],
   "source": [
    "y_pred = (model.predict(testing_padded) > 0.5).astype(\"int32\")\n",
    "accuracy = accuracy_score(testing_labels, y_pred)\n",
    "print(\"Test Accuracy:\", accuracy)"
   ]
  },
  {
   "cell_type": "markdown",
   "metadata": {
    "id": "OdHsI1u-vrMz"
   },
   "source": [
    "# Strategy 3: Risk Management\n",
    "Using Risk-Focused Models to Help Inform on Trading Decisions  "
   ]
  },
  {
   "cell_type": "markdown",
   "metadata": {
    "id": "X98l0Rk5ZLBy"
   },
   "source": [
    "#### Measure Stock Tendencies to Reach a “Volatile Behavior” 30 Days after the Inference Point to Determine Risk of Each Stock"
   ]
  },
  {
   "cell_type": "code",
   "execution_count": null,
   "metadata": {
    "colab": {
     "base_uri": "https://localhost:8080/",
     "height": 401
    },
    "executionInfo": {
     "elapsed": 381,
     "status": "ok",
     "timestamp": 1717251760030,
     "user": {
      "displayName": "Roselyn Rozario",
      "userId": "12583446628825092945"
     },
     "user_tz": 240
    },
    "id": "IRqZzVJyUVDw",
    "outputId": "8c193d50-af38-476f-f9bc-184e882a563d"
   },
   "outputs": [
    {
     "data": {
      "image/png": "[encoded data removed]",
      "text/plain": [
       "<Figure size 500x300 with 1 Axes>"
      ]
     },
     "metadata": {},
     "output_type": "display_data"
    },
    {
     "name": "stdout",
     "output_type": "stream",
     "text": [
      "\n",
      " {'AAPL': 0.008, 'GOOGL': 0.0149, 'MSFT': 0.0104}\n"
     ]
    }
   ],
   "source": [
    "def measure_volatility(data, symbols, start_date, inference_point=30):\n",
    "    \"\"\"\n",
    "    Measure the Volatility of Each Symbol Over a 30-Day Period After the Inference Point\n",
    "    \"\"\"\n",
    "    volatility = {}\n",
    "    for symbol in symbols:\n",
    "        symbol_data = data.loc[symbol][start_date:]\n",
    "        pct_change = symbol_data['close'].pct_change().dropna()\n",
    "        volatility[symbol] = pct_change.std() * np.sqrt(252)  # Annualize Volatility\n",
    "    return volatility\n",
    "\n",
    "def plot_volatility(volatility):\n",
    "    \"\"\"\n",
    "    Plot the Volatility of Each Symbol\n",
    "    \"\"\"\n",
    "    plt.figure(figsize=(5, 3))\n",
    "    symbols = list(volatility.keys())\n",
    "    volatilities = list(volatility.values())\n",
    "    plt.bar(symbols, volatilities, color='skyblue')\n",
    "    plt.title('Volatility of Each Symbol')\n",
    "    plt.xlabel('Symbol')\n",
    "    plt.ylabel('Volatility')\n",
    "    plt.xticks(rotation=45)\n",
    "    plt.show()\n",
    "\n",
    "def measure_risk(data, symbols, start_date, end_date, inference_point=30, confidence_interval=95):\n",
    "    \"\"\"\n",
    "    Measure the Risk of Each Stock Based on Volatility Over a 30-Day Period After the Inference Point\n",
    "    \"\"\"\n",
    "    risk = {}\n",
    "    for symbol in symbols:\n",
    "        symbol_data = data.loc[symbol][start_date:end_date]\n",
    "        volatility = symbol_data['close'].pct_change().rolling(window=inference_point).std().iloc[-1]\n",
    "        risk[symbol] = volatility.round(4)\n",
    "    return risk\n",
    "\n",
    "volatility_data = measure_volatility(data, symbols, start_date)\n",
    "plot_volatility(volatility_data)\n",
    "\n",
    "risk_data = measure_risk(data, symbols, start_date, end_date)\n",
    "print(\"\\n\", risk_data)"
   ]
  },
  {
   "cell_type": "markdown",
   "metadata": {
    "id": "C-bWYo-nYpBP"
   },
   "source": [
    "#### Value at Risk for Each Symbol"
   ]
  },
  {
   "cell_type": "code",
   "execution_count": null,
   "metadata": {
    "colab": {
     "base_uri": "https://localhost:8080/",
     "height": 476
    },
    "executionInfo": {
     "elapsed": 457,
     "status": "ok",
     "timestamp": 1717251760484,
     "user": {
      "displayName": "Roselyn Rozario",
      "userId": "12583446628825092945"
     },
     "user_tz": 240
    },
    "id": "apqW5lm9v6g2",
    "outputId": "c7b1bade-7340-4f2f-e773-c5c47fdcb165"
   },
   "outputs": [
    {
     "data": {
      "image/png": "[encoded data removed]",
      "text/plain": [
       "<Figure size 1000x300 with 1 Axes>"
      ]
     },
     "metadata": {},
     "output_type": "display_data"
    },
    {
     "name": "stdout",
     "output_type": "stream",
     "text": [
      "\n",
      "AAPL  Value at Risk:  -3.0060606066302307\n",
      "GOOGL  Value at Risk:  -3.3516484740080483\n",
      "MSFT  Value at Risk:  -3.0911953912300545\n",
      "\n",
      " The best symbol is: AAPL with 95% confidence interval, the worst loss is -3.01% \n",
      "\n"
     ]
    },
    {
     "data": {
      "application/vnd.google.colaboratory.intrinsic+json": {
       "type": "string"
      },
      "text/plain": [
       "'AAPL'"
      ]
     },
     "execution_count": 31,
     "metadata": {},
     "output_type": "execute_result"
    }
   ],
   "source": [
    "def value_at_risk(data, symbols, start_date, end_date, confidence_interval = 95):\n",
    "\n",
    "  # Initial Dataset\n",
    "  for symbol in symbols:\n",
    "    symbol_data = data.loc[symbol]\n",
    "\n",
    "    # Convert Index to Datetime if Necessary\n",
    "    if not isinstance(symbol_data.index, pd.DatetimeIndex):\n",
    "        symbol_data.index = pd.to_datetime(symbol_data.index)\n",
    "\n",
    "  # Get Dataset With Each Symbol as One Column\n",
    "  new_data = data.loc[symbols[0]][[\"close\"]]\n",
    "  new_data = new_data.rename(columns = {\"close\":symbols[0]})\n",
    "  for symbol in symbols[1:]:\n",
    "    new_data[symbol] = data.loc[symbol][[\"close\"]].values\n",
    "\n",
    "  # Filter Dates\n",
    "  new_data = new_data[start_date:end_date]\n",
    "\n",
    "  # DataFrame for Returns of Each Day\n",
    "  returns = new_data.pct_change().dropna()\n",
    "\n",
    "  # Plot Returns\n",
    "  plt.figure(figsize=(10,3))\n",
    "  for symbol in symbols:\n",
    "    plt.plot(returns.index, returns[symbol], label=symbol)\n",
    "  plt.title('Return % by Symbol')\n",
    "  plt.xlabel('Date')\n",
    "  plt.ylabel('Price')\n",
    "  plt.legend()\n",
    "  plt.show()\n",
    "\n",
    "  print()\n",
    "\n",
    "  # Get Value at Risk for Each Symbol and Select the Best One\n",
    "  confidence_interval_inv = 100 - confidence_interval\n",
    "  best_symbol = \"\"\n",
    "  best_return_perc = -100\n",
    "\n",
    "  for symbol in symbols:\n",
    "    return_current = np.percentile(returns[symbol], confidence_interval_inv) * 100\n",
    "\n",
    "    print(symbol, \" Value at Risk: \", return_current)\n",
    "\n",
    "    if return_current > best_return_perc:\n",
    "      best_return_perc = return_current\n",
    "      best_symbol = symbol\n",
    "\n",
    "  # Print Result of Best Symbol\n",
    "  print(\"\\n The best symbol is: {} with {}% confidence interval, the worst loss is {:.2f}% \\n\".format(best_symbol, confidence_interval, best_return_perc))\n",
    "\n",
    "  return best_symbol\n",
    "\n",
    "value_at_risk(data, symbols, start_date, end_date, 95)"
   ]
  },
  {
   "cell_type": "markdown",
   "metadata": {
    "id": "6dlj-Mz5GRx6"
   },
   "source": [
    "# **Chosen Model and Stock**\n",
    "Choosing a Model and Stock Based on the Performance of Each of the Strategies and Stocks"
   ]
  },
  {
   "cell_type": "code",
   "execution_count": 14,
   "metadata": {
    "colab": {
     "base_uri": "https://localhost:8080/",
     "height": 1000
    },
    "executionInfo": {
     "elapsed": 12626,
     "status": "ok",
     "timestamp": 1717255882215,
     "user": {
      "displayName": "Alberto Bermea Trevino",
      "userId": "18219897344377314048"
     },
     "user_tz": 300
    },
    "id": "6BraHa3lGMpG",
    "outputId": "e5c0bb32-fe7d-4964-fcb3-84bc6a55d3aa"
   },
   "outputs": [
    {
     "name": "stdout",
     "output_type": "stream",
     "text": [
      "Epoch 1/100\n",
      "34/34 [==============================] - 4s 28ms/step - loss: 24047.0449 - val_loss: 33719.1016\n",
      "Epoch 2/100\n",
      "34/34 [==============================] - 0s 9ms/step - loss: 23953.4980 - val_loss: 33570.6523\n",
      "Epoch 3/100\n",
      "34/34 [==============================] - 0s 9ms/step - loss: 23828.4219 - val_loss: 33411.0156\n",
      "Epoch 4/100\n",
      "34/34 [==============================] - 0s 8ms/step - loss: 23728.2715 - val_loss: 33229.0039\n",
      "Epoch 5/100\n",
      "34/34 [==============================] - 0s 5ms/step - loss: 23587.5137 - val_loss: 32999.1602\n",
      "Epoch 6/100\n",
      "34/34 [==============================] - 0s 5ms/step - loss: 23334.9531 - val_loss: 32589.9590\n",
      "Epoch 7/100\n",
      "34/34 [==============================] - 0s 5ms/step - loss: 22946.0488 - val_loss: 31657.7207\n",
      "Epoch 8/100\n",
      "34/34 [==============================] - 0s 5ms/step - loss: 21938.1660 - val_loss: 29190.2832\n",
      "Epoch 9/100\n",
      "34/34 [==============================] - 0s 5ms/step - loss: 19516.9668 - val_loss: 24309.1992\n",
      "Epoch 10/100\n",
      "34/34 [==============================] - 0s 5ms/step - loss: 16025.3086 - val_loss: 18745.9180\n",
      "Epoch 11/100\n",
      "34/34 [==============================] - 0s 5ms/step - loss: 12597.9854 - val_loss: 14364.5967\n",
      "Epoch 12/100\n",
      "34/34 [==============================] - 0s 5ms/step - loss: 9550.5020 - val_loss: 10431.4541\n",
      "Epoch 13/100\n",
      "34/34 [==============================] - 0s 5ms/step - loss: 6985.6060 - val_loss: 5695.4561\n",
      "Epoch 14/100\n",
      "34/34 [==============================] - 0s 5ms/step - loss: 3541.0835 - val_loss: 1780.2140\n",
      "Epoch 15/100\n",
      "34/34 [==============================] - 0s 5ms/step - loss: 1776.0327 - val_loss: 466.9827\n",
      "Epoch 16/100\n",
      "34/34 [==============================] - 0s 5ms/step - loss: 1450.6437 - val_loss: 65.9635\n",
      "Epoch 17/100\n",
      "34/34 [==============================] - 0s 5ms/step - loss: 979.1138 - val_loss: 4.7700\n",
      "Epoch 18/100\n",
      "34/34 [==============================] - 0s 5ms/step - loss: 896.5449 - val_loss: 16.5207\n",
      "Epoch 19/100\n",
      "34/34 [==============================] - 0s 5ms/step - loss: 1034.2446 - val_loss: 14.1684\n",
      "Epoch 20/100\n",
      "34/34 [==============================] - 0s 5ms/step - loss: 889.2432 - val_loss: 42.9502\n",
      "Epoch 21/100\n",
      "34/34 [==============================] - 0s 4ms/step - loss: 1041.2732 - val_loss: 25.3759\n",
      "Epoch 22/100\n",
      "34/34 [==============================] - 0s 5ms/step - loss: 1062.8000 - val_loss: 0.0754\n",
      "Epoch 23/100\n",
      "34/34 [==============================] - 0s 5ms/step - loss: 942.7231 - val_loss: 7.2609\n",
      "Epoch 24/100\n",
      "34/34 [==============================] - 0s 5ms/step - loss: 912.6150 - val_loss: 33.2909\n",
      "Epoch 25/100\n",
      "34/34 [==============================] - 0s 5ms/step - loss: 898.4553 - val_loss: 51.2345\n",
      "Epoch 26/100\n",
      "34/34 [==============================] - 0s 5ms/step - loss: 941.5173 - val_loss: 33.3363\n",
      "Epoch 27/100\n",
      "34/34 [==============================] - 0s 5ms/step - loss: 871.6619 - val_loss: 56.0626\n",
      "Epoch 28/100\n",
      "34/34 [==============================] - 0s 5ms/step - loss: 806.5868 - val_loss: 45.7070\n",
      "Epoch 29/100\n",
      "34/34 [==============================] - 0s 5ms/step - loss: 818.2288 - val_loss: 19.8516\n",
      "Epoch 30/100\n",
      "34/34 [==============================] - 0s 4ms/step - loss: 826.3750 - val_loss: 0.3177\n",
      "Epoch 31/100\n",
      "34/34 [==============================] - 0s 4ms/step - loss: 774.5067 - val_loss: 7.7122\n",
      "Epoch 32/100\n",
      "34/34 [==============================] - 0s 5ms/step - loss: 850.2516 - val_loss: 2.5020\n",
      "Epoch 33/100\n",
      "34/34 [==============================] - 0s 5ms/step - loss: 859.2924 - val_loss: 90.3422\n",
      "Epoch 34/100\n",
      "34/34 [==============================] - 0s 5ms/step - loss: 787.7114 - val_loss: 50.7484\n",
      "Epoch 35/100\n",
      "34/34 [==============================] - 0s 4ms/step - loss: 721.1598 - val_loss: 37.5646\n",
      "Epoch 36/100\n",
      "34/34 [==============================] - 0s 5ms/step - loss: 790.7753 - val_loss: 13.6339\n",
      "Epoch 37/100\n",
      "34/34 [==============================] - 0s 5ms/step - loss: 818.7246 - val_loss: 37.3976\n",
      "Epoch 38/100\n",
      "34/34 [==============================] - 0s 5ms/step - loss: 830.6566 - val_loss: 27.2394\n",
      "Epoch 39/100\n",
      "34/34 [==============================] - 0s 5ms/step - loss: 813.7224 - val_loss: 113.0309\n",
      "Epoch 40/100\n",
      "34/34 [==============================] - 0s 5ms/step - loss: 798.0010 - val_loss: 40.9769\n",
      "Epoch 41/100\n",
      "34/34 [==============================] - 0s 5ms/step - loss: 756.1766 - val_loss: 53.0883\n",
      "Epoch 42/100\n",
      "28/34 [=======================>......] - ETA: 0s - loss: 774.2947Restoring model weights from the end of the best epoch: 22.\n",
      "34/34 [==============================] - 0s 5ms/step - loss: 742.1435 - val_loss: 25.5216\n",
      "Epoch 42: early stopping\n",
      "14/14 [==============================] - 0s 2ms/step\n",
      "3/3 [==============================] - 0s 4ms/step\n",
      "\n",
      " [-1 -1 -1 -1 -1 -1 -1 -1 -1 -1 -1 -1 -1 -1 -1 -1 -1 -1 -1 -1 -1 -1 -1 -1\n",
      " -1 -1 -1 -1 -1 -1 -1 -1 -1 -1 -1 -1 -1 -1 -1 -1 -1 -1 -1 -1 -1 -1 -1 -1\n",
      " -1 -1 -1 -1 -1 -1 -1 -1 -1 -1 -1 -1 -1 -1 -1 -1 -1 -1 -1 -1 -1 -1 -1 -1\n",
      " -1 -1 -1 -1] \n",
      "\n"
     ]
    },
    {
     "data": {
      "image/png": "[encoded data removed]",
      "text/plain": [
       "<Figure size 1000x600 with 1 Axes>"
      ]
     },
     "metadata": {},
     "output_type": "display_data"
    },
    {
     "name": "stdout",
     "output_type": "stream",
     "text": [
      "\n",
      "\n",
      "RNN Forecasting - Train RMSE for AAPL: 0.14\n",
      "RNN Forecasting - Test RMSE for AAPL: 0.29 \n",
      "\n"
     ]
    }
   ],
   "source": [
    "rnn_signals = {}\n",
    "\n",
    "seed_value = 42\n",
    "os.environ['PYTHONHASHSEED'] = str(seed_value)\n",
    "\n",
    "# Chosen Stock\n",
    "symbol = 'AAPL'\n",
    "symbol_data = data.loc[symbol]\n",
    "\n",
    "# Prepare Data for LSTM\n",
    "X = symbol_data['close'].values.reshape(-1, 1)\n",
    "y = symbol_data['close'].values\n",
    "\n",
    "# Split Data Into Train and Test Datasets\n",
    "train_size = int(len(X) * 0.85)\n",
    "test_size = len(X) - train_size\n",
    "X_train, X_test = X[0:train_size,:], X[train_size:,:]\n",
    "y_train, y_test = y[0:train_size], y[train_size:]\n",
    "\n",
    "\n",
    "# Reshape Data for LSTM\n",
    "X_train_lstm = np.reshape(X_train, (X_train.shape[0], 1, X_train.shape[1]))\n",
    "X_test_lstm = np.reshape(X_test, (X_test.shape[0], 1, X_test.shape[1]))\n",
    "\n",
    "# Define RNN Model\n",
    "model_rnn = Sequential([\n",
    "    LSTM(units=50, input_shape=(X_train_lstm.shape[1], X_train_lstm.shape[2]), activation='relu', return_sequences=True),\n",
    "    Dropout(0.2),\n",
    "    LSTM(units=50, activation='relu'),\n",
    "    Dropout(0.2),\n",
    "    Dense(units=1)\n",
    "])\n",
    "\n",
    "optimizer = Adam(learning_rate=0.0001)\n",
    "\n",
    "# Compile Model\n",
    "model_rnn.compile(optimizer=optimizer, loss='mean_squared_error')\n",
    "\n",
    "# Early Stopping\n",
    "early_stopping = EarlyStopping(monitor='val_loss',\n",
    "                               patience=20,\n",
    "                               min_delta=1,\n",
    "                               verbose=1,\n",
    "                               mode='min',\n",
    "                               restore_best_weights=True)\n",
    "\n",
    "# Fit Model\n",
    "history = model_rnn.fit(X_train_lstm, y_train, epochs=100, batch_size = 10, verbose=1, validation_split=0.2, callbacks=[early_stopping])\n",
    "\n",
    "# Predictions\n",
    "train_predict_rnn = model_rnn.predict(X_train_lstm)\n",
    "test_predict_rnn = model_rnn.predict(X_test_lstm)\n",
    "\n",
    "# Create Signals: Buy When Forecasted Price Increases, Sell When Forecasted Price Decreases\n",
    "signal_rnn = np.where(test_predict_rnn.squeeze() > X_test_lstm.squeeze(), 1, -1)\n",
    "print(\"\\n\", signal_rnn, \"\\n\")\n",
    "\n",
    "# Store Forecasted Values and Signal\n",
    "rnn_signals[symbol] = {'forecast': test_predict_rnn, 'signal': signal_rnn, 'index': symbol_data[train_size:].index}\n",
    "\n",
    "# Plot Forecast\n",
    "plt.figure(figsize=(10,6))\n",
    "plt.plot(symbol_data[:train_size].index, X_train, label='Train')\n",
    "plt.plot(symbol_data[train_size:].index, X_test, label='Test')\n",
    "plt.plot(symbol_data[train_size:].index, test_predict_rnn, label='RNN Forecast')\n",
    "plt.title('RNN Forecast for {}'.format(symbol))\n",
    "plt.xlabel('Date')\n",
    "plt.ylabel('Price')\n",
    "plt.legend()\n",
    "plt.show()\n",
    "\n",
    "# RMSE for RNN\n",
    "rmse_rnn_train = sqrt(mean_squared_error(y_train, train_predict_rnn))\n",
    "rmse_rnn_test = sqrt(mean_squared_error(y_test, test_predict_rnn))\n",
    "print(\"\\n\")\n",
    "print('RNN Forecasting - Train RMSE for {}: {:.2f}'.format(symbol, rmse_rnn_train))\n",
    "print('RNN Forecasting - Test RMSE for {}: {:.2f}'.format(symbol, rmse_rnn_test), \"\\n\")"
   ]
  },
  {
   "cell_type": "markdown",
   "metadata": {
    "id": "Le1ywox1P0dt"
   },
   "source": [
    "RNN selected as the chosen model due its ability to predict better than ARIMA, as shown in the results of Strategy 1. Additionally, Strategy 2's use sentiment analysis is based on a small amount of articles. As for Strategy 3, the use of risk models may be too conservative to use for stock trading; however, its results will still inform the chosen RNN model in that the risk models indicate that AAPL is the lowest risk stock to invest in, which is what the chosen model will be utilizing."
   ]
  },
  {
   "cell_type": "markdown",
   "metadata": {
    "id": "JmrDFnY0KZmt"
   },
   "source": [
    "#### Save Model"
   ]
  },
  {
   "cell_type": "code",
   "execution_count": 20,
   "metadata": {
    "colab": {
     "base_uri": "https://localhost:8080/"
    },
    "executionInfo": {
     "elapsed": 2901,
     "status": "ok",
     "timestamp": 1717256074839,
     "user": {
      "displayName": "Alberto Bermea Trevino",
      "userId": "18219897344377314048"
     },
     "user_tz": 300
    },
    "id": "4UEsucDvKNBG",
    "outputId": "7defd013-d1fa-44a8-e1a8-940a267faa3a"
   },
   "outputs": [
    {
     "name": "stdout",
     "output_type": "stream",
     "text": [
      "Mounted at /content/drive\n"
     ]
    }
   ],
   "source": [
    "drive.mount('/content/drive')"
   ]
  },
  {
   "cell_type": "code",
   "execution_count": 21,
   "metadata": {
    "executionInfo": {
     "elapsed": 617,
     "status": "ok",
     "timestamp": 1717256077051,
     "user": {
      "displayName": "Alberto Bermea Trevino",
      "userId": "18219897344377314048"
     },
     "user_tz": 300
    },
    "id": "fLDc4fPAKxH8"
   },
   "outputs": [],
   "source": [
    "model_rnn.save('/content/drive/MyDrive/Colab Datasets/RealTime/chosen_model_rnn_aapl.keras')"
   ]
  },
  {
   "cell_type": "markdown",
   "metadata": {
    "id": "upVbrwVZpjWh"
   },
   "source": [
    "# **Backtesting**\n",
    "Testing Chosen Model on Chosen Stock via A Form of Backtesting that Focuses on Stock's Portfolio"
   ]
  },
  {
   "cell_type": "code",
   "execution_count": 22,
   "metadata": {
    "colab": {
     "base_uri": "https://localhost:8080/",
     "height": 237
    },
    "executionInfo": {
     "elapsed": 659,
     "status": "ok",
     "timestamp": 1717256081400,
     "user": {
      "displayName": "Alberto Bermea Trevino",
      "userId": "18219897344377314048"
     },
     "user_tz": 300
    },
    "id": "AoG5nKJ5dnF3",
    "outputId": "074136ad-82dc-42fe-ef11-fc59cacd0907"
   },
   "outputs": [
    {
     "data": {
      "application/vnd.google.colaboratory.intrinsic+json": {
       "summary": "{\n  \"name\": \"backtesting_df\",\n  \"rows\": 225,\n  \"fields\": [\n    {\n      \"column\": \"open\",\n      \"properties\": {\n        \"dtype\": \"number\",\n        \"std\": 93.69755385181203,\n        \"min\": 122.88,\n        \"max\": 383.76,\n        \"num_unique_values\": 218,\n        \"samples\": [\n          137.33,\n          373.68,\n          138.97\n        ],\n        \"semantic_type\": \"\",\n        \"description\": \"\"\n      }\n    },\n    {\n      \"column\": \"high\",\n      \"properties\": {\n        \"dtype\": \"number\",\n        \"std\": 94.33992245135224,\n        \"min\": 123.31,\n        \"max\": 384.3,\n        \"num_unique_values\": 225,\n        \"samples\": [\n          175.2,\n          339.0,\n          135.03\n        ],\n        \"semantic_type\": \"\",\n        \"description\": \"\"\n      }\n    },\n    {\n      \"column\": \"low\",\n      \"properties\": {\n        \"dtype\": \"number\",\n        \"std\": 92.91121871606417,\n        \"min\": 120.2057,\n        \"max\": 378.16,\n        \"num_unique_values\": 221,\n        \"samples\": [\n          129.875,\n          331.17,\n          135.61\n        ],\n        \"semantic_type\": \"\",\n        \"description\": \"\"\n      }\n    },\n    {\n      \"column\": \"close\",\n      \"properties\": {\n        \"dtype\": \"number\",\n        \"std\": 93.7480609658046,\n        \"min\": 122.17,\n        \"max\": 382.7,\n        \"num_unique_values\": 221,\n        \"samples\": [\n          130.99,\n          338.7,\n          138.42\n        ],\n        \"semantic_type\": \"\",\n        \"description\": \"\"\n      }\n    },\n    {\n      \"column\": \"volume\",\n      \"properties\": {\n        \"dtype\": \"number\",\n        \"std\": 18102598.777364485,\n        \"min\": 10176651.0,\n        \"max\": 128325832.0,\n        \"num_unique_values\": 225,\n        \"samples\": [\n          64597559.0,\n          20266157.0,\n          23866458.0\n        ],\n        \"semantic_type\": \"\",\n        \"description\": \"\"\n      }\n    },\n    {\n      \"column\": \"trade_count\",\n      \"properties\": {\n        \"dtype\": \"number\",\n        \"std\": 155913.64097913317,\n        \"min\": 160938.0,\n        \"max\": 1039417.0,\n        \"num_unique_values\": 225,\n        \"samples\": [\n          688566.0,\n          307435.0,\n          247516.0\n        ],\n        \"semantic_type\": \"\",\n        \"description\": \"\"\n      }\n    },\n    {\n      \"column\": \"vwap\",\n      \"properties\": {\n        \"dtype\": \"number\",\n        \"std\": 93.71635518061254,\n        \"min\": 121.73977,\n        \"max\": 381.538263,\n        \"num_unique_values\": 225,\n        \"samples\": [\n          172.715547,\n          337.243733,\n          134.367011\n        ],\n        \"semantic_type\": \"\",\n        \"description\": \"\"\n      }\n    }\n  ]\n}",
       "type": "dataframe",
       "variable_name": "backtesting_df"
      },
      "text/html": [
       "\n",
       "  <div id=\"df-09b06f34-ce74-478a-8e6a-826cad049af1\" class=\"colab-df-container\">\n",
       "    <div>\n",
       "<style scoped>\n",
       "    .dataframe tbody tr th:only-of-type {\n",
       "        vertical-align: middle;\n",
       "    }\n",
       "\n",
       "    .dataframe tbody tr th {\n",
       "        vertical-align: top;\n",
       "    }\n",
       "\n",
       "    .dataframe thead th {\n",
       "        text-align: right;\n",
       "    }\n",
       "</style>\n",
       "<table border=\"1\" class=\"dataframe\">\n",
       "  <thead>\n",
       "    <tr style=\"text-align: right;\">\n",
       "      <th></th>\n",
       "      <th></th>\n",
       "      <th>open</th>\n",
       "      <th>high</th>\n",
       "      <th>low</th>\n",
       "      <th>close</th>\n",
       "      <th>volume</th>\n",
       "      <th>trade_count</th>\n",
       "      <th>vwap</th>\n",
       "    </tr>\n",
       "    <tr>\n",
       "      <th>symbol</th>\n",
       "      <th>timestamp</th>\n",
       "      <th></th>\n",
       "      <th></th>\n",
       "      <th></th>\n",
       "      <th></th>\n",
       "      <th></th>\n",
       "      <th></th>\n",
       "      <th></th>\n",
       "    </tr>\n",
       "  </thead>\n",
       "  <tbody>\n",
       "    <tr>\n",
       "      <th rowspan=\"5\" valign=\"top\">AAPL</th>\n",
       "      <th>2023-09-13 04:00:00+00:00</th>\n",
       "      <td>176.51</td>\n",
       "      <td>177.300</td>\n",
       "      <td>173.98</td>\n",
       "      <td>174.21</td>\n",
       "      <td>84277767.0</td>\n",
       "      <td>835414.0</td>\n",
       "      <td>175.035093</td>\n",
       "    </tr>\n",
       "    <tr>\n",
       "      <th>2023-09-14 04:00:00+00:00</th>\n",
       "      <td>174.00</td>\n",
       "      <td>176.100</td>\n",
       "      <td>173.58</td>\n",
       "      <td>175.74</td>\n",
       "      <td>60898149.0</td>\n",
       "      <td>641142.0</td>\n",
       "      <td>175.370606</td>\n",
       "    </tr>\n",
       "    <tr>\n",
       "      <th>2023-09-15 04:00:00+00:00</th>\n",
       "      <td>176.48</td>\n",
       "      <td>176.495</td>\n",
       "      <td>173.82</td>\n",
       "      <td>175.01</td>\n",
       "      <td>109259462.0</td>\n",
       "      <td>729795.0</td>\n",
       "      <td>175.084343</td>\n",
       "    </tr>\n",
       "    <tr>\n",
       "      <th>2023-09-18 04:00:00+00:00</th>\n",
       "      <td>176.48</td>\n",
       "      <td>179.380</td>\n",
       "      <td>176.17</td>\n",
       "      <td>177.97</td>\n",
       "      <td>67272034.0</td>\n",
       "      <td>731499.0</td>\n",
       "      <td>177.891568</td>\n",
       "    </tr>\n",
       "    <tr>\n",
       "      <th>2023-09-19 04:00:00+00:00</th>\n",
       "      <td>177.52</td>\n",
       "      <td>179.630</td>\n",
       "      <td>177.13</td>\n",
       "      <td>179.07</td>\n",
       "      <td>51831661.0</td>\n",
       "      <td>524532.0</td>\n",
       "      <td>178.429407</td>\n",
       "    </tr>\n",
       "  </tbody>\n",
       "</table>\n",
       "</div>\n",
       "    <div class=\"colab-df-buttons\">\n",
       "\n",
       "  <div class=\"colab-df-container\">\n",
       "    <button class=\"colab-df-convert\" onclick=\"convertToInteractive('df-09b06f34-ce74-478a-8e6a-826cad049af1')\"\n",
       "            title=\"Convert this dataframe to an interactive table.\"\n",
       "            style=\"display:none;\">\n",
       "\n",
       "  <svg xmlns=\"http://www.w3.org/2000/svg\" height=\"24px\" viewBox=\"0 -960 960 960\">\n",
       "    <path d=\"M120-120v-720h720v720H120Zm60-500h600v-160H180v160Zm220 220h160v-160H400v160Zm0 220h160v-160H400v160ZM180-400h160v-160H180v160Zm440 0h160v-160H620v160ZM180-180h160v-160H180v160Zm440 0h160v-160H620v160Z\"/>\n",
       "  </svg>\n",
       "    </button>\n",
       "\n",
       "  <style>\n",
       "    .colab-df-container {\n",
       "      display:flex;\n",
       "      gap: 12px;\n",
       "    }\n",
       "\n",
       "    .colab-df-convert {\n",
       "      background-color: #E8F0FE;\n",
       "      border: none;\n",
       "      border-radius: 50%;\n",
       "      cursor: pointer;\n",
       "      display: none;\n",
       "      fill: #1967D2;\n",
       "      height: 32px;\n",
       "      padding: 0 0 0 0;\n",
       "      width: 32px;\n",
       "    }\n",
       "\n",
       "    .colab-df-convert:hover {\n",
       "      background-color: #E2EBFA;\n",
       "      box-shadow: 0px 1px 2px rgba(60, 64, 67, 0.3), 0px 1px 3px 1px rgba(60, 64, 67, 0.15);\n",
       "      fill: #174EA6;\n",
       "    }\n",
       "\n",
       "    .colab-df-buttons div {\n",
       "      margin-bottom: 4px;\n",
       "    }\n",
       "\n",
       "    [theme=dark] .colab-df-convert {\n",
       "      background-color: #3B4455;\n",
       "      fill: #D2E3FC;\n",
       "    }\n",
       "\n",
       "    [theme=dark] .colab-df-convert:hover {\n",
       "      background-color: #434B5C;\n",
       "      box-shadow: 0px 1px 3px 1px rgba(0, 0, 0, 0.15);\n",
       "      filter: drop-shadow(0px 1px 2px rgba(0, 0, 0, 0.3));\n",
       "      fill: #FFFFFF;\n",
       "    }\n",
       "  </style>\n",
       "\n",
       "    <script>\n",
       "      const buttonEl =\n",
       "        document.querySelector('#df-09b06f34-ce74-478a-8e6a-826cad049af1 button.colab-df-convert');\n",
       "      buttonEl.style.display =\n",
       "        google.colab.kernel.accessAllowed ? 'block' : 'none';\n",
       "\n",
       "      async function convertToInteractive(key) {\n",
       "        const element = document.querySelector('#df-09b06f34-ce74-478a-8e6a-826cad049af1');\n",
       "        const dataTable =\n",
       "          await google.colab.kernel.invokeFunction('convertToInteractive',\n",
       "                                                    [key], {});\n",
       "        if (!dataTable) return;\n",
       "\n",
       "        const docLinkHtml = 'Like what you see? Visit the ' +\n",
       "          '<a target=\"_blank\" href=https://colab.research.google.com/notebooks/data_table.ipynb>data table notebook</a>'\n",
       "          + ' to learn more about interactive tables.';\n",
       "        element.innerHTML = '';\n",
       "        dataTable['output_type'] = 'display_data';\n",
       "        await google.colab.output.renderOutput(dataTable, element);\n",
       "        const docLink = document.createElement('div');\n",
       "        docLink.innerHTML = docLinkHtml;\n",
       "        element.appendChild(docLink);\n",
       "      }\n",
       "    </script>\n",
       "  </div>\n",
       "\n",
       "\n",
       "<div id=\"df-f441df15-c205-4919-a293-ed0f89cff7e7\">\n",
       "  <button class=\"colab-df-quickchart\" onclick=\"quickchart('df-f441df15-c205-4919-a293-ed0f89cff7e7')\"\n",
       "            title=\"Suggest charts\"\n",
       "            style=\"display:none;\">\n",
       "\n",
       "<svg xmlns=\"http://www.w3.org/2000/svg\" height=\"24px\"viewBox=\"0 0 24 24\"\n",
       "     width=\"24px\">\n",
       "    <g>\n",
       "        <path d=\"M19 3H5c-1.1 0-2 .9-2 2v14c0 1.1.9 2 2 2h14c1.1 0 2-.9 2-2V5c0-1.1-.9-2-2-2zM9 17H7v-7h2v7zm4 0h-2V7h2v10zm4 0h-2v-4h2v4z\"/>\n",
       "    </g>\n",
       "</svg>\n",
       "  </button>\n",
       "\n",
       "<style>\n",
       "  .colab-df-quickchart {\n",
       "      --bg-color: #E8F0FE;\n",
       "      --fill-color: #1967D2;\n",
       "      --hover-bg-color: #E2EBFA;\n",
       "      --hover-fill-color: #174EA6;\n",
       "      --disabled-fill-color: #AAA;\n",
       "      --disabled-bg-color: #DDD;\n",
       "  }\n",
       "\n",
       "  [theme=dark] .colab-df-quickchart {\n",
       "      --bg-color: #3B4455;\n",
       "      --fill-color: #D2E3FC;\n",
       "      --hover-bg-color: #434B5C;\n",
       "      --hover-fill-color: #FFFFFF;\n",
       "      --disabled-bg-color: #3B4455;\n",
       "      --disabled-fill-color: #666;\n",
       "  }\n",
       "\n",
       "  .colab-df-quickchart {\n",
       "    background-color: var(--bg-color);\n",
       "    border: none;\n",
       "    border-radius: 50%;\n",
       "    cursor: pointer;\n",
       "    display: none;\n",
       "    fill: var(--fill-color);\n",
       "    height: 32px;\n",
       "    padding: 0;\n",
       "    width: 32px;\n",
       "  }\n",
       "\n",
       "  .colab-df-quickchart:hover {\n",
       "    background-color: var(--hover-bg-color);\n",
       "    box-shadow: 0 1px 2px rgba(60, 64, 67, 0.3), 0 1px 3px 1px rgba(60, 64, 67, 0.15);\n",
       "    fill: var(--button-hover-fill-color);\n",
       "  }\n",
       "\n",
       "  .colab-df-quickchart-complete:disabled,\n",
       "  .colab-df-quickchart-complete:disabled:hover {\n",
       "    background-color: var(--disabled-bg-color);\n",
       "    fill: var(--disabled-fill-color);\n",
       "    box-shadow: none;\n",
       "  }\n",
       "\n",
       "  .colab-df-spinner {\n",
       "    border: 2px solid var(--fill-color);\n",
       "    border-color: transparent;\n",
       "    border-bottom-color: var(--fill-color);\n",
       "    animation:\n",
       "      spin 1s steps(1) infinite;\n",
       "  }\n",
       "\n",
       "  @keyframes spin {\n",
       "    0% {\n",
       "      border-color: transparent;\n",
       "      border-bottom-color: var(--fill-color);\n",
       "      border-left-color: var(--fill-color);\n",
       "    }\n",
       "    20% {\n",
       "      border-color: transparent;\n",
       "      border-left-color: var(--fill-color);\n",
       "      border-top-color: var(--fill-color);\n",
       "    }\n",
       "    30% {\n",
       "      border-color: transparent;\n",
       "      border-left-color: var(--fill-color);\n",
       "      border-top-color: var(--fill-color);\n",
       "      border-right-color: var(--fill-color);\n",
       "    }\n",
       "    40% {\n",
       "      border-color: transparent;\n",
       "      border-right-color: var(--fill-color);\n",
       "      border-top-color: var(--fill-color);\n",
       "    }\n",
       "    60% {\n",
       "      border-color: transparent;\n",
       "      border-right-color: var(--fill-color);\n",
       "    }\n",
       "    80% {\n",
       "      border-color: transparent;\n",
       "      border-right-color: var(--fill-color);\n",
       "      border-bottom-color: var(--fill-color);\n",
       "    }\n",
       "    90% {\n",
       "      border-color: transparent;\n",
       "      border-bottom-color: var(--fill-color);\n",
       "    }\n",
       "  }\n",
       "</style>\n",
       "\n",
       "  <script>\n",
       "    async function quickchart(key) {\n",
       "      const quickchartButtonEl =\n",
       "        document.querySelector('#' + key + ' button');\n",
       "      quickchartButtonEl.disabled = true;  // To prevent multiple clicks.\n",
       "      quickchartButtonEl.classList.add('colab-df-spinner');\n",
       "      try {\n",
       "        const charts = await google.colab.kernel.invokeFunction(\n",
       "            'suggestCharts', [key], {});\n",
       "      } catch (error) {\n",
       "        console.error('Error during call to suggestCharts:', error);\n",
       "      }\n",
       "      quickchartButtonEl.classList.remove('colab-df-spinner');\n",
       "      quickchartButtonEl.classList.add('colab-df-quickchart-complete');\n",
       "    }\n",
       "    (() => {\n",
       "      let quickchartButtonEl =\n",
       "        document.querySelector('#df-f441df15-c205-4919-a293-ed0f89cff7e7 button');\n",
       "      quickchartButtonEl.style.display =\n",
       "        google.colab.kernel.accessAllowed ? 'block' : 'none';\n",
       "    })();\n",
       "  </script>\n",
       "</div>\n",
       "    </div>\n",
       "  </div>\n"
      ],
      "text/plain": [
       "                                    open     high     low   close  \\\n",
       "symbol timestamp                                                    \n",
       "AAPL   2023-09-13 04:00:00+00:00  176.51  177.300  173.98  174.21   \n",
       "       2023-09-14 04:00:00+00:00  174.00  176.100  173.58  175.74   \n",
       "       2023-09-15 04:00:00+00:00  176.48  176.495  173.82  175.01   \n",
       "       2023-09-18 04:00:00+00:00  176.48  179.380  176.17  177.97   \n",
       "       2023-09-19 04:00:00+00:00  177.52  179.630  177.13  179.07   \n",
       "\n",
       "                                       volume  trade_count        vwap  \n",
       "symbol timestamp                                                        \n",
       "AAPL   2023-09-13 04:00:00+00:00   84277767.0     835414.0  175.035093  \n",
       "       2023-09-14 04:00:00+00:00   60898149.0     641142.0  175.370606  \n",
       "       2023-09-15 04:00:00+00:00  109259462.0     729795.0  175.084343  \n",
       "       2023-09-18 04:00:00+00:00   67272034.0     731499.0  177.891568  \n",
       "       2023-09-19 04:00:00+00:00   51831661.0     524532.0  178.429407  "
      ]
     },
     "execution_count": 22,
     "metadata": {},
     "output_type": "execute_result"
    }
   ],
   "source": [
    "# Data for Backtesting\n",
    "\n",
    "request = StockBarsRequest(\n",
    "                        symbol_or_symbols=[\"AAPL\", \"GOOGL\", \"MSFT\"],\n",
    "                        timeframe=TimeFrame.Day,\n",
    "                        start=\"2023-09-13 00:00:00\",\n",
    "                        end=\"2023-12-29 00:00:00\"\n",
    "                 )\n",
    "\n",
    "backtesting_bars = client.get_stock_bars(request)\n",
    "backtesting_bars_df = backtesting_bars.df\n",
    "backtesting_df = pd.DataFrame(backtesting_bars_df)\n",
    "backtesting_df.head()"
   ]
  },
  {
   "cell_type": "code",
   "execution_count": 23,
   "metadata": {
    "colab": {
     "base_uri": "https://localhost:8080/"
    },
    "executionInfo": {
     "elapsed": 3,
     "status": "ok",
     "timestamp": 1717256081541,
     "user": {
      "displayName": "Alberto Bermea Trevino",
      "userId": "18219897344377314048"
     },
     "user_tz": 300
    },
    "id": "7bTja1fOF0o3",
    "outputId": "57d779bf-15a8-478d-de42-d2f85c365b34"
   },
   "outputs": [
    {
     "data": {
      "text/plain": [
       "array([ 0,  1, -1,  1,  1, -1, -1,  1,  1, -1, -1,  1,  1,  1, -1,  1,  1,\n",
       "        1,  1, -1,  1,  1, -1, -1, -1, -1, -1, -1,  1,  1, -1, -1,  1,  1,\n",
       "        1,  1,  1, -1,  1,  1,  1, -1,  1, -1,  1,  1,  1, -1,  1, -1,  1,\n",
       "       -1, -1,  1, -1,  1,  1, -1,  1, -1,  1,  1, -1,  1,  1,  1, -1, -1,\n",
       "        1, -1, -1, -1, -1,  1,  1, -1])"
      ]
     },
     "execution_count": 23,
     "metadata": {},
     "output_type": "execute_result"
    }
   ],
   "source": [
    "def generate_signals(forecasted_prices):\n",
    "    signals = [0]\n",
    "\n",
    "    for i in range(1, len(forecasted_prices)):\n",
    "        if forecasted_prices[i] > forecasted_prices[i - 1]:\n",
    "            signals.append(1)\n",
    "        elif forecasted_prices[i] < forecasted_prices[i - 1]:\n",
    "            signals.append(-1)\n",
    "        else:\n",
    "            signals.append(0)\n",
    "\n",
    "    return signals\n",
    "\n",
    "signals = generate_signals(test_predict_rnn.squeeze())\n",
    "\n",
    "signals_rnn = np.array(signals)\n",
    "\n",
    "signals_rnn"
   ]
  },
  {
   "cell_type": "code",
   "execution_count": 24,
   "metadata": {
    "colab": {
     "base_uri": "https://localhost:8080/",
     "height": 1000
    },
    "executionInfo": {
     "elapsed": 1165,
     "status": "ok",
     "timestamp": 1717256083938,
     "user": {
      "displayName": "Alberto Bermea Trevino",
      "userId": "18219897344377314048"
     },
     "user_tz": 300
    },
    "id": "N--MFcoLFrFw",
    "outputId": "6cb4f67f-c1ff-4f3f-fc3e-12bd28df584e"
   },
   "outputs": [
    {
     "name": "stdout",
     "output_type": "stream",
     "text": [
      "Portfolio for AAPL\n",
      "                             AAPL  holdings      cash     total   returns\n",
      "timestamp                                                                \n",
      "2023-09-13 04:00:00+00:00     0.0       0.0  100000.0  100000.0       NaN\n",
      "2023-09-14 04:00:00+00:00  1757.4    1757.4   98242.6  100000.0  0.000000\n",
      "2023-09-15 04:00:00+00:00 -1750.1   -1750.1  101742.8   99992.7 -0.000073\n",
      "2023-09-18 04:00:00+00:00  1779.7    1779.7   98183.4   99963.1 -0.000296\n",
      "2023-09-19 04:00:00+00:00  1790.7    1790.7   98183.4   99974.1  0.000110\n",
      "...                           ...       ...       ...       ...       ...\n",
      "2023-12-22 05:00:00+00:00 -1936.0   -1936.0  101850.8   99914.8  0.000108\n",
      "2023-12-26 05:00:00+00:00 -1930.5   -1930.5  101850.8   99920.3  0.000055\n",
      "2023-12-27 05:00:00+00:00  1931.5    1931.5   97987.8   99919.3 -0.000010\n",
      "2023-12-28 05:00:00+00:00  1935.8    1935.8   97987.8   99923.6  0.000043\n",
      "2023-12-29 05:00:00+00:00     NaN       0.0   97987.8   97987.8 -0.019373\n",
      "\n",
      "[76 rows x 5 columns] \n",
      "\n"
     ]
    },
    {
     "data": {
      "image/png": "[encoded data removed]",
      "text/plain": [
       "<Figure size 640x480 with 1 Axes>"
      ]
     },
     "metadata": {},
     "output_type": "display_data"
    },
    {
     "name": "stdout",
     "output_type": "stream",
     "text": [
      "\n",
      "\n",
      "Portfolio for AAPL:\n",
      "                             AAPL  holdings      cash     total   returns\n",
      "timestamp                                                                \n",
      "2023-09-13 04:00:00+00:00     0.0       0.0  100000.0  100000.0       NaN\n",
      "2023-09-14 04:00:00+00:00  1757.4    1757.4   98242.6  100000.0  0.000000\n",
      "2023-09-15 04:00:00+00:00 -1750.1   -1750.1  101742.8   99992.7 -0.000073\n",
      "2023-09-18 04:00:00+00:00  1779.7    1779.7   98183.4   99963.1 -0.000296\n",
      "2023-09-19 04:00:00+00:00  1790.7    1790.7   98183.4   99974.1  0.000110\n",
      "...                           ...       ...       ...       ...       ...\n",
      "2023-12-22 05:00:00+00:00 -1936.0   -1936.0  101850.8   99914.8  0.000108\n",
      "2023-12-26 05:00:00+00:00 -1930.5   -1930.5  101850.8   99920.3  0.000055\n",
      "2023-12-27 05:00:00+00:00  1931.5    1931.5   97987.8   99919.3 -0.000010\n",
      "2023-12-28 05:00:00+00:00  1935.8    1935.8   97987.8   99923.6  0.000043\n",
      "2023-12-29 05:00:00+00:00     NaN       0.0   97987.8   97987.8 -0.019373\n",
      "\n",
      "[76 rows x 5 columns]\n"
     ]
    }
   ],
   "source": [
    "all_portfolios = {}\n",
    "\n",
    "# Create DataFrame to Store Positions for RNN\n",
    "positions_rnn = pd.DataFrame(index=rnn_signals[symbol]['index']).fillna(0.0)\n",
    "\n",
    "# Get the test timestamps for RNN forecast\n",
    "test_timestamps = symbol_data.index[-len(X_test_lstm):]\n",
    "\n",
    "# Create a Series for the RNN forecast with timestamps as index\n",
    "rnn_forecast_series = pd.Series(test_predict_rnn.squeeze(), index=test_timestamps)\n",
    "\n",
    "# Assign RNN forecast Series to rnn_signals dictionary\n",
    "rnn_signals[symbol]['forecast'] = rnn_forecast_series\n",
    "\n",
    "# Buy/Sell 10 Shares When Signal is 1/-1 for RNN\n",
    "positions_rnn[symbol] = 10 * signals_rnn\n",
    "\n",
    "positions = positions_rnn\n",
    "\n",
    "# Calculate Portfolio Based on Positions and Price\n",
    "portfolio = positions.multiply(backtesting_df.loc[symbol]['close'], axis=0)\n",
    "\n",
    "# Add 'holdings' to Portfolio\n",
    "portfolio['holdings'] = positions.multiply(backtesting_df.loc[symbol]['close'], axis=0).sum(axis=1)\n",
    "\n",
    "# Calculate Cash\n",
    "pos_diff = positions.diff()\n",
    "portfolio['cash'] = initial_capital - (pos_diff.multiply(backtesting_df.loc[symbol]['close'], axis=0)).sum(axis=1).cumsum()\n",
    "\n",
    "# Calculate Total Portfolio Value\n",
    "portfolio['total'] = portfolio['cash'] + portfolio['holdings']\n",
    "\n",
    "# Calculate Returns\n",
    "portfolio['returns'] = portfolio['total'].pct_change()\n",
    "\n",
    "# Store Portfolio in the Dictionary\n",
    "all_portfolios[symbol] = portfolio\n",
    "\n",
    "# Print Portfolio\n",
    "print(\"Portfolio for\", symbol)\n",
    "print(portfolio, \"\\n\")\n",
    "\n",
    "# Plot Portfolio\n",
    "portfolio['holdings'].plot(color='g', lw=0.5)\n",
    "portfolio['cash'].plot(color='r', lw=0.5)\n",
    "portfolio['total'].plot(color='b', lw=0.5)\n",
    "plt.title(\"Trading Strategy Portfolio for {}\".format(symbol))\n",
    "plt.legend()\n",
    "plt.show()\n",
    "print(\"\\n\")\n",
    "\n",
    "# Access Individual Portfolios\n",
    "print(\"Portfolio for AAPL:\")\n",
    "print(all_portfolios.get('AAPL'))"
   ]
  },
  {
   "cell_type": "markdown",
   "metadata": {
    "id": "TeBB9yoSHBni"
   },
   "source": [
    "# **References**\n"
   ]
  },
  {
   "cell_type": "markdown",
   "metadata": {
    "id": "WqmFu7N_RD3b"
   },
   "source": [
    "1. Chowdhury, R. (2022, February 7). *Sentiments Analysis of Financial News with News API and Transformers*. Alpaca . https://alpaca.markets/learn/sentiment-analysis-with-news-api-and-transformers/\n",
    "2. Davda, J. (2021, February 28). *Alpaca Trading API Guide – A Step-by-step Guide*. AlgoTrading101 Blog. https://algotrading101.com/learn/alpaca-trading-api-guide/\n",
    "3. Part Time Larry. (2019, September 28). *Paper trading with the alpaca API*. YouTube. https://www.youtube.com/watch?v=GsGeLHTOGAg    "
   ]
  }
 ],
 "metadata": {
  "colab": {
   "provenance": []
  },
  "kernelspec": {
   "display_name": "Python 3 (ipykernel)",
   "language": "python",
   "name": "python3"
  },
  "language_info": {
   "codemirror_mode": {
    "name": "ipython",
    "version": 3
   },
   "file_extension": ".py",
   "mimetype": "text/x-python",
   "name": "python",
   "nbconvert_exporter": "python",
   "pygments_lexer": "ipython3",
   "version": "3.11.8"
  },
  "widgets": {
   "application/vnd.jupyter.widget-state+json": {
    "046a02fc294e4e69838ef1d991229c36": {
     "model_module": "@jupyter-widgets/controls",
     "model_module_version": "1.5.0",
     "model_name": "HTMLModel",
     "state": {
      "_dom_classes": [],
      "_model_module": "@jupyter-widgets/controls",
      "_model_module_version": "1.5.0",
      "_model_name": "HTMLModel",
      "_view_count": null,
      "_view_module": "@jupyter-widgets/controls",
      "_view_module_version": "1.5.0",
      "_view_name": "HTMLView",
      "description": "",
      "description_tooltip": null,
      "layout": "IPY_MODEL_be94e971f2774889baf46cfa034c5804",
      "placeholder": "​",
      "style": "IPY_MODEL_3eba9cca862c4ea5a0319547be6f16d9",
      "value": "model.safetensors: 100%"
     }
    },
    "1211b15933c7481b971bfa96686e37d1": {
     "model_module": "@jupyter-widgets/controls",
     "model_module_version": "1.5.0",
     "model_name": "ProgressStyleModel",
     "state": {
      "_model_module": "@jupyter-widgets/controls",
      "_model_module_version": "1.5.0",
      "_model_name": "ProgressStyleModel",
      "_view_count": null,
      "_view_module": "@jupyter-widgets/base",
      "_view_module_version": "1.2.0",
      "_view_name": "StyleView",
      "bar_color": null,
      "description_width": ""
     }
    },
    "17c58deb17a5489eb33f93f5eb3c7a17": {
     "model_module": "@jupyter-widgets/controls",
     "model_module_version": "1.5.0",
     "model_name": "HBoxModel",
     "state": {
      "_dom_classes": [],
      "_model_module": "@jupyter-widgets/controls",
      "_model_module_version": "1.5.0",
      "_model_name": "HBoxModel",
      "_view_count": null,
      "_view_module": "@jupyter-widgets/controls",
      "_view_module_version": "1.5.0",
      "_view_name": "HBoxView",
      "box_style": "",
      "children": [
       "IPY_MODEL_046a02fc294e4e69838ef1d991229c36",
       "IPY_MODEL_51dc785a539d40028a64402f24eefb87",
       "IPY_MODEL_dc4639f3f1ad4b77931a60f0bcd0cc91"
      ],
      "layout": "IPY_MODEL_35e75cec09c14388b7e40212dd201818"
     }
    },
    "1febe820e2e0408cbcf29ab8fde35e86": {
     "model_module": "@jupyter-widgets/controls",
     "model_module_version": "1.5.0",
     "model_name": "HTMLModel",
     "state": {
      "_dom_classes": [],
      "_model_module": "@jupyter-widgets/controls",
      "_model_module_version": "1.5.0",
      "_model_name": "HTMLModel",
      "_view_count": null,
      "_view_module": "@jupyter-widgets/controls",
      "_view_module_version": "1.5.0",
      "_view_name": "HTMLView",
      "description": "",
      "description_tooltip": null,
      "layout": "IPY_MODEL_b624241565a8408889db156bae456e7f",
      "placeholder": "​",
      "style": "IPY_MODEL_37d69b59f31d4e4d8d9d39ed16919cbb",
      "value": "config.json: 100%"
     }
    },
    "255b2b976b7f4b6f8e1729cb4ca91b4c": {
     "model_module": "@jupyter-widgets/controls",
     "model_module_version": "1.5.0",
     "model_name": "HTMLModel",
     "state": {
      "_dom_classes": [],
      "_model_module": "@jupyter-widgets/controls",
      "_model_module_version": "1.5.0",
      "_model_name": "HTMLModel",
      "_view_count": null,
      "_view_module": "@jupyter-widgets/controls",
      "_view_module_version": "1.5.0",
      "_view_name": "HTMLView",
      "description": "",
      "description_tooltip": null,
      "layout": "IPY_MODEL_ec6381ca90a4468a88cd5f7895ac2a49",
      "placeholder": "​",
      "style": "IPY_MODEL_86fe5685349043f19b9976578b90c83d",
      "value": "tokenizer_config.json: 100%"
     }
    },
    "30076bbce215476baab546a3885c3f77": {
     "model_module": "@jupyter-widgets/base",
     "model_module_version": "1.2.0",
     "model_name": "LayoutModel",
     "state": {
      "_model_module": "@jupyter-widgets/base",
      "_model_module_version": "1.2.0",
      "_model_name": "LayoutModel",
      "_view_count": null,
      "_view_module": "@jupyter-widgets/base",
      "_view_module_version": "1.2.0",
      "_view_name": "LayoutView",
      "align_content": null,
      "align_items": null,
      "align_self": null,
      "border": null,
      "bottom": null,
      "display": null,
      "flex": null,
      "flex_flow": null,
      "grid_area": null,
      "grid_auto_columns": null,
      "grid_auto_flow": null,
      "grid_auto_rows": null,
      "grid_column": null,
      "grid_gap": null,
      "grid_row": null,
      "grid_template_areas": null,
      "grid_template_columns": null,
      "grid_template_rows": null,
      "height": null,
      "justify_content": null,
      "justify_items": null,
      "left": null,
      "margin": null,
      "max_height": null,
      "max_width": null,
      "min_height": null,
      "min_width": null,
      "object_fit": null,
      "object_position": null,
      "order": null,
      "overflow": null,
      "overflow_x": null,
      "overflow_y": null,
      "padding": null,
      "right": null,
      "top": null,
      "visibility": null,
      "width": null
     }
    },
    "34358b726d694f1f9d7d35ef3cb9e79d": {
     "model_module": "@jupyter-widgets/controls",
     "model_module_version": "1.5.0",
     "model_name": "HBoxModel",
     "state": {
      "_dom_classes": [],
      "_model_module": "@jupyter-widgets/controls",
      "_model_module_version": "1.5.0",
      "_model_name": "HBoxModel",
      "_view_count": null,
      "_view_module": "@jupyter-widgets/controls",
      "_view_module_version": "1.5.0",
      "_view_name": "HBoxView",
      "box_style": "",
      "children": [
       "IPY_MODEL_a48cda5e40d64f32979b793ae0c091f9",
       "IPY_MODEL_c3955d55b6ef4e0fb66040b400684ba6",
       "IPY_MODEL_c7c7d102480e4fb995645f09b08d8e57"
      ],
      "layout": "IPY_MODEL_be427e41548d41038fe5f98ad0770ec8"
     }
    },
    "35e75cec09c14388b7e40212dd201818": {
     "model_module": "@jupyter-widgets/base",
     "model_module_version": "1.2.0",
     "model_name": "LayoutModel",
     "state": {
      "_model_module": "@jupyter-widgets/base",
      "_model_module_version": "1.2.0",
      "_model_name": "LayoutModel",
      "_view_count": null,
      "_view_module": "@jupyter-widgets/base",
      "_view_module_version": "1.2.0",
      "_view_name": "LayoutView",
      "align_content": null,
      "align_items": null,
      "align_self": null,
      "border": null,
      "bottom": null,
      "display": null,
      "flex": null,
      "flex_flow": null,
      "grid_area": null,
      "grid_auto_columns": null,
      "grid_auto_flow": null,
      "grid_auto_rows": null,
      "grid_column": null,
      "grid_gap": null,
      "grid_row": null,
      "grid_template_areas": null,
      "grid_template_columns": null,
      "grid_template_rows": null,
      "height": null,
      "justify_content": null,
      "justify_items": null,
      "left": null,
      "margin": null,
      "max_height": null,
      "max_width": null,
      "min_height": null,
      "min_width": null,
      "object_fit": null,
      "object_position": null,
      "order": null,
      "overflow": null,
      "overflow_x": null,
      "overflow_y": null,
      "padding": null,
      "right": null,
      "top": null,
      "visibility": null,
      "width": null
     }
    },
    "37d69b59f31d4e4d8d9d39ed16919cbb": {
     "model_module": "@jupyter-widgets/controls",
     "model_module_version": "1.5.0",
     "model_name": "DescriptionStyleModel",
     "state": {
      "_model_module": "@jupyter-widgets/controls",
      "_model_module_version": "1.5.0",
      "_model_name": "DescriptionStyleModel",
      "_view_count": null,
      "_view_module": "@jupyter-widgets/base",
      "_view_module_version": "1.2.0",
      "_view_name": "StyleView",
      "description_width": ""
     }
    },
    "3eba9cca862c4ea5a0319547be6f16d9": {
     "model_module": "@jupyter-widgets/controls",
     "model_module_version": "1.5.0",
     "model_name": "DescriptionStyleModel",
     "state": {
      "_model_module": "@jupyter-widgets/controls",
      "_model_module_version": "1.5.0",
      "_model_name": "DescriptionStyleModel",
      "_view_count": null,
      "_view_module": "@jupyter-widgets/base",
      "_view_module_version": "1.2.0",
      "_view_name": "StyleView",
      "description_width": ""
     }
    },
    "4f5e3429c30f4d32b954873803768c85": {
     "model_module": "@jupyter-widgets/base",
     "model_module_version": "1.2.0",
     "model_name": "LayoutModel",
     "state": {
      "_model_module": "@jupyter-widgets/base",
      "_model_module_version": "1.2.0",
      "_model_name": "LayoutModel",
      "_view_count": null,
      "_view_module": "@jupyter-widgets/base",
      "_view_module_version": "1.2.0",
      "_view_name": "LayoutView",
      "align_content": null,
      "align_items": null,
      "align_self": null,
      "border": null,
      "bottom": null,
      "display": null,
      "flex": null,
      "flex_flow": null,
      "grid_area": null,
      "grid_auto_columns": null,
      "grid_auto_flow": null,
      "grid_auto_rows": null,
      "grid_column": null,
      "grid_gap": null,
      "grid_row": null,
      "grid_template_areas": null,
      "grid_template_columns": null,
      "grid_template_rows": null,
      "height": null,
      "justify_content": null,
      "justify_items": null,
      "left": null,
      "margin": null,
      "max_height": null,
      "max_width": null,
      "min_height": null,
      "min_width": null,
      "object_fit": null,
      "object_position": null,
      "order": null,
      "overflow": null,
      "overflow_x": null,
      "overflow_y": null,
      "padding": null,
      "right": null,
      "top": null,
      "visibility": null,
      "width": null
     }
    },
    "51dc785a539d40028a64402f24eefb87": {
     "model_module": "@jupyter-widgets/controls",
     "model_module_version": "1.5.0",
     "model_name": "FloatProgressModel",
     "state": {
      "_dom_classes": [],
      "_model_module": "@jupyter-widgets/controls",
      "_model_module_version": "1.5.0",
      "_model_name": "FloatProgressModel",
      "_view_count": null,
      "_view_module": "@jupyter-widgets/controls",
      "_view_module_version": "1.5.0",
      "_view_name": "ProgressView",
      "bar_style": "success",
      "description": "",
      "description_tooltip": null,
      "layout": "IPY_MODEL_5859db749c114a3abd04b7e0bc35ea7d",
      "max": 267832558,
      "min": 0,
      "orientation": "horizontal",
      "style": "IPY_MODEL_1211b15933c7481b971bfa96686e37d1",
      "value": 267832558
     }
    },
    "5859db749c114a3abd04b7e0bc35ea7d": {
     "model_module": "@jupyter-widgets/base",
     "model_module_version": "1.2.0",
     "model_name": "LayoutModel",
     "state": {
      "_model_module": "@jupyter-widgets/base",
      "_model_module_version": "1.2.0",
      "_model_name": "LayoutModel",
      "_view_count": null,
      "_view_module": "@jupyter-widgets/base",
      "_view_module_version": "1.2.0",
      "_view_name": "LayoutView",
      "align_content": null,
      "align_items": null,
      "align_self": null,
      "border": null,
      "bottom": null,
      "display": null,
      "flex": null,
      "flex_flow": null,
      "grid_area": null,
      "grid_auto_columns": null,
      "grid_auto_flow": null,
      "grid_auto_rows": null,
      "grid_column": null,
      "grid_gap": null,
      "grid_row": null,
      "grid_template_areas": null,
      "grid_template_columns": null,
      "grid_template_rows": null,
      "height": null,
      "justify_content": null,
      "justify_items": null,
      "left": null,
      "margin": null,
      "max_height": null,
      "max_width": null,
      "min_height": null,
      "min_width": null,
      "object_fit": null,
      "object_position": null,
      "order": null,
      "overflow": null,
      "overflow_x": null,
      "overflow_y": null,
      "padding": null,
      "right": null,
      "top": null,
      "visibility": null,
      "width": null
     }
    },
    "6196cebc03294414ba5102adbe7c9b7f": {
     "model_module": "@jupyter-widgets/controls",
     "model_module_version": "1.5.0",
     "model_name": "ProgressStyleModel",
     "state": {
      "_model_module": "@jupyter-widgets/controls",
      "_model_module_version": "1.5.0",
      "_model_name": "ProgressStyleModel",
      "_view_count": null,
      "_view_module": "@jupyter-widgets/base",
      "_view_module_version": "1.2.0",
      "_view_name": "StyleView",
      "bar_color": null,
      "description_width": ""
     }
    },
    "668459ec79b54ad893e6c53a90559749": {
     "model_module": "@jupyter-widgets/base",
     "model_module_version": "1.2.0",
     "model_name": "LayoutModel",
     "state": {
      "_model_module": "@jupyter-widgets/base",
      "_model_module_version": "1.2.0",
      "_model_name": "LayoutModel",
      "_view_count": null,
      "_view_module": "@jupyter-widgets/base",
      "_view_module_version": "1.2.0",
      "_view_name": "LayoutView",
      "align_content": null,
      "align_items": null,
      "align_self": null,
      "border": null,
      "bottom": null,
      "display": null,
      "flex": null,
      "flex_flow": null,
      "grid_area": null,
      "grid_auto_columns": null,
      "grid_auto_flow": null,
      "grid_auto_rows": null,
      "grid_column": null,
      "grid_gap": null,
      "grid_row": null,
      "grid_template_areas": null,
      "grid_template_columns": null,
      "grid_template_rows": null,
      "height": null,
      "justify_content": null,
      "justify_items": null,
      "left": null,
      "margin": null,
      "max_height": null,
      "max_width": null,
      "min_height": null,
      "min_width": null,
      "object_fit": null,
      "object_position": null,
      "order": null,
      "overflow": null,
      "overflow_x": null,
      "overflow_y": null,
      "padding": null,
      "right": null,
      "top": null,
      "visibility": null,
      "width": null
     }
    },
    "6e2085e586114daf904a459ef8a4a76e": {
     "model_module": "@jupyter-widgets/base",
     "model_module_version": "1.2.0",
     "model_name": "LayoutModel",
     "state": {
      "_model_module": "@jupyter-widgets/base",
      "_model_module_version": "1.2.0",
      "_model_name": "LayoutModel",
      "_view_count": null,
      "_view_module": "@jupyter-widgets/base",
      "_view_module_version": "1.2.0",
      "_view_name": "LayoutView",
      "align_content": null,
      "align_items": null,
      "align_self": null,
      "border": null,
      "bottom": null,
      "display": null,
      "flex": null,
      "flex_flow": null,
      "grid_area": null,
      "grid_auto_columns": null,
      "grid_auto_flow": null,
      "grid_auto_rows": null,
      "grid_column": null,
      "grid_gap": null,
      "grid_row": null,
      "grid_template_areas": null,
      "grid_template_columns": null,
      "grid_template_rows": null,
      "height": null,
      "justify_content": null,
      "justify_items": null,
      "left": null,
      "margin": null,
      "max_height": null,
      "max_width": null,
      "min_height": null,
      "min_width": null,
      "object_fit": null,
      "object_position": null,
      "order": null,
      "overflow": null,
      "overflow_x": null,
      "overflow_y": null,
      "padding": null,
      "right": null,
      "top": null,
      "visibility": null,
      "width": null
     }
    },
    "6ef0219ef7fb441da24140b04eff3ab7": {
     "model_module": "@jupyter-widgets/controls",
     "model_module_version": "1.5.0",
     "model_name": "FloatProgressModel",
     "state": {
      "_dom_classes": [],
      "_model_module": "@jupyter-widgets/controls",
      "_model_module_version": "1.5.0",
      "_model_name": "FloatProgressModel",
      "_view_count": null,
      "_view_module": "@jupyter-widgets/controls",
      "_view_module_version": "1.5.0",
      "_view_name": "ProgressView",
      "bar_style": "success",
      "description": "",
      "description_tooltip": null,
      "layout": "IPY_MODEL_4f5e3429c30f4d32b954873803768c85",
      "max": 629,
      "min": 0,
      "orientation": "horizontal",
      "style": "IPY_MODEL_a32a95fa0f27408ebe2e15d44d4ed6d4",
      "value": 629
     }
    },
    "728b981be08c418fa4170d2bc54b784d": {
     "model_module": "@jupyter-widgets/base",
     "model_module_version": "1.2.0",
     "model_name": "LayoutModel",
     "state": {
      "_model_module": "@jupyter-widgets/base",
      "_model_module_version": "1.2.0",
      "_model_name": "LayoutModel",
      "_view_count": null,
      "_view_module": "@jupyter-widgets/base",
      "_view_module_version": "1.2.0",
      "_view_name": "LayoutView",
      "align_content": null,
      "align_items": null,
      "align_self": null,
      "border": null,
      "bottom": null,
      "display": null,
      "flex": null,
      "flex_flow": null,
      "grid_area": null,
      "grid_auto_columns": null,
      "grid_auto_flow": null,
      "grid_auto_rows": null,
      "grid_column": null,
      "grid_gap": null,
      "grid_row": null,
      "grid_template_areas": null,
      "grid_template_columns": null,
      "grid_template_rows": null,
      "height": null,
      "justify_content": null,
      "justify_items": null,
      "left": null,
      "margin": null,
      "max_height": null,
      "max_width": null,
      "min_height": null,
      "min_width": null,
      "object_fit": null,
      "object_position": null,
      "order": null,
      "overflow": null,
      "overflow_x": null,
      "overflow_y": null,
      "padding": null,
      "right": null,
      "top": null,
      "visibility": null,
      "width": null
     }
    },
    "80cfbe718fc04445b0ee50e03b633cba": {
     "model_module": "@jupyter-widgets/controls",
     "model_module_version": "1.5.0",
     "model_name": "HTMLModel",
     "state": {
      "_dom_classes": [],
      "_model_module": "@jupyter-widgets/controls",
      "_model_module_version": "1.5.0",
      "_model_name": "HTMLModel",
      "_view_count": null,
      "_view_module": "@jupyter-widgets/controls",
      "_view_module_version": "1.5.0",
      "_view_name": "HTMLView",
      "description": "",
      "description_tooltip": null,
      "layout": "IPY_MODEL_9f46cd1c05324c43a83d7d8978879d6e",
      "placeholder": "​",
      "style": "IPY_MODEL_b0dfac4e5d04494b94c2ed642cc1df91",
      "value": " 629/629 [00:00&lt;00:00, 8.94kB/s]"
     }
    },
    "82ffc7700e6c4139bc222e57f90568cb": {
     "model_module": "@jupyter-widgets/controls",
     "model_module_version": "1.5.0",
     "model_name": "HBoxModel",
     "state": {
      "_dom_classes": [],
      "_model_module": "@jupyter-widgets/controls",
      "_model_module_version": "1.5.0",
      "_model_name": "HBoxModel",
      "_view_count": null,
      "_view_module": "@jupyter-widgets/controls",
      "_view_module_version": "1.5.0",
      "_view_name": "HBoxView",
      "box_style": "",
      "children": [
       "IPY_MODEL_255b2b976b7f4b6f8e1729cb4ca91b4c",
       "IPY_MODEL_e7e71fc50c124c68b7348c2f02190956",
       "IPY_MODEL_83b82910bae54c7ca14a331b37730094"
      ],
      "layout": "IPY_MODEL_87a0ab523f40472c88928a22c4b06cec"
     }
    },
    "83b82910bae54c7ca14a331b37730094": {
     "model_module": "@jupyter-widgets/controls",
     "model_module_version": "1.5.0",
     "model_name": "HTMLModel",
     "state": {
      "_dom_classes": [],
      "_model_module": "@jupyter-widgets/controls",
      "_model_module_version": "1.5.0",
      "_model_name": "HTMLModel",
      "_view_count": null,
      "_view_module": "@jupyter-widgets/controls",
      "_view_module_version": "1.5.0",
      "_view_name": "HTMLView",
      "description": "",
      "description_tooltip": null,
      "layout": "IPY_MODEL_6e2085e586114daf904a459ef8a4a76e",
      "placeholder": "​",
      "style": "IPY_MODEL_fb4acf7fd8e940ce89cb49bc1f00988a",
      "value": " 48.0/48.0 [00:00&lt;00:00, 955B/s]"
     }
    },
    "86fe5685349043f19b9976578b90c83d": {
     "model_module": "@jupyter-widgets/controls",
     "model_module_version": "1.5.0",
     "model_name": "DescriptionStyleModel",
     "state": {
      "_model_module": "@jupyter-widgets/controls",
      "_model_module_version": "1.5.0",
      "_model_name": "DescriptionStyleModel",
      "_view_count": null,
      "_view_module": "@jupyter-widgets/base",
      "_view_module_version": "1.2.0",
      "_view_name": "StyleView",
      "description_width": ""
     }
    },
    "87a0ab523f40472c88928a22c4b06cec": {
     "model_module": "@jupyter-widgets/base",
     "model_module_version": "1.2.0",
     "model_name": "LayoutModel",
     "state": {
      "_model_module": "@jupyter-widgets/base",
      "_model_module_version": "1.2.0",
      "_model_name": "LayoutModel",
      "_view_count": null,
      "_view_module": "@jupyter-widgets/base",
      "_view_module_version": "1.2.0",
      "_view_name": "LayoutView",
      "align_content": null,
      "align_items": null,
      "align_self": null,
      "border": null,
      "bottom": null,
      "display": null,
      "flex": null,
      "flex_flow": null,
      "grid_area": null,
      "grid_auto_columns": null,
      "grid_auto_flow": null,
      "grid_auto_rows": null,
      "grid_column": null,
      "grid_gap": null,
      "grid_row": null,
      "grid_template_areas": null,
      "grid_template_columns": null,
      "grid_template_rows": null,
      "height": null,
      "justify_content": null,
      "justify_items": null,
      "left": null,
      "margin": null,
      "max_height": null,
      "max_width": null,
      "min_height": null,
      "min_width": null,
      "object_fit": null,
      "object_position": null,
      "order": null,
      "overflow": null,
      "overflow_x": null,
      "overflow_y": null,
      "padding": null,
      "right": null,
      "top": null,
      "visibility": null,
      "width": null
     }
    },
    "9b792a687d5b45bc8ba838856a6ebc34": {
     "model_module": "@jupyter-widgets/controls",
     "model_module_version": "1.5.0",
     "model_name": "ProgressStyleModel",
     "state": {
      "_model_module": "@jupyter-widgets/controls",
      "_model_module_version": "1.5.0",
      "_model_name": "ProgressStyleModel",
      "_view_count": null,
      "_view_module": "@jupyter-widgets/base",
      "_view_module_version": "1.2.0",
      "_view_name": "StyleView",
      "bar_color": null,
      "description_width": ""
     }
    },
    "9f46cd1c05324c43a83d7d8978879d6e": {
     "model_module": "@jupyter-widgets/base",
     "model_module_version": "1.2.0",
     "model_name": "LayoutModel",
     "state": {
      "_model_module": "@jupyter-widgets/base",
      "_model_module_version": "1.2.0",
      "_model_name": "LayoutModel",
      "_view_count": null,
      "_view_module": "@jupyter-widgets/base",
      "_view_module_version": "1.2.0",
      "_view_name": "LayoutView",
      "align_content": null,
      "align_items": null,
      "align_self": null,
      "border": null,
      "bottom": null,
      "display": null,
      "flex": null,
      "flex_flow": null,
      "grid_area": null,
      "grid_auto_columns": null,
      "grid_auto_flow": null,
      "grid_auto_rows": null,
      "grid_column": null,
      "grid_gap": null,
      "grid_row": null,
      "grid_template_areas": null,
      "grid_template_columns": null,
      "grid_template_rows": null,
      "height": null,
      "justify_content": null,
      "justify_items": null,
      "left": null,
      "margin": null,
      "max_height": null,
      "max_width": null,
      "min_height": null,
      "min_width": null,
      "object_fit": null,
      "object_position": null,
      "order": null,
      "overflow": null,
      "overflow_x": null,
      "overflow_y": null,
      "padding": null,
      "right": null,
      "top": null,
      "visibility": null,
      "width": null
     }
    },
    "a32a95fa0f27408ebe2e15d44d4ed6d4": {
     "model_module": "@jupyter-widgets/controls",
     "model_module_version": "1.5.0",
     "model_name": "ProgressStyleModel",
     "state": {
      "_model_module": "@jupyter-widgets/controls",
      "_model_module_version": "1.5.0",
      "_model_name": "ProgressStyleModel",
      "_view_count": null,
      "_view_module": "@jupyter-widgets/base",
      "_view_module_version": "1.2.0",
      "_view_name": "StyleView",
      "bar_color": null,
      "description_width": ""
     }
    },
    "a48cda5e40d64f32979b793ae0c091f9": {
     "model_module": "@jupyter-widgets/controls",
     "model_module_version": "1.5.0",
     "model_name": "HTMLModel",
     "state": {
      "_dom_classes": [],
      "_model_module": "@jupyter-widgets/controls",
      "_model_module_version": "1.5.0",
      "_model_name": "HTMLModel",
      "_view_count": null,
      "_view_module": "@jupyter-widgets/controls",
      "_view_module_version": "1.5.0",
      "_view_name": "HTMLView",
      "description": "",
      "description_tooltip": null,
      "layout": "IPY_MODEL_cdd50ac3acf54d5fa841aa599da5f5b9",
      "placeholder": "​",
      "style": "IPY_MODEL_bc0e45068c7a4a33ad1571cd45e5cffd",
      "value": "vocab.txt: 100%"
     }
    },
    "a734242d9b9444179e2cf21cfa02639e": {
     "model_module": "@jupyter-widgets/controls",
     "model_module_version": "1.5.0",
     "model_name": "HBoxModel",
     "state": {
      "_dom_classes": [],
      "_model_module": "@jupyter-widgets/controls",
      "_model_module_version": "1.5.0",
      "_model_name": "HBoxModel",
      "_view_count": null,
      "_view_module": "@jupyter-widgets/controls",
      "_view_module_version": "1.5.0",
      "_view_name": "HBoxView",
      "box_style": "",
      "children": [
       "IPY_MODEL_1febe820e2e0408cbcf29ab8fde35e86",
       "IPY_MODEL_6ef0219ef7fb441da24140b04eff3ab7",
       "IPY_MODEL_80cfbe718fc04445b0ee50e03b633cba"
      ],
      "layout": "IPY_MODEL_f939a72edc694f2e9e723a9e93ff4ba0"
     }
    },
    "b0dfac4e5d04494b94c2ed642cc1df91": {
     "model_module": "@jupyter-widgets/controls",
     "model_module_version": "1.5.0",
     "model_name": "DescriptionStyleModel",
     "state": {
      "_model_module": "@jupyter-widgets/controls",
      "_model_module_version": "1.5.0",
      "_model_name": "DescriptionStyleModel",
      "_view_count": null,
      "_view_module": "@jupyter-widgets/base",
      "_view_module_version": "1.2.0",
      "_view_name": "StyleView",
      "description_width": ""
     }
    },
    "b4109106291d4e0fb736eab580cbad4c": {
     "model_module": "@jupyter-widgets/controls",
     "model_module_version": "1.5.0",
     "model_name": "DescriptionStyleModel",
     "state": {
      "_model_module": "@jupyter-widgets/controls",
      "_model_module_version": "1.5.0",
      "_model_name": "DescriptionStyleModel",
      "_view_count": null,
      "_view_module": "@jupyter-widgets/base",
      "_view_module_version": "1.2.0",
      "_view_name": "StyleView",
      "description_width": ""
     }
    },
    "b624241565a8408889db156bae456e7f": {
     "model_module": "@jupyter-widgets/base",
     "model_module_version": "1.2.0",
     "model_name": "LayoutModel",
     "state": {
      "_model_module": "@jupyter-widgets/base",
      "_model_module_version": "1.2.0",
      "_model_name": "LayoutModel",
      "_view_count": null,
      "_view_module": "@jupyter-widgets/base",
      "_view_module_version": "1.2.0",
      "_view_name": "LayoutView",
      "align_content": null,
      "align_items": null,
      "align_self": null,
      "border": null,
      "bottom": null,
      "display": null,
      "flex": null,
      "flex_flow": null,
      "grid_area": null,
      "grid_auto_columns": null,
      "grid_auto_flow": null,
      "grid_auto_rows": null,
      "grid_column": null,
      "grid_gap": null,
      "grid_row": null,
      "grid_template_areas": null,
      "grid_template_columns": null,
      "grid_template_rows": null,
      "height": null,
      "justify_content": null,
      "justify_items": null,
      "left": null,
      "margin": null,
      "max_height": null,
      "max_width": null,
      "min_height": null,
      "min_width": null,
      "object_fit": null,
      "object_position": null,
      "order": null,
      "overflow": null,
      "overflow_x": null,
      "overflow_y": null,
      "padding": null,
      "right": null,
      "top": null,
      "visibility": null,
      "width": null
     }
    },
    "bc0e45068c7a4a33ad1571cd45e5cffd": {
     "model_module": "@jupyter-widgets/controls",
     "model_module_version": "1.5.0",
     "model_name": "DescriptionStyleModel",
     "state": {
      "_model_module": "@jupyter-widgets/controls",
      "_model_module_version": "1.5.0",
      "_model_name": "DescriptionStyleModel",
      "_view_count": null,
      "_view_module": "@jupyter-widgets/base",
      "_view_module_version": "1.2.0",
      "_view_name": "StyleView",
      "description_width": ""
     }
    },
    "be427e41548d41038fe5f98ad0770ec8": {
     "model_module": "@jupyter-widgets/base",
     "model_module_version": "1.2.0",
     "model_name": "LayoutModel",
     "state": {
      "_model_module": "@jupyter-widgets/base",
      "_model_module_version": "1.2.0",
      "_model_name": "LayoutModel",
      "_view_count": null,
      "_view_module": "@jupyter-widgets/base",
      "_view_module_version": "1.2.0",
      "_view_name": "LayoutView",
      "align_content": null,
      "align_items": null,
      "align_self": null,
      "border": null,
      "bottom": null,
      "display": null,
      "flex": null,
      "flex_flow": null,
      "grid_area": null,
      "grid_auto_columns": null,
      "grid_auto_flow": null,
      "grid_auto_rows": null,
      "grid_column": null,
      "grid_gap": null,
      "grid_row": null,
      "grid_template_areas": null,
      "grid_template_columns": null,
      "grid_template_rows": null,
      "height": null,
      "justify_content": null,
      "justify_items": null,
      "left": null,
      "margin": null,
      "max_height": null,
      "max_width": null,
      "min_height": null,
      "min_width": null,
      "object_fit": null,
      "object_position": null,
      "order": null,
      "overflow": null,
      "overflow_x": null,
      "overflow_y": null,
      "padding": null,
      "right": null,
      "top": null,
      "visibility": null,
      "width": null
     }
    },
    "be94e971f2774889baf46cfa034c5804": {
     "model_module": "@jupyter-widgets/base",
     "model_module_version": "1.2.0",
     "model_name": "LayoutModel",
     "state": {
      "_model_module": "@jupyter-widgets/base",
      "_model_module_version": "1.2.0",
      "_model_name": "LayoutModel",
      "_view_count": null,
      "_view_module": "@jupyter-widgets/base",
      "_view_module_version": "1.2.0",
      "_view_name": "LayoutView",
      "align_content": null,
      "align_items": null,
      "align_self": null,
      "border": null,
      "bottom": null,
      "display": null,
      "flex": null,
      "flex_flow": null,
      "grid_area": null,
      "grid_auto_columns": null,
      "grid_auto_flow": null,
      "grid_auto_rows": null,
      "grid_column": null,
      "grid_gap": null,
      "grid_row": null,
      "grid_template_areas": null,
      "grid_template_columns": null,
      "grid_template_rows": null,
      "height": null,
      "justify_content": null,
      "justify_items": null,
      "left": null,
      "margin": null,
      "max_height": null,
      "max_width": null,
      "min_height": null,
      "min_width": null,
      "object_fit": null,
      "object_position": null,
      "order": null,
      "overflow": null,
      "overflow_x": null,
      "overflow_y": null,
      "padding": null,
      "right": null,
      "top": null,
      "visibility": null,
      "width": null
     }
    },
    "c3955d55b6ef4e0fb66040b400684ba6": {
     "model_module": "@jupyter-widgets/controls",
     "model_module_version": "1.5.0",
     "model_name": "FloatProgressModel",
     "state": {
      "_dom_classes": [],
      "_model_module": "@jupyter-widgets/controls",
      "_model_module_version": "1.5.0",
      "_model_name": "FloatProgressModel",
      "_view_count": null,
      "_view_module": "@jupyter-widgets/controls",
      "_view_module_version": "1.5.0",
      "_view_name": "ProgressView",
      "bar_style": "success",
      "description": "",
      "description_tooltip": null,
      "layout": "IPY_MODEL_668459ec79b54ad893e6c53a90559749",
      "max": 231508,
      "min": 0,
      "orientation": "horizontal",
      "style": "IPY_MODEL_6196cebc03294414ba5102adbe7c9b7f",
      "value": 231508
     }
    },
    "c7c7d102480e4fb995645f09b08d8e57": {
     "model_module": "@jupyter-widgets/controls",
     "model_module_version": "1.5.0",
     "model_name": "HTMLModel",
     "state": {
      "_dom_classes": [],
      "_model_module": "@jupyter-widgets/controls",
      "_model_module_version": "1.5.0",
      "_model_name": "HTMLModel",
      "_view_count": null,
      "_view_module": "@jupyter-widgets/controls",
      "_view_module_version": "1.5.0",
      "_view_name": "HTMLView",
      "description": "",
      "description_tooltip": null,
      "layout": "IPY_MODEL_f17a2fcd7d5a49738cc951e6fce4cda7",
      "placeholder": "​",
      "style": "IPY_MODEL_ef7c580b1d32400598fde2422579701f",
      "value": " 232k/232k [00:00&lt;00:00, 2.36MB/s]"
     }
    },
    "cdd50ac3acf54d5fa841aa599da5f5b9": {
     "model_module": "@jupyter-widgets/base",
     "model_module_version": "1.2.0",
     "model_name": "LayoutModel",
     "state": {
      "_model_module": "@jupyter-widgets/base",
      "_model_module_version": "1.2.0",
      "_model_name": "LayoutModel",
      "_view_count": null,
      "_view_module": "@jupyter-widgets/base",
      "_view_module_version": "1.2.0",
      "_view_name": "LayoutView",
      "align_content": null,
      "align_items": null,
      "align_self": null,
      "border": null,
      "bottom": null,
      "display": null,
      "flex": null,
      "flex_flow": null,
      "grid_area": null,
      "grid_auto_columns": null,
      "grid_auto_flow": null,
      "grid_auto_rows": null,
      "grid_column": null,
      "grid_gap": null,
      "grid_row": null,
      "grid_template_areas": null,
      "grid_template_columns": null,
      "grid_template_rows": null,
      "height": null,
      "justify_content": null,
      "justify_items": null,
      "left": null,
      "margin": null,
      "max_height": null,
      "max_width": null,
      "min_height": null,
      "min_width": null,
      "object_fit": null,
      "object_position": null,
      "order": null,
      "overflow": null,
      "overflow_x": null,
      "overflow_y": null,
      "padding": null,
      "right": null,
      "top": null,
      "visibility": null,
      "width": null
     }
    },
    "dc4639f3f1ad4b77931a60f0bcd0cc91": {
     "model_module": "@jupyter-widgets/controls",
     "model_module_version": "1.5.0",
     "model_name": "HTMLModel",
     "state": {
      "_dom_classes": [],
      "_model_module": "@jupyter-widgets/controls",
      "_model_module_version": "1.5.0",
      "_model_name": "HTMLModel",
      "_view_count": null,
      "_view_module": "@jupyter-widgets/controls",
      "_view_module_version": "1.5.0",
      "_view_name": "HTMLView",
      "description": "",
      "description_tooltip": null,
      "layout": "IPY_MODEL_728b981be08c418fa4170d2bc54b784d",
      "placeholder": "​",
      "style": "IPY_MODEL_b4109106291d4e0fb736eab580cbad4c",
      "value": " 268M/268M [00:02&lt;00:00, 150MB/s]"
     }
    },
    "e7e71fc50c124c68b7348c2f02190956": {
     "model_module": "@jupyter-widgets/controls",
     "model_module_version": "1.5.0",
     "model_name": "FloatProgressModel",
     "state": {
      "_dom_classes": [],
      "_model_module": "@jupyter-widgets/controls",
      "_model_module_version": "1.5.0",
      "_model_name": "FloatProgressModel",
      "_view_count": null,
      "_view_module": "@jupyter-widgets/controls",
      "_view_module_version": "1.5.0",
      "_view_name": "ProgressView",
      "bar_style": "success",
      "description": "",
      "description_tooltip": null,
      "layout": "IPY_MODEL_30076bbce215476baab546a3885c3f77",
      "max": 48,
      "min": 0,
      "orientation": "horizontal",
      "style": "IPY_MODEL_9b792a687d5b45bc8ba838856a6ebc34",
      "value": 48
     }
    },
    "ec6381ca90a4468a88cd5f7895ac2a49": {
     "model_module": "@jupyter-widgets/base",
     "model_module_version": "1.2.0",
     "model_name": "LayoutModel",
     "state": {
      "_model_module": "@jupyter-widgets/base",
      "_model_module_version": "1.2.0",
      "_model_name": "LayoutModel",
      "_view_count": null,
      "_view_module": "@jupyter-widgets/base",
      "_view_module_version": "1.2.0",
      "_view_name": "LayoutView",
      "align_content": null,
      "align_items": null,
      "align_self": null,
      "border": null,
      "bottom": null,
      "display": null,
      "flex": null,
      "flex_flow": null,
      "grid_area": null,
      "grid_auto_columns": null,
      "grid_auto_flow": null,
      "grid_auto_rows": null,
      "grid_column": null,
      "grid_gap": null,
      "grid_row": null,
      "grid_template_areas": null,
      "grid_template_columns": null,
      "grid_template_rows": null,
      "height": null,
      "justify_content": null,
      "justify_items": null,
      "left": null,
      "margin": null,
      "max_height": null,
      "max_width": null,
      "min_height": null,
      "min_width": null,
      "object_fit": null,
      "object_position": null,
      "order": null,
      "overflow": null,
      "overflow_x": null,
      "overflow_y": null,
      "padding": null,
      "right": null,
      "top": null,
      "visibility": null,
      "width": null
     }
    },
    "ef7c580b1d32400598fde2422579701f": {
     "model_module": "@jupyter-widgets/controls",
     "model_module_version": "1.5.0",
     "model_name": "DescriptionStyleModel",
     "state": {
      "_model_module": "@jupyter-widgets/controls",
      "_model_module_version": "1.5.0",
      "_model_name": "DescriptionStyleModel",
      "_view_count": null,
      "_view_module": "@jupyter-widgets/base",
      "_view_module_version": "1.2.0",
      "_view_name": "StyleView",
      "description_width": ""
     }
    },
    "f17a2fcd7d5a49738cc951e6fce4cda7": {
     "model_module": "@jupyter-widgets/base",
     "model_module_version": "1.2.0",
     "model_name": "LayoutModel",
     "state": {
      "_model_module": "@jupyter-widgets/base",
      "_model_module_version": "1.2.0",
      "_model_name": "LayoutModel",
      "_view_count": null,
      "_view_module": "@jupyter-widgets/base",
      "_view_module_version": "1.2.0",
      "_view_name": "LayoutView",
      "align_content": null,
      "align_items": null,
      "align_self": null,
      "border": null,
      "bottom": null,
      "display": null,
      "flex": null,
      "flex_flow": null,
      "grid_area": null,
      "grid_auto_columns": null,
      "grid_auto_flow": null,
      "grid_auto_rows": null,
      "grid_column": null,
      "grid_gap": null,
      "grid_row": null,
      "grid_template_areas": null,
      "grid_template_columns": null,
      "grid_template_rows": null,
      "height": null,
      "justify_content": null,
      "justify_items": null,
      "left": null,
      "margin": null,
      "max_height": null,
      "max_width": null,
      "min_height": null,
      "min_width": null,
      "object_fit": null,
      "object_position": null,
      "order": null,
      "overflow": null,
      "overflow_x": null,
      "overflow_y": null,
      "padding": null,
      "right": null,
      "top": null,
      "visibility": null,
      "width": null
     }
    },
    "f939a72edc694f2e9e723a9e93ff4ba0": {
     "model_module": "@jupyter-widgets/base",
     "model_module_version": "1.2.0",
     "model_name": "LayoutModel",
     "state": {
      "_model_module": "@jupyter-widgets/base",
      "_model_module_version": "1.2.0",
      "_model_name": "LayoutModel",
      "_view_count": null,
      "_view_module": "@jupyter-widgets/base",
      "_view_module_version": "1.2.0",
      "_view_name": "LayoutView",
      "align_content": null,
      "align_items": null,
      "align_self": null,
      "border": null,
      "bottom": null,
      "display": null,
      "flex": null,
      "flex_flow": null,
      "grid_area": null,
      "grid_auto_columns": null,
      "grid_auto_flow": null,
      "grid_auto_rows": null,
      "grid_column": null,
      "grid_gap": null,
      "grid_row": null,
      "grid_template_areas": null,
      "grid_template_columns": null,
      "grid_template_rows": null,
      "height": null,
      "justify_content": null,
      "justify_items": null,
      "left": null,
      "margin": null,
      "max_height": null,
      "max_width": null,
      "min_height": null,
      "min_width": null,
      "object_fit": null,
      "object_position": null,
      "order": null,
      "overflow": null,
      "overflow_x": null,
      "overflow_y": null,
      "padding": null,
      "right": null,
      "top": null,
      "visibility": null,
      "width": null
     }
    },
    "fb4acf7fd8e940ce89cb49bc1f00988a": {
     "model_module": "@jupyter-widgets/controls",
     "model_module_version": "1.5.0",
     "model_name": "DescriptionStyleModel",
     "state": {
      "_model_module": "@jupyter-widgets/controls",
      "_model_module_version": "1.5.0",
      "_model_name": "DescriptionStyleModel",
      "_view_count": null,
      "_view_module": "@jupyter-widgets/base",
      "_view_module_version": "1.2.0",
      "_view_name": "StyleView",
      "description_width": ""
     }
    }
   }
  }
 },
 "nbformat": 4,
 "nbformat_minor": 4
}
